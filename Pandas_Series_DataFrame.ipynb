{
  "nbformat": 4,
  "nbformat_minor": 0,
  "metadata": {
    "colab": {
      "provenance": [],
      "authorship_tag": "ABX9TyNL5mKazpCqXCyeH8YKGypM",
      "include_colab_link": true
    },
    "kernelspec": {
      "name": "python3",
      "display_name": "Python 3"
    },
    "language_info": {
      "name": "python"
    }
  },
  "cells": [
    {
      "cell_type": "markdown",
      "metadata": {
        "id": "view-in-github",
        "colab_type": "text"
      },
      "source": [
        "<a href=\"https://colab.research.google.com/github/birusolankar/Pandas/blob/main/Pandas_Series_DataFrame.ipynb\" target=\"_parent\"><img src=\"https://colab.research.google.com/assets/colab-badge.svg\" alt=\"Open In Colab\"/></a>"
      ]
    },
    {
      "cell_type": "code",
      "execution_count": null,
      "metadata": {
        "colab": {
          "base_uri": "https://localhost:8080/"
        },
        "id": "mgVlfJI9m4yw",
        "outputId": "65d90cc2-e4ec-4af4-f023-fbdb70780fea"
      },
      "outputs": [
        {
          "output_type": "stream",
          "name": "stdout",
          "text": [
            "hello world\n"
          ]
        }
      ],
      "source": [
        "print(\"hello world\")"
      ]
    },
    {
      "cell_type": "code",
      "source": [],
      "metadata": {
        "id": "943e-60p7IyX"
      },
      "execution_count": null,
      "outputs": []
    },
    {
      "cell_type": "markdown",
      "source": [
        "# PANDAS SERIES\n"
      ],
      "metadata": {
        "id": "ZQpSncKxodZd"
      }
    },
    {
      "cell_type": "markdown",
      "source": [
        "What is Pandas\n",
        "Pandas is a fast, powerful, flexible and easy to use open source data analysis and manipulation tool, built on top of the Python programming language.\n",
        "\n",
        "https://pandas.pydata.org/about/index.html"
      ],
      "metadata": {
        "id": "B2cN89Hhozgq"
      }
    },
    {
      "cell_type": "code",
      "source": [
        "# import pandas and numpy libraries\n",
        "import pandas as pd\n",
        "import numpy as np"
      ],
      "metadata": {
        "id": "WuVwfi6MoZOh"
      },
      "execution_count": 1,
      "outputs": []
    },
    {
      "cell_type": "markdown",
      "source": [
        "### Series From list\n"
      ],
      "metadata": {
        "id": "z18EXP_tpBVN"
      }
    },
    {
      "cell_type": "code",
      "source": [
        "vk = pd.read_csv(\"/content/kohli_ipl.csv\")\n"
      ],
      "metadata": {
        "id": "PzxcQp11o8Vl"
      },
      "execution_count": 2,
      "outputs": []
    },
    {
      "cell_type": "code",
      "source": [
        "movies = pd.read_csv(\"/content/bollywood.csv\")\n"
      ],
      "metadata": {
        "id": "CEqpC3Ns7bNd"
      },
      "execution_count": 3,
      "outputs": []
    },
    {
      "cell_type": "code",
      "source": [
        "sub = pd.read_csv(\"/content/subs.csv\")"
      ],
      "metadata": {
        "id": "Fs06nmKl7cTI"
      },
      "execution_count": 4,
      "outputs": []
    },
    {
      "cell_type": "markdown",
      "source": [
        "# Series from List"
      ],
      "metadata": {
        "id": "cdk660vEp7_T"
      }
    },
    {
      "cell_type": "code",
      "source": [
        "# series from list\n",
        "# string\n",
        "country = ['India', 'Pakistan', 'Srilanka', 'Nepal', 'Bhutan', 'China']"
      ],
      "metadata": {
        "id": "GtP1PROV7o5c"
      },
      "execution_count": 8,
      "outputs": []
    },
    {
      "cell_type": "code",
      "source": [
        "country_series = pd.Series(country)\n",
        "country_series"
      ],
      "metadata": {
        "id": "m8WmewWiPP66",
        "colab": {
          "base_uri": "https://localhost:8080/"
        },
        "outputId": "07fa060e-8553-4f28-8fd7-d3e84d6607c3"
      },
      "execution_count": 10,
      "outputs": [
        {
          "output_type": "execute_result",
          "data": {
            "text/plain": [
              "0       India\n",
              "1    Pakistan\n",
              "2    Srilanka\n",
              "3       Nepal\n",
              "4      Bhutan\n",
              "5       China\n",
              "dtype: object"
            ]
          },
          "metadata": {},
          "execution_count": 10
        }
      ]
    },
    {
      "cell_type": "code",
      "source": [
        "# integer\n",
        "L = [1,2,3,4,5,6,7,8,9]\n",
        "l_df = pd.Series(L)\n",
        "l_df"
      ],
      "metadata": {
        "id": "M8q8szzPPTZh",
        "colab": {
          "base_uri": "https://localhost:8080/"
        },
        "outputId": "d137e202-de90-47ea-a4cf-9bc8031d44e1"
      },
      "execution_count": 11,
      "outputs": [
        {
          "output_type": "execute_result",
          "data": {
            "text/plain": [
              "0    1\n",
              "1    2\n",
              "2    3\n",
              "3    4\n",
              "4    5\n",
              "5    6\n",
              "6    7\n",
              "7    8\n",
              "8    9\n",
              "dtype: int64"
            ]
          },
          "metadata": {},
          "execution_count": 11
        }
      ]
    },
    {
      "cell_type": "code",
      "source": [
        "# creating series with custom index\n",
        "\n",
        "marks = [65,98,65,85,75]\n",
        "subjects = ['History', 'Maths', 'Science', 'Marathi', 'Hindi']\n",
        "marks_df = pd.Series(marks, index= subjects)\n",
        "marks_df"
      ],
      "metadata": {
        "colab": {
          "base_uri": "https://localhost:8080/"
        },
        "id": "Lp8DEZ55oNPU",
        "outputId": "85ca796d-cb26-48ea-eda3-365a4dc19992"
      },
      "execution_count": 13,
      "outputs": [
        {
          "output_type": "execute_result",
          "data": {
            "text/plain": [
              "History    65\n",
              "Maths      98\n",
              "Science    65\n",
              "Marathi    85\n",
              "Hindi      75\n",
              "dtype: int64"
            ]
          },
          "metadata": {},
          "execution_count": 13
        }
      ]
    },
    {
      "cell_type": "code",
      "source": [
        "marks_df.reset_index()"
      ],
      "metadata": {
        "colab": {
          "base_uri": "https://localhost:8080/",
          "height": 206
        },
        "id": "s1RkPVczo7zg",
        "outputId": "bbf0cf84-d486-4df2-cb0c-6bb6fcee56a0"
      },
      "execution_count": 21,
      "outputs": [
        {
          "output_type": "execute_result",
          "data": {
            "text/plain": [
              "     index   0\n",
              "0  History  65\n",
              "1    Maths  98\n",
              "2  Science  65\n",
              "3  Marathi  85\n",
              "4    Hindi  75"
            ],
            "text/html": [
              "\n",
              "\n",
              "  <div id=\"df-5e185a2b-f2df-44dc-a9bc-c5dcf7c92ca5\">\n",
              "    <div class=\"colab-df-container\">\n",
              "      <div>\n",
              "<style scoped>\n",
              "    .dataframe tbody tr th:only-of-type {\n",
              "        vertical-align: middle;\n",
              "    }\n",
              "\n",
              "    .dataframe tbody tr th {\n",
              "        vertical-align: top;\n",
              "    }\n",
              "\n",
              "    .dataframe thead th {\n",
              "        text-align: right;\n",
              "    }\n",
              "</style>\n",
              "<table border=\"1\" class=\"dataframe\">\n",
              "  <thead>\n",
              "    <tr style=\"text-align: right;\">\n",
              "      <th></th>\n",
              "      <th>index</th>\n",
              "      <th>0</th>\n",
              "    </tr>\n",
              "  </thead>\n",
              "  <tbody>\n",
              "    <tr>\n",
              "      <th>0</th>\n",
              "      <td>History</td>\n",
              "      <td>65</td>\n",
              "    </tr>\n",
              "    <tr>\n",
              "      <th>1</th>\n",
              "      <td>Maths</td>\n",
              "      <td>98</td>\n",
              "    </tr>\n",
              "    <tr>\n",
              "      <th>2</th>\n",
              "      <td>Science</td>\n",
              "      <td>65</td>\n",
              "    </tr>\n",
              "    <tr>\n",
              "      <th>3</th>\n",
              "      <td>Marathi</td>\n",
              "      <td>85</td>\n",
              "    </tr>\n",
              "    <tr>\n",
              "      <th>4</th>\n",
              "      <td>Hindi</td>\n",
              "      <td>75</td>\n",
              "    </tr>\n",
              "  </tbody>\n",
              "</table>\n",
              "</div>\n",
              "      <button class=\"colab-df-convert\" onclick=\"convertToInteractive('df-5e185a2b-f2df-44dc-a9bc-c5dcf7c92ca5')\"\n",
              "              title=\"Convert this dataframe to an interactive table.\"\n",
              "              style=\"display:none;\">\n",
              "\n",
              "  <svg xmlns=\"http://www.w3.org/2000/svg\" height=\"24px\"viewBox=\"0 0 24 24\"\n",
              "       width=\"24px\">\n",
              "    <path d=\"M0 0h24v24H0V0z\" fill=\"none\"/>\n",
              "    <path d=\"M18.56 5.44l.94 2.06.94-2.06 2.06-.94-2.06-.94-.94-2.06-.94 2.06-2.06.94zm-11 1L8.5 8.5l.94-2.06 2.06-.94-2.06-.94L8.5 2.5l-.94 2.06-2.06.94zm10 10l.94 2.06.94-2.06 2.06-.94-2.06-.94-.94-2.06-.94 2.06-2.06.94z\"/><path d=\"M17.41 7.96l-1.37-1.37c-.4-.4-.92-.59-1.43-.59-.52 0-1.04.2-1.43.59L10.3 9.45l-7.72 7.72c-.78.78-.78 2.05 0 2.83L4 21.41c.39.39.9.59 1.41.59.51 0 1.02-.2 1.41-.59l7.78-7.78 2.81-2.81c.8-.78.8-2.07 0-2.86zM5.41 20L4 18.59l7.72-7.72 1.47 1.35L5.41 20z\"/>\n",
              "  </svg>\n",
              "      </button>\n",
              "\n",
              "\n",
              "\n",
              "    <div id=\"df-f392be24-219a-4a91-8c96-573827aaf039\">\n",
              "      <button class=\"colab-df-quickchart\" onclick=\"quickchart('df-f392be24-219a-4a91-8c96-573827aaf039')\"\n",
              "              title=\"Suggest charts.\"\n",
              "              style=\"display:none;\">\n",
              "\n",
              "<svg xmlns=\"http://www.w3.org/2000/svg\" height=\"24px\"viewBox=\"0 0 24 24\"\n",
              "     width=\"24px\">\n",
              "    <g>\n",
              "        <path d=\"M19 3H5c-1.1 0-2 .9-2 2v14c0 1.1.9 2 2 2h14c1.1 0 2-.9 2-2V5c0-1.1-.9-2-2-2zM9 17H7v-7h2v7zm4 0h-2V7h2v10zm4 0h-2v-4h2v4z\"/>\n",
              "    </g>\n",
              "</svg>\n",
              "      </button>\n",
              "    </div>\n",
              "\n",
              "<style>\n",
              "  .colab-df-quickchart {\n",
              "    background-color: #E8F0FE;\n",
              "    border: none;\n",
              "    border-radius: 50%;\n",
              "    cursor: pointer;\n",
              "    display: none;\n",
              "    fill: #1967D2;\n",
              "    height: 32px;\n",
              "    padding: 0 0 0 0;\n",
              "    width: 32px;\n",
              "  }\n",
              "\n",
              "  .colab-df-quickchart:hover {\n",
              "    background-color: #E2EBFA;\n",
              "    box-shadow: 0px 1px 2px rgba(60, 64, 67, 0.3), 0px 1px 3px 1px rgba(60, 64, 67, 0.15);\n",
              "    fill: #174EA6;\n",
              "  }\n",
              "\n",
              "  [theme=dark] .colab-df-quickchart {\n",
              "    background-color: #3B4455;\n",
              "    fill: #D2E3FC;\n",
              "  }\n",
              "\n",
              "  [theme=dark] .colab-df-quickchart:hover {\n",
              "    background-color: #434B5C;\n",
              "    box-shadow: 0px 1px 3px 1px rgba(0, 0, 0, 0.15);\n",
              "    filter: drop-shadow(0px 1px 2px rgba(0, 0, 0, 0.3));\n",
              "    fill: #FFFFFF;\n",
              "  }\n",
              "</style>\n",
              "\n",
              "    <script>\n",
              "      async function quickchart(key) {\n",
              "        const containerElement = document.querySelector('#' + key);\n",
              "        const charts = await google.colab.kernel.invokeFunction(\n",
              "            'suggestCharts', [key], {});\n",
              "      }\n",
              "    </script>\n",
              "\n",
              "      <script>\n",
              "\n",
              "function displayQuickchartButton(domScope) {\n",
              "  let quickchartButtonEl =\n",
              "    domScope.querySelector('#df-f392be24-219a-4a91-8c96-573827aaf039 button.colab-df-quickchart');\n",
              "  quickchartButtonEl.style.display =\n",
              "    google.colab.kernel.accessAllowed ? 'block' : 'none';\n",
              "}\n",
              "\n",
              "        displayQuickchartButton(document);\n",
              "      </script>\n",
              "      <style>\n",
              "    .colab-df-container {\n",
              "      display:flex;\n",
              "      flex-wrap:wrap;\n",
              "      gap: 12px;\n",
              "    }\n",
              "\n",
              "    .colab-df-convert {\n",
              "      background-color: #E8F0FE;\n",
              "      border: none;\n",
              "      border-radius: 50%;\n",
              "      cursor: pointer;\n",
              "      display: none;\n",
              "      fill: #1967D2;\n",
              "      height: 32px;\n",
              "      padding: 0 0 0 0;\n",
              "      width: 32px;\n",
              "    }\n",
              "\n",
              "    .colab-df-convert:hover {\n",
              "      background-color: #E2EBFA;\n",
              "      box-shadow: 0px 1px 2px rgba(60, 64, 67, 0.3), 0px 1px 3px 1px rgba(60, 64, 67, 0.15);\n",
              "      fill: #174EA6;\n",
              "    }\n",
              "\n",
              "    [theme=dark] .colab-df-convert {\n",
              "      background-color: #3B4455;\n",
              "      fill: #D2E3FC;\n",
              "    }\n",
              "\n",
              "    [theme=dark] .colab-df-convert:hover {\n",
              "      background-color: #434B5C;\n",
              "      box-shadow: 0px 1px 3px 1px rgba(0, 0, 0, 0.15);\n",
              "      filter: drop-shadow(0px 1px 2px rgba(0, 0, 0, 0.3));\n",
              "      fill: #FFFFFF;\n",
              "    }\n",
              "  </style>\n",
              "\n",
              "      <script>\n",
              "        const buttonEl =\n",
              "          document.querySelector('#df-5e185a2b-f2df-44dc-a9bc-c5dcf7c92ca5 button.colab-df-convert');\n",
              "        buttonEl.style.display =\n",
              "          google.colab.kernel.accessAllowed ? 'block' : 'none';\n",
              "\n",
              "        async function convertToInteractive(key) {\n",
              "          const element = document.querySelector('#df-5e185a2b-f2df-44dc-a9bc-c5dcf7c92ca5');\n",
              "          const dataTable =\n",
              "            await google.colab.kernel.invokeFunction('convertToInteractive',\n",
              "                                                     [key], {});\n",
              "          if (!dataTable) return;\n",
              "\n",
              "          const docLinkHtml = 'Like what you see? Visit the ' +\n",
              "            '<a target=\"_blank\" href=https://colab.research.google.com/notebooks/data_table.ipynb>data table notebook</a>'\n",
              "            + ' to learn more about interactive tables.';\n",
              "          element.innerHTML = '';\n",
              "          dataTable['output_type'] = 'display_data';\n",
              "          await google.colab.output.renderOutput(dataTable, element);\n",
              "          const docLink = document.createElement('div');\n",
              "          docLink.innerHTML = docLinkHtml;\n",
              "          element.appendChild(docLink);\n",
              "        }\n",
              "      </script>\n",
              "    </div>\n",
              "  </div>\n"
            ]
          },
          "metadata": {},
          "execution_count": 21
        }
      ]
    },
    {
      "cell_type": "code",
      "source": [
        "type(marks_df)"
      ],
      "metadata": {
        "colab": {
          "base_uri": "https://localhost:8080/"
        },
        "id": "V7SNTuCspHBn",
        "outputId": "6d943761-d903-45a4-fd46-3f6c1fae0edd"
      },
      "execution_count": 19,
      "outputs": [
        {
          "output_type": "execute_result",
          "data": {
            "text/plain": [
              "pandas.core.series.Series"
            ]
          },
          "metadata": {},
          "execution_count": 19
        }
      ]
    },
    {
      "cell_type": "code",
      "source": [
        "# setting a name to the series\n",
        "\n",
        "marks = [65,98,65,85,75]\n",
        "subjects = ['History', 'Maths', 'Science', 'Marathi', 'Hindi']\n",
        "marks_df = pd.Series(marks, index= subjects, name = 'Biru ke marks')\n",
        "marks_df"
      ],
      "metadata": {
        "colab": {
          "base_uri": "https://localhost:8080/"
        },
        "id": "mWLrRN25pJ8I",
        "outputId": "2206a256-d809-4826-a33b-3fb435c9a86d"
      },
      "execution_count": 27,
      "outputs": [
        {
          "output_type": "execute_result",
          "data": {
            "text/plain": [
              "History    65\n",
              "Maths      98\n",
              "Science    65\n",
              "Marathi    85\n",
              "Hindi      75\n",
              "Name: Biru ke marks, dtype: int64"
            ]
          },
          "metadata": {},
          "execution_count": 27
        }
      ]
    },
    {
      "cell_type": "markdown",
      "source": [
        "# Series from Dictionary"
      ],
      "metadata": {
        "id": "2MT_WQ_pqA7-"
      }
    },
    {
      "cell_type": "code",
      "source": [
        "Marks_dict = {\n",
        "    'History':65,\n",
        "    'Maths':98,\n",
        "    'Science':65,\n",
        "    'Marathi':85,\n",
        "    'Hindi':75\n",
        "}\n",
        "\n",
        "marks_df = pd.Series(Marks_dict, name='Biru ke marks')"
      ],
      "metadata": {
        "id": "6lspn7odp2bG"
      },
      "execution_count": 28,
      "outputs": []
    },
    {
      "cell_type": "code",
      "source": [
        "marks_df"
      ],
      "metadata": {
        "colab": {
          "base_uri": "https://localhost:8080/"
        },
        "id": "ez9z0ESDqpo0",
        "outputId": "5ff7ba6f-0d83-432e-ff29-9346fc130a90"
      },
      "execution_count": 32,
      "outputs": [
        {
          "output_type": "execute_result",
          "data": {
            "text/plain": [
              "History    65\n",
              "Maths      98\n",
              "Science    65\n",
              "Marathi    85\n",
              "Hindi      75\n",
              "Name: Biru ke marks, dtype: int64"
            ]
          },
          "metadata": {},
          "execution_count": 32
        }
      ]
    },
    {
      "cell_type": "markdown",
      "source": [
        "# Series Attribute"
      ],
      "metadata": {
        "id": "sdE-NaH0raMK"
      }
    },
    {
      "cell_type": "code",
      "source": [
        "# Size\n",
        "marks_df.size"
      ],
      "metadata": {
        "colab": {
          "base_uri": "https://localhost:8080/"
        },
        "id": "AK9IVjKfqr00",
        "outputId": "c41186c1-b72d-432f-9e79-4ac6dd349245"
      },
      "execution_count": 34,
      "outputs": [
        {
          "output_type": "execute_result",
          "data": {
            "text/plain": [
              "5"
            ]
          },
          "metadata": {},
          "execution_count": 34
        }
      ]
    },
    {
      "cell_type": "code",
      "source": [
        "l_df.size"
      ],
      "metadata": {
        "colab": {
          "base_uri": "https://localhost:8080/"
        },
        "id": "1GWESuo7re_v",
        "outputId": "2cd2a855-0c13-487e-88e0-3dfd5ad1c430"
      },
      "execution_count": 35,
      "outputs": [
        {
          "output_type": "execute_result",
          "data": {
            "text/plain": [
              "9"
            ]
          },
          "metadata": {},
          "execution_count": 35
        }
      ]
    },
    {
      "cell_type": "code",
      "source": [
        "vk.size"
      ],
      "metadata": {
        "colab": {
          "base_uri": "https://localhost:8080/"
        },
        "id": "C0xyXAgjrkbT",
        "outputId": "f69c3dc3-abb5-442f-e6af-927af5f6363e"
      },
      "execution_count": 36,
      "outputs": [
        {
          "output_type": "execute_result",
          "data": {
            "text/plain": [
              "430"
            ]
          },
          "metadata": {},
          "execution_count": 36
        }
      ]
    },
    {
      "cell_type": "code",
      "source": [
        "# dtype(Series)   DataFrame(dtypes)\n",
        "marks_df.dtype"
      ],
      "metadata": {
        "colab": {
          "base_uri": "https://localhost:8080/"
        },
        "id": "K3WvAuFWrn-a",
        "outputId": "a5bde358-6bbe-411b-d660-f6d594b981e8"
      },
      "execution_count": 45,
      "outputs": [
        {
          "output_type": "execute_result",
          "data": {
            "text/plain": [
              "dtype('int64')"
            ]
          },
          "metadata": {},
          "execution_count": 45
        }
      ]
    },
    {
      "cell_type": "code",
      "source": [
        "country_series.dtype"
      ],
      "metadata": {
        "colab": {
          "base_uri": "https://localhost:8080/"
        },
        "id": "uMCIQM4Xrper",
        "outputId": "b665a315-374e-40b7-e7bf-818df1da09fb"
      },
      "execution_count": 48,
      "outputs": [
        {
          "output_type": "execute_result",
          "data": {
            "text/plain": [
              "dtype('O')"
            ]
          },
          "metadata": {},
          "execution_count": 48
        }
      ]
    },
    {
      "cell_type": "code",
      "source": [
        "# name---. gives the name of the series\n",
        "marks_df.name"
      ],
      "metadata": {
        "colab": {
          "base_uri": "https://localhost:8080/",
          "height": 36
        },
        "id": "Y9MtxVDEsYNH",
        "outputId": "af37e4af-1f5a-4ba7-9b90-1f2ee108d695"
      },
      "execution_count": 54,
      "outputs": [
        {
          "output_type": "execute_result",
          "data": {
            "text/plain": [
              "'Biru ke marks'"
            ],
            "application/vnd.google.colaboratory.intrinsic+json": {
              "type": "string"
            }
          },
          "metadata": {},
          "execution_count": 54
        }
      ]
    },
    {
      "cell_type": "code",
      "source": [
        "# is_unique----> tells whether given series is unique or not\n",
        "marks_df.is_unique"
      ],
      "metadata": {
        "colab": {
          "base_uri": "https://localhost:8080/"
        },
        "id": "Uuoz3A-6slt7",
        "outputId": "d66dc435-4d18-47ca-e3cc-1451f22fd5ad"
      },
      "execution_count": 55,
      "outputs": [
        {
          "output_type": "execute_result",
          "data": {
            "text/plain": [
              "False"
            ]
          },
          "metadata": {},
          "execution_count": 55
        }
      ]
    },
    {
      "cell_type": "code",
      "source": [
        "country_series.is_unique"
      ],
      "metadata": {
        "colab": {
          "base_uri": "https://localhost:8080/"
        },
        "id": "MmM_z2tmtGe4",
        "outputId": "03b54acd-5364-4d6b-c7e9-591d60cdeab3"
      },
      "execution_count": 57,
      "outputs": [
        {
          "output_type": "execute_result",
          "data": {
            "text/plain": [
              "True"
            ]
          },
          "metadata": {},
          "execution_count": 57
        }
      ]
    },
    {
      "cell_type": "code",
      "source": [
        "# index---> gives the index of the series\n",
        "marks_df.index"
      ],
      "metadata": {
        "colab": {
          "base_uri": "https://localhost:8080/"
        },
        "id": "6JBMdvnntJQU",
        "outputId": "d754d7c3-9d28-48d9-f4e1-309553d9c7c2"
      },
      "execution_count": 58,
      "outputs": [
        {
          "output_type": "execute_result",
          "data": {
            "text/plain": [
              "Index(['History', 'Maths', 'Science', 'Marathi', 'Hindi'], dtype='object')"
            ]
          },
          "metadata": {},
          "execution_count": 58
        }
      ]
    },
    {
      "cell_type": "code",
      "source": [
        "l_df.index"
      ],
      "metadata": {
        "colab": {
          "base_uri": "https://localhost:8080/"
        },
        "id": "msu1hIFQtVBV",
        "outputId": "8c1ee605-fc19-4667-b0c1-ddbb5ab18474"
      },
      "execution_count": 59,
      "outputs": [
        {
          "output_type": "execute_result",
          "data": {
            "text/plain": [
              "RangeIndex(start=0, stop=9, step=1)"
            ]
          },
          "metadata": {},
          "execution_count": 59
        }
      ]
    },
    {
      "cell_type": "code",
      "source": [
        "vk.index"
      ],
      "metadata": {
        "colab": {
          "base_uri": "https://localhost:8080/"
        },
        "id": "MAqoOFlVtc2v",
        "outputId": "cef37167-d857-4e98-cef8-a715f7b87a3a"
      },
      "execution_count": 60,
      "outputs": [
        {
          "output_type": "execute_result",
          "data": {
            "text/plain": [
              "RangeIndex(start=0, stop=215, step=1)"
            ]
          },
          "metadata": {},
          "execution_count": 60
        }
      ]
    },
    {
      "cell_type": "code",
      "source": [
        "# values--> gives the values of the series\n",
        "marks_df.values"
      ],
      "metadata": {
        "colab": {
          "base_uri": "https://localhost:8080/"
        },
        "id": "Ay-0qDUwtfDv",
        "outputId": "ad1a18c4-a7a2-4336-d2e7-3e04d47d8eb6"
      },
      "execution_count": 63,
      "outputs": [
        {
          "output_type": "execute_result",
          "data": {
            "text/plain": [
              "array([65, 98, 65, 85, 75])"
            ]
          },
          "metadata": {},
          "execution_count": 63
        }
      ]
    },
    {
      "cell_type": "code",
      "source": [
        "movies.values"
      ],
      "metadata": {
        "colab": {
          "base_uri": "https://localhost:8080/"
        },
        "id": "fu1-w8XJty_F",
        "outputId": "c8c956e7-91c5-442b-b839-412dd950ac47"
      },
      "execution_count": 64,
      "outputs": [
        {
          "output_type": "execute_result",
          "data": {
            "text/plain": [
              "array([['Uri: The Surgical Strike', 'Vicky Kaushal'],\n",
              "       ['Battalion 609', 'Vicky Ahuja'],\n",
              "       ['The Accidental Prime Minister (film)', 'Anupam Kher'],\n",
              "       ...,\n",
              "       ['Saathiya (film)', 'Vivek Oberoi'],\n",
              "       ['Company (film)', 'Ajay Devgn'],\n",
              "       ['Awara Paagal Deewana', 'Akshay Kumar']], dtype=object)"
            ]
          },
          "metadata": {},
          "execution_count": 64
        }
      ]
    },
    {
      "cell_type": "markdown",
      "source": [
        "# Series using read_csv"
      ],
      "metadata": {
        "id": "IdgB5FS2u0rO"
      }
    },
    {
      "cell_type": "code",
      "source": [
        "# to convert sereis from the dataframe use squeeze = True\n",
        "\n",
        "type(vk) # ---> contains two columns--. match no and runs along with the index---> thats why we are not able to convert this dataframe into the series"
      ],
      "metadata": {
        "colab": {
          "base_uri": "https://localhost:8080/"
        },
        "id": "oE5UhMT0ucGh",
        "outputId": "b9ed8ece-9f12-42f5-b46d-a48eb3702f01"
      },
      "execution_count": 67,
      "outputs": [
        {
          "output_type": "execute_result",
          "data": {
            "text/plain": [
              "pandas.core.frame.DataFrame"
            ]
          },
          "metadata": {},
          "execution_count": 67
        }
      ]
    },
    {
      "cell_type": "code",
      "source": [
        "vk = pd.read_csv(\"/content/kohli_ipl.csv\", squeeze=True)"
      ],
      "metadata": {
        "colab": {
          "base_uri": "https://localhost:8080/"
        },
        "id": "hKf8EaBnvEht",
        "outputId": "0b4c02ce-a2a4-462f-99a8-df19d8ad4f16"
      },
      "execution_count": 68,
      "outputs": [
        {
          "output_type": "stream",
          "name": "stderr",
          "text": [
            "<ipython-input-68-1f8c1f38cb39>:1: FutureWarning: The squeeze argument has been deprecated and will be removed in a future version. Append .squeeze(\"columns\") to the call to squeeze.\n",
            "\n",
            "\n",
            "  vk = pd.read_csv(\"/content/kohli_ipl.csv\", squeeze=True)\n"
          ]
        }
      ]
    },
    {
      "cell_type": "code",
      "source": [
        "type(vk)"
      ],
      "metadata": {
        "colab": {
          "base_uri": "https://localhost:8080/"
        },
        "id": "DFpLaplgvP_Y",
        "outputId": "e450cfd8-1e40-484a-b3a3-71a910ceec8a"
      },
      "execution_count": 69,
      "outputs": [
        {
          "output_type": "execute_result",
          "data": {
            "text/plain": [
              "pandas.core.frame.DataFrame"
            ]
          },
          "metadata": {},
          "execution_count": 69
        }
      ]
    },
    {
      "cell_type": "code",
      "source": [
        "type(sub)"
      ],
      "metadata": {
        "colab": {
          "base_uri": "https://localhost:8080/"
        },
        "id": "tH8ttkTEvS2i",
        "outputId": "fdae1ab7-60ef-48f4-c481-2b43841a7884"
      },
      "execution_count": 73,
      "outputs": [
        {
          "output_type": "execute_result",
          "data": {
            "text/plain": [
              "pandas.core.frame.DataFrame"
            ]
          },
          "metadata": {},
          "execution_count": 73
        }
      ]
    },
    {
      "cell_type": "code",
      "source": [
        "sub = pd.read_csv(\"/content/subs.csv\", squeeze=True)"
      ],
      "metadata": {
        "colab": {
          "base_uri": "https://localhost:8080/"
        },
        "id": "9-lABfaQvU2J",
        "outputId": "a9158085-f4d6-4988-95f9-06a3d9374125"
      },
      "execution_count": 74,
      "outputs": [
        {
          "output_type": "stream",
          "name": "stderr",
          "text": [
            "<ipython-input-74-d57a109f12fe>:1: FutureWarning: The squeeze argument has been deprecated and will be removed in a future version. Append .squeeze(\"columns\") to the call to squeeze.\n",
            "\n",
            "\n",
            "  sub = pd.read_csv(\"/content/subs.csv\", squeeze=True)\n"
          ]
        }
      ]
    },
    {
      "cell_type": "code",
      "source": [
        "type(sub)"
      ],
      "metadata": {
        "colab": {
          "base_uri": "https://localhost:8080/"
        },
        "id": "ricxLPNNwrxX",
        "outputId": "2fe7c6c2-8855-4637-fffe-e04e344df093"
      },
      "execution_count": 75,
      "outputs": [
        {
          "output_type": "execute_result",
          "data": {
            "text/plain": [
              "pandas.core.series.Series"
            ]
          },
          "metadata": {},
          "execution_count": 75
        }
      ]
    },
    {
      "cell_type": "code",
      "source": [
        "vk = pd.read_csv(\"/content/kohli_ipl.csv\", index_col='match_no', squeeze=True)"
      ],
      "metadata": {
        "colab": {
          "base_uri": "https://localhost:8080/"
        },
        "id": "aNyr3blEwuFT",
        "outputId": "01c0b227-4afc-4521-a936-20625bf592ae"
      },
      "execution_count": 76,
      "outputs": [
        {
          "output_type": "stream",
          "name": "stderr",
          "text": [
            "<ipython-input-76-5a7ccef8c050>:1: FutureWarning: The squeeze argument has been deprecated and will be removed in a future version. Append .squeeze(\"columns\") to the call to squeeze.\n",
            "\n",
            "\n",
            "  vk = pd.read_csv(\"/content/kohli_ipl.csv\", index_col='match_no', squeeze=True)\n"
          ]
        }
      ]
    },
    {
      "cell_type": "code",
      "source": [
        "type(vk)  # we converted dataframe into series here by reducing our dataframe to one column by creating match_no as our index"
      ],
      "metadata": {
        "colab": {
          "base_uri": "https://localhost:8080/"
        },
        "id": "JrF-eeGCxBzu",
        "outputId": "f9d0917a-9ba3-497c-d1a2-7a316d8c740c"
      },
      "execution_count": 79,
      "outputs": [
        {
          "output_type": "execute_result",
          "data": {
            "text/plain": [
              "pandas.core.series.Series"
            ]
          },
          "metadata": {},
          "execution_count": 79
        }
      ]
    },
    {
      "cell_type": "code",
      "source": [
        "movies = pd.read_csv(\"/content/bollywood.csv\", index_col='movie', squeeze=True)\n",
        "# FutureWarning: The squeeze argument has been deprecated and will be removed in a future version. Append .squeeze(\"columns\") to the call to squeeze."
      ],
      "metadata": {
        "colab": {
          "base_uri": "https://localhost:8080/"
        },
        "id": "CIaVcsLPxDFR",
        "outputId": "4bee58d2-ce55-4a0b-c42b-25944d3a1e2c"
      },
      "execution_count": 82,
      "outputs": [
        {
          "output_type": "stream",
          "name": "stderr",
          "text": [
            "<ipython-input-82-2150e6151648>:1: FutureWarning: The squeeze argument has been deprecated and will be removed in a future version. Append .squeeze(\"columns\") to the call to squeeze.\n",
            "\n",
            "\n",
            "  movies = pd.read_csv(\"/content/bollywood.csv\", index_col='movie', squeeze=True)\n"
          ]
        }
      ]
    },
    {
      "cell_type": "code",
      "source": [
        "movies"
      ],
      "metadata": {
        "colab": {
          "base_uri": "https://localhost:8080/"
        },
        "id": "s82Whrt7xbsF",
        "outputId": "592fc639-a591-4d61-f889-3758449672bc"
      },
      "execution_count": 83,
      "outputs": [
        {
          "output_type": "execute_result",
          "data": {
            "text/plain": [
              "movie\n",
              "Uri: The Surgical Strike                   Vicky Kaushal\n",
              "Battalion 609                                Vicky Ahuja\n",
              "The Accidental Prime Minister (film)         Anupam Kher\n",
              "Why Cheat India                            Emraan Hashmi\n",
              "Evening Shadows                         Mona Ambegaonkar\n",
              "                                              ...       \n",
              "Hum Tumhare Hain Sanam                    Shah Rukh Khan\n",
              "Aankhen (2002 film)                     Amitabh Bachchan\n",
              "Saathiya (film)                             Vivek Oberoi\n",
              "Company (film)                                Ajay Devgn\n",
              "Awara Paagal Deewana                        Akshay Kumar\n",
              "Name: lead, Length: 1500, dtype: object"
            ]
          },
          "metadata": {},
          "execution_count": 83
        }
      ]
    },
    {
      "cell_type": "code",
      "source": [
        "# head and tail\n",
        "\n",
        "vk.head()"
      ],
      "metadata": {
        "colab": {
          "base_uri": "https://localhost:8080/"
        },
        "id": "sX6E_W8wxckv",
        "outputId": "f5a451c5-859b-4dd7-fca9-e0e204558bfc"
      },
      "execution_count": 84,
      "outputs": [
        {
          "output_type": "execute_result",
          "data": {
            "text/plain": [
              "match_no\n",
              "1     1\n",
              "2    23\n",
              "3    13\n",
              "4    12\n",
              "5     1\n",
              "Name: runs, dtype: int64"
            ]
          },
          "metadata": {},
          "execution_count": 84
        }
      ]
    },
    {
      "cell_type": "code",
      "source": [
        "vk.tail(10)"
      ],
      "metadata": {
        "colab": {
          "base_uri": "https://localhost:8080/"
        },
        "id": "Lx27JNsqx2Jj",
        "outputId": "74761664-ff46-421e-8327-b94d0ea8e4de"
      },
      "execution_count": 86,
      "outputs": [
        {
          "output_type": "execute_result",
          "data": {
            "text/plain": [
              "match_no\n",
              "206     0\n",
              "207     0\n",
              "208     9\n",
              "209    58\n",
              "210    30\n",
              "211     0\n",
              "212    20\n",
              "213    73\n",
              "214    25\n",
              "215     7\n",
              "Name: runs, dtype: int64"
            ]
          },
          "metadata": {},
          "execution_count": 86
        }
      ]
    },
    {
      "cell_type": "code",
      "source": [
        "movies.head(2)"
      ],
      "metadata": {
        "colab": {
          "base_uri": "https://localhost:8080/"
        },
        "id": "fxrLwa4hx4M0",
        "outputId": "173b7113-014f-434e-a2b2-f4c9f8f5167d"
      },
      "execution_count": 88,
      "outputs": [
        {
          "output_type": "execute_result",
          "data": {
            "text/plain": [
              "movie\n",
              "Uri: The Surgical Strike    Vicky Kaushal\n",
              "Battalion 609                 Vicky Ahuja\n",
              "Name: lead, dtype: object"
            ]
          },
          "metadata": {},
          "execution_count": 88
        }
      ]
    },
    {
      "cell_type": "code",
      "source": [
        "# sample\n",
        "movies.sample(2)"
      ],
      "metadata": {
        "colab": {
          "base_uri": "https://localhost:8080/"
        },
        "id": "Ogxa9glkx9yR",
        "outputId": "42a72abb-48d9-4abe-cedc-3566e29e1135"
      },
      "execution_count": 92,
      "outputs": [
        {
          "output_type": "execute_result",
          "data": {
            "text/plain": [
              "movie\n",
              "Kuku Mathur Ki Jhand Ho Gayi            Siddharth Gupta\n",
              "Once Upon ay Time in Mumbai Dobaara!       Akshay Kumar\n",
              "Name: lead, dtype: object"
            ]
          },
          "metadata": {},
          "execution_count": 92
        }
      ]
    },
    {
      "cell_type": "code",
      "source": [
        "vk.sample(4)"
      ],
      "metadata": {
        "colab": {
          "base_uri": "https://localhost:8080/"
        },
        "id": "x7yhkOi4yDNI",
        "outputId": "6c92243b-6e0a-4bf4-c365-7cc3a70ac23c"
      },
      "execution_count": 94,
      "outputs": [
        {
          "output_type": "execute_result",
          "data": {
            "text/plain": [
              "match_no\n",
              "193    25\n",
              "67      3\n",
              "68     73\n",
              "119    80\n",
              "Name: runs, dtype: int64"
            ]
          },
          "metadata": {},
          "execution_count": 94
        }
      ]
    },
    {
      "cell_type": "code",
      "source": [
        "# value_counts\n",
        "movies.value_counts()"
      ],
      "metadata": {
        "colab": {
          "base_uri": "https://localhost:8080/"
        },
        "id": "dKRVIvAWyNvO",
        "outputId": "b8f15946-e4c1-40c5-96e1-2f236475b3d6"
      },
      "execution_count": 97,
      "outputs": [
        {
          "output_type": "execute_result",
          "data": {
            "text/plain": [
              "Akshay Kumar        48\n",
              "Amitabh Bachchan    45\n",
              "Ajay Devgn          38\n",
              "Salman Khan         31\n",
              "Sanjay Dutt         26\n",
              "                    ..\n",
              "Diganth              1\n",
              "Parveen Kaur         1\n",
              "Seema Azmi           1\n",
              "Akanksha Puri        1\n",
              "Edwin Fernandes      1\n",
              "Name: lead, Length: 566, dtype: int64"
            ]
          },
          "metadata": {},
          "execution_count": 97
        }
      ]
    },
    {
      "cell_type": "code",
      "source": [
        "vk.value_counts"
      ],
      "metadata": {
        "colab": {
          "base_uri": "https://localhost:8080/"
        },
        "id": "AAgLB_2pyfSf",
        "outputId": "2da5621b-878e-4dd3-d107-efd552c7e766"
      },
      "execution_count": 104,
      "outputs": [
        {
          "output_type": "execute_result",
          "data": {
            "text/plain": [
              "<bound method IndexOpsMixin.value_counts of match_no\n",
              "1       1\n",
              "2      23\n",
              "3      13\n",
              "4      12\n",
              "5       1\n",
              "       ..\n",
              "211     0\n",
              "212    20\n",
              "213    73\n",
              "214    25\n",
              "215     7\n",
              "Name: runs, Length: 215, dtype: int64>"
            ]
          },
          "metadata": {},
          "execution_count": 104
        }
      ]
    },
    {
      "cell_type": "code",
      "source": [
        "# sort_values--> sorts the values\n",
        "movies.sort_values(ascending=False)"
      ],
      "metadata": {
        "colab": {
          "base_uri": "https://localhost:8080/"
        },
        "id": "KcN8mT-pysM5",
        "outputId": "60b3d7af-fa5f-4b4b-e56c-42862aca9893"
      },
      "execution_count": 107,
      "outputs": [
        {
          "output_type": "execute_result",
          "data": {
            "text/plain": [
              "movie\n",
              "Taj Mahal: An Eternal Love Story     Zulfi Sayed\n",
              "Dil Toh Deewana Hai                  Zeenat Aman\n",
              "Strings of Passion                   Zeenat Aman\n",
              "Sallu Ki Shaadi                      Zeenat Aman\n",
              "Dunno Y... Na Jaane Kyon             Zeenat Aman\n",
              "                                        ...     \n",
              "Fanaa (2006 film)                     Aamir Khan\n",
              "Raat Gayi Baat Gayi?                Aamir Bashir\n",
              "Lipstick Under My Burkha            Aahana Kumra\n",
              "Roar: Tigers of the Sundarbans      Aadil Chahal\n",
              "Qaidi Band                            Aadar Jain\n",
              "Name: lead, Length: 1500, dtype: object"
            ]
          },
          "metadata": {},
          "execution_count": 107
        }
      ]
    },
    {
      "cell_type": "code",
      "source": [
        "# sort_index---> sorts the index\n",
        "\n",
        "vk.sort_index(ascending=False)"
      ],
      "metadata": {
        "colab": {
          "base_uri": "https://localhost:8080/"
        },
        "id": "f86YixsHzPq4",
        "outputId": "909f93f6-80ff-467a-9512-f2a28acf5333"
      },
      "execution_count": 108,
      "outputs": [
        {
          "output_type": "execute_result",
          "data": {
            "text/plain": [
              "match_no\n",
              "215     7\n",
              "214    25\n",
              "213    73\n",
              "212    20\n",
              "211     0\n",
              "       ..\n",
              "5       1\n",
              "4      12\n",
              "3      13\n",
              "2      23\n",
              "1       1\n",
              "Name: runs, Length: 215, dtype: int64"
            ]
          },
          "metadata": {},
          "execution_count": 108
        }
      ]
    },
    {
      "cell_type": "code",
      "source": [
        "movies.sort_index()"
      ],
      "metadata": {
        "colab": {
          "base_uri": "https://localhost:8080/"
        },
        "id": "qNvISdKIzwR7",
        "outputId": "212f8ec1-1c73-4bde-f58b-993f1ff2c9d5"
      },
      "execution_count": 109,
      "outputs": [
        {
          "output_type": "execute_result",
          "data": {
            "text/plain": [
              "movie\n",
              "1920 (film)                   Rajniesh Duggall\n",
              "1920: London                     Sharman Joshi\n",
              "1920: The Evil Returns             Vicky Ahuja\n",
              "1971 (2007 film)                Manoj Bajpayee\n",
              "2 States (2014 film)              Arjun Kapoor\n",
              "                                   ...        \n",
              "Zindagi 50-50                      Veena Malik\n",
              "Zindagi Na Milegi Dobara        Hrithik Roshan\n",
              "Zindagi Tere Naam           Mithun Chakraborty\n",
              "Zokkomon                       Darsheel Safary\n",
              "Zor Lagaa Ke...Haiya!            Meghan Jadhav\n",
              "Name: lead, Length: 1500, dtype: object"
            ]
          },
          "metadata": {},
          "execution_count": 109
        }
      ]
    },
    {
      "cell_type": "code",
      "source": [
        "movies.sort_index(ascending=False)"
      ],
      "metadata": {
        "colab": {
          "base_uri": "https://localhost:8080/"
        },
        "id": "DChI5NKXz5FT",
        "outputId": "441f0f13-4dc7-41b5-91b0-e31ba34bedb3"
      },
      "execution_count": 110,
      "outputs": [
        {
          "output_type": "execute_result",
          "data": {
            "text/plain": [
              "movie\n",
              "Zor Lagaa Ke...Haiya!            Meghan Jadhav\n",
              "Zokkomon                       Darsheel Safary\n",
              "Zindagi Tere Naam           Mithun Chakraborty\n",
              "Zindagi Na Milegi Dobara        Hrithik Roshan\n",
              "Zindagi 50-50                      Veena Malik\n",
              "                                   ...        \n",
              "2 States (2014 film)              Arjun Kapoor\n",
              "1971 (2007 film)                Manoj Bajpayee\n",
              "1920: The Evil Returns             Vicky Ahuja\n",
              "1920: London                     Sharman Joshi\n",
              "1920 (film)                   Rajniesh Duggall\n",
              "Name: lead, Length: 1500, dtype: object"
            ]
          },
          "metadata": {},
          "execution_count": 110
        }
      ]
    },
    {
      "cell_type": "markdown",
      "source": [
        "# Series Maths Methods"
      ],
      "metadata": {
        "id": "BP_KE7re0L1R"
      }
    },
    {
      "cell_type": "code",
      "source": [
        "# len\n",
        "len(vk)"
      ],
      "metadata": {
        "colab": {
          "base_uri": "https://localhost:8080/"
        },
        "id": "BcxLfakkz-6h",
        "outputId": "f823ae22-d599-4057-a375-9febd035d513"
      },
      "execution_count": 111,
      "outputs": [
        {
          "output_type": "execute_result",
          "data": {
            "text/plain": [
              "215"
            ]
          },
          "metadata": {},
          "execution_count": 111
        }
      ]
    },
    {
      "cell_type": "code",
      "source": [
        "# count\n",
        "vk.count()"
      ],
      "metadata": {
        "colab": {
          "base_uri": "https://localhost:8080/"
        },
        "id": "mOKin5ax0ci8",
        "outputId": "d7c21700-78b6-4d6f-d68f-9b81be6ab960"
      },
      "execution_count": 112,
      "outputs": [
        {
          "output_type": "execute_result",
          "data": {
            "text/plain": [
              "215"
            ]
          },
          "metadata": {},
          "execution_count": 112
        }
      ]
    },
    {
      "cell_type": "code",
      "source": [
        "len(movies)"
      ],
      "metadata": {
        "colab": {
          "base_uri": "https://localhost:8080/"
        },
        "id": "xDC-cAn80el5",
        "outputId": "e2d3ab3c-f3db-455a-8844-88eb744bbe5c"
      },
      "execution_count": 113,
      "outputs": [
        {
          "output_type": "execute_result",
          "data": {
            "text/plain": [
              "1500"
            ]
          },
          "metadata": {},
          "execution_count": 113
        }
      ]
    },
    {
      "cell_type": "code",
      "source": [
        "movies.count()"
      ],
      "metadata": {
        "colab": {
          "base_uri": "https://localhost:8080/"
        },
        "id": "AIQQrygN0iLx",
        "outputId": "15059bce-b364-4002-e591-78b4b7f0e6ad"
      },
      "execution_count": 114,
      "outputs": [
        {
          "output_type": "execute_result",
          "data": {
            "text/plain": [
              "1500"
            ]
          },
          "metadata": {},
          "execution_count": 114
        }
      ]
    },
    {
      "cell_type": "code",
      "source": [
        "# lets create series with null values\n",
        "l = [1,3,5,6,7,8, np.nan, np.nan]"
      ],
      "metadata": {
        "id": "bZ4lzd0V0kc_"
      },
      "execution_count": 115,
      "outputs": []
    },
    {
      "cell_type": "code",
      "source": [
        "a = pd.Series(l)"
      ],
      "metadata": {
        "id": "mnN1_Y-b04Yh"
      },
      "execution_count": 119,
      "outputs": []
    },
    {
      "cell_type": "code",
      "source": [
        "a.count() # it gives the count of 6"
      ],
      "metadata": {
        "colab": {
          "base_uri": "https://localhost:8080/"
        },
        "id": "0Zkytlzq0-Z9",
        "outputId": "9682910c-11b0-4fe5-a790-b61fa3cb643d"
      },
      "execution_count": 120,
      "outputs": [
        {
          "output_type": "execute_result",
          "data": {
            "text/plain": [
              "6"
            ]
          },
          "metadata": {},
          "execution_count": 120
        }
      ]
    },
    {
      "cell_type": "code",
      "source": [
        "len(a) # it gives the count of 8"
      ],
      "metadata": {
        "colab": {
          "base_uri": "https://localhost:8080/"
        },
        "id": "6bOzRX3o1GO6",
        "outputId": "6a4f8c8d-59e5-4fa1-a9aa-246bfed2c238"
      },
      "execution_count": 123,
      "outputs": [
        {
          "output_type": "execute_result",
          "data": {
            "text/plain": [
              "8"
            ]
          },
          "metadata": {},
          "execution_count": 123
        }
      ]
    },
    {
      "cell_type": "code",
      "source": [
        "# sum\n",
        "vk.sum()"
      ],
      "metadata": {
        "colab": {
          "base_uri": "https://localhost:8080/"
        },
        "id": "nptLYdEe1IZN",
        "outputId": "a9334f82-b336-4f15-83d2-cacf23792801"
      },
      "execution_count": 124,
      "outputs": [
        {
          "output_type": "execute_result",
          "data": {
            "text/plain": [
              "6634"
            ]
          },
          "metadata": {},
          "execution_count": 124
        }
      ]
    },
    {
      "cell_type": "code",
      "source": [
        "# mean -> median -> mode -> std -> var"
      ],
      "metadata": {
        "id": "FxxJ-hZ71PdL"
      },
      "execution_count": 125,
      "outputs": []
    },
    {
      "cell_type": "code",
      "source": [
        "print(sub.mean())\n",
        "print(vk.median())\n",
        "print(movies.mode())\n",
        "print(vk.var())\n",
        "print(sub.std())"
      ],
      "metadata": {
        "colab": {
          "base_uri": "https://localhost:8080/"
        },
        "id": "LdauT47M1tZv",
        "outputId": "e46500e9-384a-475f-ca52-290541c2ba0d"
      },
      "execution_count": 128,
      "outputs": [
        {
          "output_type": "stream",
          "name": "stdout",
          "text": [
            "135.64383561643837\n",
            "24.0\n",
            "0    Akshay Kumar\n",
            "Name: lead, dtype: object\n",
            "688.0024777222343\n",
            "62.6750230372527\n"
          ]
        }
      ]
    },
    {
      "cell_type": "code",
      "source": [
        "# min/max\n",
        "print(sub.max())\n",
        "sub.min()"
      ],
      "metadata": {
        "colab": {
          "base_uri": "https://localhost:8080/"
        },
        "id": "haZlQgX71-pc",
        "outputId": "6d323730-c50e-4011-d7b5-b611f7c13847"
      },
      "execution_count": 130,
      "outputs": [
        {
          "output_type": "stream",
          "name": "stdout",
          "text": [
            "396\n"
          ]
        },
        {
          "output_type": "execute_result",
          "data": {
            "text/plain": [
              "33"
            ]
          },
          "metadata": {},
          "execution_count": 130
        }
      ]
    },
    {
      "cell_type": "code",
      "source": [
        "print(vk.max())\n",
        "vk.min()"
      ],
      "metadata": {
        "colab": {
          "base_uri": "https://localhost:8080/"
        },
        "id": "ZJfV_dyY2OrM",
        "outputId": "a5164c2e-deee-4732-f75f-442728600cdf"
      },
      "execution_count": 131,
      "outputs": [
        {
          "output_type": "stream",
          "name": "stdout",
          "text": [
            "113\n"
          ]
        },
        {
          "output_type": "execute_result",
          "data": {
            "text/plain": [
              "0"
            ]
          },
          "metadata": {},
          "execution_count": 131
        }
      ]
    },
    {
      "cell_type": "code",
      "source": [
        "# describe\n",
        "vk.describe()"
      ],
      "metadata": {
        "colab": {
          "base_uri": "https://localhost:8080/"
        },
        "id": "_vOPzKXt2g2J",
        "outputId": "d04655c4-e285-4e72-c832-281251d1b283"
      },
      "execution_count": 133,
      "outputs": [
        {
          "output_type": "execute_result",
          "data": {
            "text/plain": [
              "count    215.000000\n",
              "mean      30.855814\n",
              "std       26.229801\n",
              "min        0.000000\n",
              "25%        9.000000\n",
              "50%       24.000000\n",
              "75%       48.000000\n",
              "max      113.000000\n",
              "Name: runs, dtype: float64"
            ]
          },
          "metadata": {},
          "execution_count": 133
        }
      ]
    },
    {
      "cell_type": "code",
      "source": [
        "movies.describe()"
      ],
      "metadata": {
        "colab": {
          "base_uri": "https://localhost:8080/"
        },
        "id": "iso6gkgV2kNt",
        "outputId": "1f9e5404-c81f-4e4b-e9d7-0f8f874a086d"
      },
      "execution_count": 134,
      "outputs": [
        {
          "output_type": "execute_result",
          "data": {
            "text/plain": [
              "count             1500\n",
              "unique             566\n",
              "top       Akshay Kumar\n",
              "freq                48\n",
              "Name: lead, dtype: object"
            ]
          },
          "metadata": {},
          "execution_count": 134
        }
      ]
    },
    {
      "cell_type": "code",
      "source": [],
      "metadata": {
        "id": "-sLKhbIm2rby"
      },
      "execution_count": null,
      "outputs": []
    },
    {
      "cell_type": "markdown",
      "source": [
        "# Series indexing"
      ],
      "metadata": {
        "id": "J-BVSrg_3v2e"
      }
    },
    {
      "cell_type": "code",
      "source": [
        "vk[23]"
      ],
      "metadata": {
        "colab": {
          "base_uri": "https://localhost:8080/"
        },
        "id": "ExHmSGVA3x7u",
        "outputId": "50d5350a-340a-4730-ecb6-b5f2e12a783b"
      },
      "execution_count": 135,
      "outputs": [
        {
          "output_type": "execute_result",
          "data": {
            "text/plain": [
              "19"
            ]
          },
          "metadata": {},
          "execution_count": 135
        }
      ]
    },
    {
      "cell_type": "code",
      "source": [
        "movies[10]"
      ],
      "metadata": {
        "colab": {
          "base_uri": "https://localhost:8080/",
          "height": 36
        },
        "id": "dzssyTPd4INz",
        "outputId": "5fe200fa-008e-43be-faae-361a8adb2318"
      },
      "execution_count": 136,
      "outputs": [
        {
          "output_type": "execute_result",
          "data": {
            "text/plain": [
              "'Ali Asgar'"
            ],
            "application/vnd.google.colaboratory.intrinsic+json": {
              "type": "string"
            }
          },
          "metadata": {},
          "execution_count": 136
        }
      ]
    },
    {
      "cell_type": "code",
      "source": [
        "movies['Evening Shadows']"
      ],
      "metadata": {
        "colab": {
          "base_uri": "https://localhost:8080/",
          "height": 36
        },
        "id": "lWPUyeofBKWE",
        "outputId": "e8710e5a-68af-433b-e961-68de04f7d251"
      },
      "execution_count": 143,
      "outputs": [
        {
          "output_type": "execute_result",
          "data": {
            "text/plain": [
              "'Mona Ambegaonkar'"
            ],
            "application/vnd.google.colaboratory.intrinsic+json": {
              "type": "string"
            }
          },
          "metadata": {},
          "execution_count": 143
        }
      ]
    },
    {
      "cell_type": "code",
      "source": [
        "vk[-23]  # negative wont work on sereis"
      ],
      "metadata": {
        "colab": {
          "base_uri": "https://localhost:8080/",
          "height": 511
        },
        "id": "a0wxqSmp4Nov",
        "outputId": "e8ffbd68-72bc-4e2a-c1ca-a92f6e0e8873"
      },
      "execution_count": 138,
      "outputs": [
        {
          "output_type": "error",
          "ename": "KeyError",
          "evalue": "ignored",
          "traceback": [
            "\u001b[0;31m---------------------------------------------------------------------------\u001b[0m",
            "\u001b[0;31mKeyError\u001b[0m                                  Traceback (most recent call last)",
            "\u001b[0;32m/usr/local/lib/python3.10/dist-packages/pandas/core/indexes/base.py\u001b[0m in \u001b[0;36mget_loc\u001b[0;34m(self, key, method, tolerance)\u001b[0m\n\u001b[1;32m   3801\u001b[0m             \u001b[0;32mtry\u001b[0m\u001b[0;34m:\u001b[0m\u001b[0;34m\u001b[0m\u001b[0;34m\u001b[0m\u001b[0m\n\u001b[0;32m-> 3802\u001b[0;31m                 \u001b[0;32mreturn\u001b[0m \u001b[0mself\u001b[0m\u001b[0;34m.\u001b[0m\u001b[0m_engine\u001b[0m\u001b[0;34m.\u001b[0m\u001b[0mget_loc\u001b[0m\u001b[0;34m(\u001b[0m\u001b[0mcasted_key\u001b[0m\u001b[0;34m)\u001b[0m\u001b[0;34m\u001b[0m\u001b[0;34m\u001b[0m\u001b[0m\n\u001b[0m\u001b[1;32m   3803\u001b[0m             \u001b[0;32mexcept\u001b[0m \u001b[0mKeyError\u001b[0m \u001b[0;32mas\u001b[0m \u001b[0merr\u001b[0m\u001b[0;34m:\u001b[0m\u001b[0;34m\u001b[0m\u001b[0;34m\u001b[0m\u001b[0m\n",
            "\u001b[0;32m/usr/local/lib/python3.10/dist-packages/pandas/_libs/index.pyx\u001b[0m in \u001b[0;36mpandas._libs.index.IndexEngine.get_loc\u001b[0;34m()\u001b[0m\n",
            "\u001b[0;32m/usr/local/lib/python3.10/dist-packages/pandas/_libs/index.pyx\u001b[0m in \u001b[0;36mpandas._libs.index.IndexEngine.get_loc\u001b[0;34m()\u001b[0m\n",
            "\u001b[0;32mpandas/_libs/hashtable_class_helper.pxi\u001b[0m in \u001b[0;36mpandas._libs.hashtable.Int64HashTable.get_item\u001b[0;34m()\u001b[0m\n",
            "\u001b[0;32mpandas/_libs/hashtable_class_helper.pxi\u001b[0m in \u001b[0;36mpandas._libs.hashtable.Int64HashTable.get_item\u001b[0;34m()\u001b[0m\n",
            "\u001b[0;31mKeyError\u001b[0m: -23",
            "\nThe above exception was the direct cause of the following exception:\n",
            "\u001b[0;31mKeyError\u001b[0m                                  Traceback (most recent call last)",
            "\u001b[0;32m<ipython-input-138-812024f3e580>\u001b[0m in \u001b[0;36m<cell line: 1>\u001b[0;34m()\u001b[0m\n\u001b[0;32m----> 1\u001b[0;31m \u001b[0mvk\u001b[0m\u001b[0;34m[\u001b[0m\u001b[0;34m-\u001b[0m\u001b[0;36m23\u001b[0m\u001b[0;34m]\u001b[0m  \u001b[0;31m# negative wont work on sereis\u001b[0m\u001b[0;34m\u001b[0m\u001b[0;34m\u001b[0m\u001b[0m\n\u001b[0m",
            "\u001b[0;32m/usr/local/lib/python3.10/dist-packages/pandas/core/series.py\u001b[0m in \u001b[0;36m__getitem__\u001b[0;34m(self, key)\u001b[0m\n\u001b[1;32m    979\u001b[0m \u001b[0;34m\u001b[0m\u001b[0m\n\u001b[1;32m    980\u001b[0m         \u001b[0;32melif\u001b[0m \u001b[0mkey_is_scalar\u001b[0m\u001b[0;34m:\u001b[0m\u001b[0;34m\u001b[0m\u001b[0;34m\u001b[0m\u001b[0m\n\u001b[0;32m--> 981\u001b[0;31m             \u001b[0;32mreturn\u001b[0m \u001b[0mself\u001b[0m\u001b[0;34m.\u001b[0m\u001b[0m_get_value\u001b[0m\u001b[0;34m(\u001b[0m\u001b[0mkey\u001b[0m\u001b[0;34m)\u001b[0m\u001b[0;34m\u001b[0m\u001b[0;34m\u001b[0m\u001b[0m\n\u001b[0m\u001b[1;32m    982\u001b[0m \u001b[0;34m\u001b[0m\u001b[0m\n\u001b[1;32m    983\u001b[0m         \u001b[0;32mif\u001b[0m \u001b[0mis_hashable\u001b[0m\u001b[0;34m(\u001b[0m\u001b[0mkey\u001b[0m\u001b[0;34m)\u001b[0m\u001b[0;34m:\u001b[0m\u001b[0;34m\u001b[0m\u001b[0;34m\u001b[0m\u001b[0m\n",
            "\u001b[0;32m/usr/local/lib/python3.10/dist-packages/pandas/core/series.py\u001b[0m in \u001b[0;36m_get_value\u001b[0;34m(self, label, takeable)\u001b[0m\n\u001b[1;32m   1087\u001b[0m \u001b[0;34m\u001b[0m\u001b[0m\n\u001b[1;32m   1088\u001b[0m         \u001b[0;31m# Similar to Index.get_value, but we do not fall back to positional\u001b[0m\u001b[0;34m\u001b[0m\u001b[0;34m\u001b[0m\u001b[0m\n\u001b[0;32m-> 1089\u001b[0;31m         \u001b[0mloc\u001b[0m \u001b[0;34m=\u001b[0m \u001b[0mself\u001b[0m\u001b[0;34m.\u001b[0m\u001b[0mindex\u001b[0m\u001b[0;34m.\u001b[0m\u001b[0mget_loc\u001b[0m\u001b[0;34m(\u001b[0m\u001b[0mlabel\u001b[0m\u001b[0;34m)\u001b[0m\u001b[0;34m\u001b[0m\u001b[0;34m\u001b[0m\u001b[0m\n\u001b[0m\u001b[1;32m   1090\u001b[0m         \u001b[0;32mreturn\u001b[0m \u001b[0mself\u001b[0m\u001b[0;34m.\u001b[0m\u001b[0mindex\u001b[0m\u001b[0;34m.\u001b[0m\u001b[0m_get_values_for_loc\u001b[0m\u001b[0;34m(\u001b[0m\u001b[0mself\u001b[0m\u001b[0;34m,\u001b[0m \u001b[0mloc\u001b[0m\u001b[0;34m,\u001b[0m \u001b[0mlabel\u001b[0m\u001b[0;34m)\u001b[0m\u001b[0;34m\u001b[0m\u001b[0;34m\u001b[0m\u001b[0m\n\u001b[1;32m   1091\u001b[0m \u001b[0;34m\u001b[0m\u001b[0m\n",
            "\u001b[0;32m/usr/local/lib/python3.10/dist-packages/pandas/core/indexes/base.py\u001b[0m in \u001b[0;36mget_loc\u001b[0;34m(self, key, method, tolerance)\u001b[0m\n\u001b[1;32m   3802\u001b[0m                 \u001b[0;32mreturn\u001b[0m \u001b[0mself\u001b[0m\u001b[0;34m.\u001b[0m\u001b[0m_engine\u001b[0m\u001b[0;34m.\u001b[0m\u001b[0mget_loc\u001b[0m\u001b[0;34m(\u001b[0m\u001b[0mcasted_key\u001b[0m\u001b[0;34m)\u001b[0m\u001b[0;34m\u001b[0m\u001b[0;34m\u001b[0m\u001b[0m\n\u001b[1;32m   3803\u001b[0m             \u001b[0;32mexcept\u001b[0m \u001b[0mKeyError\u001b[0m \u001b[0;32mas\u001b[0m \u001b[0merr\u001b[0m\u001b[0;34m:\u001b[0m\u001b[0;34m\u001b[0m\u001b[0;34m\u001b[0m\u001b[0m\n\u001b[0;32m-> 3804\u001b[0;31m                 \u001b[0;32mraise\u001b[0m \u001b[0mKeyError\u001b[0m\u001b[0;34m(\u001b[0m\u001b[0mkey\u001b[0m\u001b[0;34m)\u001b[0m \u001b[0;32mfrom\u001b[0m \u001b[0merr\u001b[0m\u001b[0;34m\u001b[0m\u001b[0;34m\u001b[0m\u001b[0m\n\u001b[0m\u001b[1;32m   3805\u001b[0m             \u001b[0;32mexcept\u001b[0m \u001b[0mTypeError\u001b[0m\u001b[0;34m:\u001b[0m\u001b[0;34m\u001b[0m\u001b[0;34m\u001b[0m\u001b[0m\n\u001b[1;32m   3806\u001b[0m                 \u001b[0;31m# If we have a listlike key, _check_indexing_error will raise\u001b[0m\u001b[0;34m\u001b[0m\u001b[0;34m\u001b[0m\u001b[0m\n",
            "\u001b[0;31mKeyError\u001b[0m: -23"
          ]
        }
      ]
    },
    {
      "cell_type": "code",
      "source": [
        "movies[-3]  # negative index works on series with string index"
      ],
      "metadata": {
        "colab": {
          "base_uri": "https://localhost:8080/",
          "height": 36
        },
        "id": "49INlMYF4Qvp",
        "outputId": "021d7950-71e3-419b-f4d1-4493c845bbe3"
      },
      "execution_count": 140,
      "outputs": [
        {
          "output_type": "execute_result",
          "data": {
            "text/plain": [
              "'Vivek Oberoi'"
            ],
            "application/vnd.google.colaboratory.intrinsic+json": {
              "type": "string"
            }
          },
          "metadata": {},
          "execution_count": 140
        }
      ]
    },
    {
      "cell_type": "code",
      "source": [
        "vk[2:6]"
      ],
      "metadata": {
        "colab": {
          "base_uri": "https://localhost:8080/"
        },
        "id": "hfUSQPlQ4ZWD",
        "outputId": "f66a1ea3-6b98-469e-e694-140edf93cd2e"
      },
      "execution_count": 144,
      "outputs": [
        {
          "output_type": "execute_result",
          "data": {
            "text/plain": [
              "match_no\n",
              "3    13\n",
              "4    12\n",
              "5     1\n",
              "6     9\n",
              "Name: runs, dtype: int64"
            ]
          },
          "metadata": {},
          "execution_count": 144
        }
      ]
    },
    {
      "cell_type": "code",
      "source": [
        "movies[5:10]"
      ],
      "metadata": {
        "colab": {
          "base_uri": "https://localhost:8080/"
        },
        "id": "vyHnJTyU463B",
        "outputId": "7b5eda11-6430-4589-a2a2-3c400a380e98"
      },
      "execution_count": 145,
      "outputs": [
        {
          "output_type": "execute_result",
          "data": {
            "text/plain": [
              "movie\n",
              "Soni (film)                         Geetika Vidya Ohlyan\n",
              "Fraud Saiyaan                               Arshad Warsi\n",
              "Bombairiya                                  Radhika Apte\n",
              "Manikarnika: The Queen of Jhansi          Kangana Ranaut\n",
              "Thackeray (film)                     Nawazuddin Siddiqui\n",
              "Name: lead, dtype: object"
            ]
          },
          "metadata": {},
          "execution_count": 145
        }
      ]
    },
    {
      "cell_type": "code",
      "source": [
        "movies[::2]"
      ],
      "metadata": {
        "colab": {
          "base_uri": "https://localhost:8080/"
        },
        "id": "MLmQ_Ll0Bor4",
        "outputId": "e5825d53-e90c-42c8-9594-7794a235c611"
      },
      "execution_count": 149,
      "outputs": [
        {
          "output_type": "execute_result",
          "data": {
            "text/plain": [
              "movie\n",
              "Uri: The Surgical Strike                   Vicky Kaushal\n",
              "The Accidental Prime Minister (film)         Anupam Kher\n",
              "Evening Shadows                         Mona Ambegaonkar\n",
              "Fraud Saiyaan                               Arshad Warsi\n",
              "Manikarnika: The Queen of Jhansi          Kangana Ranaut\n",
              "                                              ...       \n",
              "Raaz (2002 film)                              Dino Morea\n",
              "Waisa Bhi Hota Hai Part II                  Arshad Warsi\n",
              "Kaante                                  Amitabh Bachchan\n",
              "Aankhen (2002 film)                     Amitabh Bachchan\n",
              "Company (film)                                Ajay Devgn\n",
              "Name: lead, Length: 750, dtype: object"
            ]
          },
          "metadata": {},
          "execution_count": 149
        }
      ]
    },
    {
      "cell_type": "code",
      "source": [
        "vk[::10]"
      ],
      "metadata": {
        "colab": {
          "base_uri": "https://localhost:8080/"
        },
        "id": "uuqqIt_BB4Bl",
        "outputId": "8b77e74d-7431-403a-cb40-96defb01da4a"
      },
      "execution_count": 150,
      "outputs": [
        {
          "output_type": "execute_result",
          "data": {
            "text/plain": [
              "match_no\n",
              "1       1\n",
              "11     10\n",
              "21     20\n",
              "31     34\n",
              "41     71\n",
              "51     31\n",
              "61     16\n",
              "71     51\n",
              "81     93\n",
              "91      0\n",
              "101    41\n",
              "111    19\n",
              "121    14\n",
              "131    54\n",
              "141    58\n",
              "151    39\n",
              "161    41\n",
              "171     9\n",
              "181    33\n",
              "191    35\n",
              "201    12\n",
              "211     0\n",
              "Name: runs, dtype: int64"
            ]
          },
          "metadata": {},
          "execution_count": 150
        }
      ]
    },
    {
      "cell_type": "code",
      "source": [
        "movies[-50:-40]"
      ],
      "metadata": {
        "colab": {
          "base_uri": "https://localhost:8080/"
        },
        "id": "zXx7zX8FCTlX",
        "outputId": "27f59cc2-72ad-41a2-df7c-b8f02a2413b1"
      },
      "execution_count": 151,
      "outputs": [
        {
          "output_type": "execute_result",
          "data": {
            "text/plain": [
              "movie\n",
              "Jajantaram Mamantaram            Javed Jaffrey\n",
              "Jism (2003 film)                  Bipasha Basu\n",
              "Jhankaar Beats                     Sanjay Suri\n",
              "Kagaar: Life on the Edge               Om Puri\n",
              "Kash Aap Hamare Hote               Juhi Babbar\n",
              "Khel – No Ordinary Game             Sunny Deol\n",
              "Janasheen                           Feroz Khan\n",
              "Kaise Kahoon Ke... Pyaar Hai    Amit Hingorani\n",
              "Khushi (2003 Hindi film)          Fardeen Khan\n",
              "Khwahish                        Himanshu Malik\n",
              "Name: lead, dtype: object"
            ]
          },
          "metadata": {},
          "execution_count": 151
        }
      ]
    },
    {
      "cell_type": "code",
      "source": [
        "# Editing the series"
      ],
      "metadata": {
        "id": "jo5h6zDPCq7k"
      },
      "execution_count": 152,
      "outputs": []
    },
    {
      "cell_type": "code",
      "source": [
        "marks_df[1] = 100"
      ],
      "metadata": {
        "id": "LFQb-ax_CY1v"
      },
      "execution_count": 156,
      "outputs": []
    },
    {
      "cell_type": "code",
      "source": [
        "marks_df"
      ],
      "metadata": {
        "colab": {
          "base_uri": "https://localhost:8080/"
        },
        "id": "JMkUSsLqCwsz",
        "outputId": "f4500cb4-425c-4991-c51d-f5d521580fe9"
      },
      "execution_count": 157,
      "outputs": [
        {
          "output_type": "execute_result",
          "data": {
            "text/plain": [
              "History     65\n",
              "Maths      100\n",
              "Science     65\n",
              "Marathi     85\n",
              "Hindi       75\n",
              "Name: Biru ke marks, dtype: int64"
            ]
          },
          "metadata": {},
          "execution_count": 157
        }
      ]
    },
    {
      "cell_type": "code",
      "source": [
        "# what if an index does not exist\n",
        "\n",
        "marks_df['evs'] = 90"
      ],
      "metadata": {
        "id": "Ecsa_s7ZC0lL"
      },
      "execution_count": 158,
      "outputs": []
    },
    {
      "cell_type": "code",
      "source": [
        "marks_df"
      ],
      "metadata": {
        "colab": {
          "base_uri": "https://localhost:8080/"
        },
        "id": "Q1SDbm-yDE7x",
        "outputId": "ee7a974f-ce07-4980-a3ca-e1253522701d"
      },
      "execution_count": 159,
      "outputs": [
        {
          "output_type": "execute_result",
          "data": {
            "text/plain": [
              "History     65\n",
              "Maths      100\n",
              "Science     65\n",
              "Marathi     85\n",
              "Hindi       75\n",
              "evs         90\n",
              "Name: Biru ke marks, dtype: int64"
            ]
          },
          "metadata": {},
          "execution_count": 159
        }
      ]
    },
    {
      "cell_type": "code",
      "source": [
        "vk[[1,2,3,47,78]]"
      ],
      "metadata": {
        "colab": {
          "base_uri": "https://localhost:8080/"
        },
        "id": "azQxQWz_DHX5",
        "outputId": "0e09ca08-8673-4755-b7fe-c2078832a90c"
      },
      "execution_count": 160,
      "outputs": [
        {
          "output_type": "execute_result",
          "data": {
            "text/plain": [
              "match_no\n",
              "1      1\n",
              "2     23\n",
              "3     13\n",
              "47    27\n",
              "78    32\n",
              "Name: runs, dtype: int64"
            ]
          },
          "metadata": {},
          "execution_count": 160
        }
      ]
    },
    {
      "cell_type": "code",
      "source": [
        "# slicing\n",
        "marks_df[0:3] = 100"
      ],
      "metadata": {
        "id": "aQbrUOqzDaxv"
      },
      "execution_count": 162,
      "outputs": []
    },
    {
      "cell_type": "code",
      "source": [
        "# fancy indexing\n",
        "marks_df[[0,3,2,4]]= [97, 78, 79, 67]"
      ],
      "metadata": {
        "id": "_IT6FqFDDucr"
      },
      "execution_count": 166,
      "outputs": []
    },
    {
      "cell_type": "code",
      "source": [
        "marks_df"
      ],
      "metadata": {
        "colab": {
          "base_uri": "https://localhost:8080/"
        },
        "id": "zmsdwEhXDyk9",
        "outputId": "989a3e0a-1e40-482d-b6d2-d4c56df9c9c8"
      },
      "execution_count": 167,
      "outputs": [
        {
          "output_type": "execute_result",
          "data": {
            "text/plain": [
              "History     97\n",
              "Maths      100\n",
              "Science     79\n",
              "Marathi     78\n",
              "Hindi       67\n",
              "evs         90\n",
              "Name: Biru ke marks, dtype: int64"
            ]
          },
          "metadata": {},
          "execution_count": 167
        }
      ]
    },
    {
      "cell_type": "code",
      "source": [
        "print(dir(marks_df))"
      ],
      "metadata": {
        "colab": {
          "base_uri": "https://localhost:8080/"
        },
        "id": "8f_wIArsEIwY",
        "outputId": "ff1f33ac-a4fe-458b-c758-9791336e474b"
      },
      "execution_count": 171,
      "outputs": [
        {
          "output_type": "stream",
          "name": "stdout",
          "text": [
            "['Hindi', 'History', 'Marathi', 'Maths', 'Science', 'T', '_AXIS_LEN', '_AXIS_ORDERS', '_AXIS_TO_AXIS_NUMBER', '_HANDLED_TYPES', '__abs__', '__add__', '__and__', '__annotations__', '__array__', '__array_priority__', '__array_ufunc__', '__array_wrap__', '__bool__', '__class__', '__contains__', '__copy__', '__deepcopy__', '__delattr__', '__delitem__', '__dict__', '__dir__', '__divmod__', '__doc__', '__eq__', '__finalize__', '__float__', '__floordiv__', '__format__', '__ge__', '__getattr__', '__getattribute__', '__getitem__', '__getstate__', '__gt__', '__hash__', '__iadd__', '__iand__', '__ifloordiv__', '__imod__', '__imul__', '__init__', '__init_subclass__', '__int__', '__invert__', '__ior__', '__ipow__', '__isub__', '__iter__', '__itruediv__', '__ixor__', '__le__', '__len__', '__long__', '__lt__', '__matmul__', '__mod__', '__module__', '__mul__', '__ne__', '__neg__', '__new__', '__nonzero__', '__or__', '__pos__', '__pow__', '__radd__', '__rand__', '__rdivmod__', '__reduce__', '__reduce_ex__', '__repr__', '__rfloordiv__', '__rmatmul__', '__rmod__', '__rmul__', '__ror__', '__round__', '__rpow__', '__rsub__', '__rtruediv__', '__rxor__', '__setattr__', '__setitem__', '__setstate__', '__sizeof__', '__str__', '__sub__', '__subclasshook__', '__truediv__', '__weakref__', '__xor__', '_accessors', '_accum_func', '_add_numeric_operations', '_agg_by_level', '_agg_examples_doc', '_agg_see_also_doc', '_align_frame', '_align_series', '_append', '_arith_method', '_as_manager', '_attrs', '_binop', '_can_hold_na', '_check_inplace_and_allows_duplicate_labels', '_check_inplace_setting', '_check_is_chained_assignment_possible', '_check_label_or_level_ambiguity', '_check_setitem_copy', '_clear_item_cache', '_clip_with_one_bound', '_clip_with_scalar', '_cmp_method', '_consolidate', '_consolidate_inplace', '_construct_axes_dict', '_construct_axes_from_arguments', '_construct_result', '_constructor', '_constructor_expanddim', '_convert', '_convert_dtypes', '_data', '_dir_additions', '_dir_deletions', '_drop_axis', '_drop_labels_or_levels', '_duplicated', '_find_valid_index', '_flags', '_get_axis', '_get_axis_name', '_get_axis_number', '_get_axis_resolvers', '_get_block_manager_axis', '_get_bool_data', '_get_cacher', '_get_cleaned_column_resolvers', '_get_index_resolvers', '_get_label_or_level_values', '_get_numeric_data', '_get_value', '_get_values', '_get_values_tuple', '_get_with', '_gotitem', '_hidden_attrs', '_indexed_same', '_info_axis', '_info_axis_name', '_info_axis_number', '_init_dict', '_init_mgr', '_inplace_method', '_internal_names', '_internal_names_set', '_is_cached', '_is_copy', '_is_label_or_level_reference', '_is_label_reference', '_is_level_reference', '_is_mixed_type', '_is_view', '_item_cache', '_ixs', '_logical_func', '_logical_method', '_map_values', '_maybe_update_cacher', '_memory_usage', '_metadata', '_mgr', '_min_count_stat_function', '_name', '_needs_reindex_multi', '_protect_consolidate', '_reduce', '_reindex_axes', '_reindex_indexer', '_reindex_multi', '_reindex_with_indexers', '_rename', '_replace_single', '_repr_data_resource_', '_repr_latex_', '_reset_cache', '_reset_cacher', '_set_as_cached', '_set_axis', '_set_axis_name', '_set_axis_nocheck', '_set_is_copy', '_set_labels', '_set_name', '_set_value', '_set_values', '_set_with', '_set_with_engine', '_slice', '_stat_axis', '_stat_axis_name', '_stat_axis_number', '_stat_function', '_stat_function_ddof', '_take', '_take_with_is_copy', '_typ', '_update_inplace', '_validate_dtype', '_values', '_where', 'abs', 'add', 'add_prefix', 'add_suffix', 'agg', 'aggregate', 'align', 'all', 'any', 'append', 'apply', 'argmax', 'argmin', 'argsort', 'array', 'asfreq', 'asof', 'astype', 'at', 'at_time', 'attrs', 'autocorr', 'axes', 'backfill', 'between', 'between_time', 'bfill', 'bool', 'clip', 'combine', 'combine_first', 'compare', 'convert_dtypes', 'copy', 'corr', 'count', 'cov', 'cummax', 'cummin', 'cumprod', 'cumsum', 'describe', 'diff', 'div', 'divide', 'divmod', 'dot', 'drop', 'drop_duplicates', 'droplevel', 'dropna', 'dtype', 'dtypes', 'duplicated', 'empty', 'eq', 'equals', 'evs', 'ewm', 'expanding', 'explode', 'factorize', 'ffill', 'fillna', 'filter', 'first', 'first_valid_index', 'flags', 'floordiv', 'ge', 'get', 'groupby', 'gt', 'hasnans', 'head', 'hist', 'iat', 'idxmax', 'idxmin', 'iloc', 'index', 'infer_objects', 'info', 'interpolate', 'is_monotonic', 'is_monotonic_decreasing', 'is_monotonic_increasing', 'is_unique', 'isin', 'isna', 'isnull', 'item', 'items', 'iteritems', 'keys', 'kurt', 'kurtosis', 'last', 'last_valid_index', 'le', 'loc', 'lt', 'mad', 'map', 'mask', 'max', 'mean', 'median', 'memory_usage', 'min', 'mod', 'mode', 'mul', 'multiply', 'name', 'nbytes', 'ndim', 'ne', 'nlargest', 'notna', 'notnull', 'nsmallest', 'nunique', 'pad', 'pct_change', 'pipe', 'plot', 'pop', 'pow', 'prod', 'product', 'quantile', 'radd', 'rank', 'ravel', 'rdiv', 'rdivmod', 'reindex', 'reindex_like', 'rename', 'rename_axis', 'reorder_levels', 'repeat', 'replace', 'resample', 'reset_index', 'rfloordiv', 'rmod', 'rmul', 'rolling', 'round', 'rpow', 'rsub', 'rtruediv', 'sample', 'searchsorted', 'sem', 'set_axis', 'set_flags', 'shape', 'shift', 'size', 'skew', 'slice_shift', 'sort_index', 'sort_values', 'squeeze', 'std', 'sub', 'subtract', 'sum', 'swapaxes', 'swaplevel', 'tail', 'take', 'to_clipboard', 'to_csv', 'to_dict', 'to_excel', 'to_frame', 'to_hdf', 'to_json', 'to_latex', 'to_list', 'to_markdown', 'to_numpy', 'to_period', 'to_pickle', 'to_sql', 'to_string', 'to_timestamp', 'to_xarray', 'transform', 'transpose', 'truediv', 'truncate', 'tz_convert', 'tz_localize', 'unique', 'unstack', 'update', 'value_counts', 'values', 'var', 'view', 'where', 'xs']\n"
          ]
        }
      ]
    },
    {
      "cell_type": "markdown",
      "source": [
        "# Series with Python Functionalities"
      ],
      "metadata": {
        "id": "VR1g1e2VEo2e"
      }
    },
    {
      "cell_type": "code",
      "source": [
        "# len/type/dir/sorted/max/min\n",
        "print(len(sub))\n",
        "print(type(sub))\n",
        "print(dir(sub))\n",
        "print(sorted(sub))\n",
        "print(min(sub))\n",
        "print(max(sub))"
      ],
      "metadata": {
        "colab": {
          "base_uri": "https://localhost:8080/"
        },
        "id": "gnAxOXWGEQdr",
        "outputId": "8fd390c1-b020-4863-d49f-24b3097f1e8f"
      },
      "execution_count": 172,
      "outputs": [
        {
          "output_type": "stream",
          "name": "stdout",
          "text": [
            "365\n",
            "<class 'pandas.core.series.Series'>\n",
            "['T', '_AXIS_LEN', '_AXIS_ORDERS', '_AXIS_TO_AXIS_NUMBER', '_HANDLED_TYPES', '__abs__', '__add__', '__and__', '__annotations__', '__array__', '__array_priority__', '__array_ufunc__', '__array_wrap__', '__bool__', '__class__', '__contains__', '__copy__', '__deepcopy__', '__delattr__', '__delitem__', '__dict__', '__dir__', '__divmod__', '__doc__', '__eq__', '__finalize__', '__float__', '__floordiv__', '__format__', '__ge__', '__getattr__', '__getattribute__', '__getitem__', '__getstate__', '__gt__', '__hash__', '__iadd__', '__iand__', '__ifloordiv__', '__imod__', '__imul__', '__init__', '__init_subclass__', '__int__', '__invert__', '__ior__', '__ipow__', '__isub__', '__iter__', '__itruediv__', '__ixor__', '__le__', '__len__', '__long__', '__lt__', '__matmul__', '__mod__', '__module__', '__mul__', '__ne__', '__neg__', '__new__', '__nonzero__', '__or__', '__pos__', '__pow__', '__radd__', '__rand__', '__rdivmod__', '__reduce__', '__reduce_ex__', '__repr__', '__rfloordiv__', '__rmatmul__', '__rmod__', '__rmul__', '__ror__', '__round__', '__rpow__', '__rsub__', '__rtruediv__', '__rxor__', '__setattr__', '__setitem__', '__setstate__', '__sizeof__', '__str__', '__sub__', '__subclasshook__', '__truediv__', '__weakref__', '__xor__', '_accessors', '_accum_func', '_add_numeric_operations', '_agg_by_level', '_agg_examples_doc', '_agg_see_also_doc', '_align_frame', '_align_series', '_append', '_arith_method', '_as_manager', '_attrs', '_binop', '_can_hold_na', '_check_inplace_and_allows_duplicate_labels', '_check_inplace_setting', '_check_is_chained_assignment_possible', '_check_label_or_level_ambiguity', '_check_setitem_copy', '_clear_item_cache', '_clip_with_one_bound', '_clip_with_scalar', '_cmp_method', '_consolidate', '_consolidate_inplace', '_construct_axes_dict', '_construct_axes_from_arguments', '_construct_result', '_constructor', '_constructor_expanddim', '_convert', '_convert_dtypes', '_data', '_dir_additions', '_dir_deletions', '_drop_axis', '_drop_labels_or_levels', '_duplicated', '_find_valid_index', '_flags', '_get_axis', '_get_axis_name', '_get_axis_number', '_get_axis_resolvers', '_get_block_manager_axis', '_get_bool_data', '_get_cacher', '_get_cleaned_column_resolvers', '_get_index_resolvers', '_get_label_or_level_values', '_get_numeric_data', '_get_value', '_get_values', '_get_values_tuple', '_get_with', '_gotitem', '_hidden_attrs', '_indexed_same', '_info_axis', '_info_axis_name', '_info_axis_number', '_init_dict', '_init_mgr', '_inplace_method', '_internal_names', '_internal_names_set', '_is_cached', '_is_copy', '_is_label_or_level_reference', '_is_label_reference', '_is_level_reference', '_is_mixed_type', '_is_view', '_item_cache', '_ixs', '_logical_func', '_logical_method', '_map_values', '_maybe_update_cacher', '_memory_usage', '_metadata', '_mgr', '_min_count_stat_function', '_name', '_needs_reindex_multi', '_protect_consolidate', '_reduce', '_reindex_axes', '_reindex_indexer', '_reindex_multi', '_reindex_with_indexers', '_rename', '_replace_single', '_repr_data_resource_', '_repr_latex_', '_reset_cache', '_reset_cacher', '_set_as_cached', '_set_axis', '_set_axis_name', '_set_axis_nocheck', '_set_is_copy', '_set_labels', '_set_name', '_set_value', '_set_values', '_set_with', '_set_with_engine', '_slice', '_stat_axis', '_stat_axis_name', '_stat_axis_number', '_stat_function', '_stat_function_ddof', '_take', '_take_with_is_copy', '_typ', '_update_inplace', '_validate_dtype', '_values', '_where', 'abs', 'add', 'add_prefix', 'add_suffix', 'agg', 'aggregate', 'align', 'all', 'any', 'append', 'apply', 'argmax', 'argmin', 'argsort', 'array', 'asfreq', 'asof', 'astype', 'at', 'at_time', 'attrs', 'autocorr', 'axes', 'backfill', 'between', 'between_time', 'bfill', 'bool', 'clip', 'combine', 'combine_first', 'compare', 'convert_dtypes', 'copy', 'corr', 'count', 'cov', 'cummax', 'cummin', 'cumprod', 'cumsum', 'describe', 'diff', 'div', 'divide', 'divmod', 'dot', 'drop', 'drop_duplicates', 'droplevel', 'dropna', 'dtype', 'dtypes', 'duplicated', 'empty', 'eq', 'equals', 'ewm', 'expanding', 'explode', 'factorize', 'ffill', 'fillna', 'filter', 'first', 'first_valid_index', 'flags', 'floordiv', 'ge', 'get', 'groupby', 'gt', 'hasnans', 'head', 'hist', 'iat', 'idxmax', 'idxmin', 'iloc', 'index', 'infer_objects', 'info', 'interpolate', 'is_monotonic', 'is_monotonic_decreasing', 'is_monotonic_increasing', 'is_unique', 'isin', 'isna', 'isnull', 'item', 'items', 'iteritems', 'keys', 'kurt', 'kurtosis', 'last', 'last_valid_index', 'le', 'loc', 'lt', 'mad', 'map', 'mask', 'max', 'mean', 'median', 'memory_usage', 'min', 'mod', 'mode', 'mul', 'multiply', 'name', 'nbytes', 'ndim', 'ne', 'nlargest', 'notna', 'notnull', 'nsmallest', 'nunique', 'pad', 'pct_change', 'pipe', 'plot', 'pop', 'pow', 'prod', 'product', 'quantile', 'radd', 'rank', 'ravel', 'rdiv', 'rdivmod', 'reindex', 'reindex_like', 'rename', 'rename_axis', 'reorder_levels', 'repeat', 'replace', 'resample', 'reset_index', 'rfloordiv', 'rmod', 'rmul', 'rolling', 'round', 'rpow', 'rsub', 'rtruediv', 'sample', 'searchsorted', 'sem', 'set_axis', 'set_flags', 'shape', 'shift', 'size', 'skew', 'slice_shift', 'sort_index', 'sort_values', 'squeeze', 'std', 'sub', 'subtract', 'sum', 'swapaxes', 'swaplevel', 'tail', 'take', 'to_clipboard', 'to_csv', 'to_dict', 'to_excel', 'to_frame', 'to_hdf', 'to_json', 'to_latex', 'to_list', 'to_markdown', 'to_numpy', 'to_period', 'to_pickle', 'to_sql', 'to_string', 'to_timestamp', 'to_xarray', 'transform', 'transpose', 'truediv', 'truncate', 'tz_convert', 'tz_localize', 'unique', 'unstack', 'update', 'value_counts', 'values', 'var', 'view', 'where', 'xs']\n",
            "[33, 33, 35, 37, 39, 40, 40, 40, 40, 42, 42, 43, 44, 44, 44, 45, 46, 46, 48, 49, 49, 49, 49, 50, 50, 50, 51, 54, 56, 56, 56, 56, 57, 61, 62, 64, 65, 65, 66, 66, 66, 66, 67, 68, 70, 70, 70, 71, 71, 72, 72, 72, 72, 72, 73, 74, 74, 75, 76, 76, 76, 76, 77, 77, 78, 78, 78, 79, 79, 80, 80, 80, 81, 81, 82, 82, 83, 83, 83, 84, 84, 84, 85, 86, 86, 86, 87, 87, 87, 87, 88, 88, 88, 88, 88, 89, 89, 89, 90, 90, 90, 90, 91, 92, 92, 92, 93, 93, 93, 93, 95, 95, 96, 96, 96, 96, 97, 97, 98, 98, 99, 99, 100, 100, 100, 101, 101, 101, 102, 102, 103, 103, 104, 104, 104, 105, 105, 105, 105, 105, 105, 105, 105, 105, 108, 108, 108, 108, 108, 108, 109, 109, 110, 110, 110, 111, 111, 112, 113, 113, 113, 114, 114, 114, 114, 115, 115, 115, 115, 117, 117, 117, 118, 118, 119, 119, 119, 119, 120, 122, 123, 123, 123, 123, 123, 124, 125, 126, 127, 128, 128, 129, 130, 131, 131, 132, 132, 134, 134, 134, 135, 135, 136, 136, 136, 137, 138, 138, 138, 139, 140, 144, 145, 146, 146, 146, 146, 147, 149, 150, 150, 150, 150, 151, 152, 152, 152, 153, 153, 153, 154, 154, 154, 155, 155, 156, 156, 156, 156, 157, 157, 157, 157, 158, 158, 159, 159, 160, 160, 160, 160, 162, 164, 166, 167, 167, 168, 170, 170, 170, 170, 171, 172, 172, 173, 173, 173, 174, 174, 175, 175, 176, 176, 177, 178, 179, 179, 180, 180, 180, 182, 183, 183, 183, 184, 184, 184, 185, 185, 185, 185, 186, 186, 186, 188, 189, 190, 190, 192, 192, 192, 196, 196, 196, 197, 197, 202, 202, 202, 203, 204, 206, 207, 209, 210, 210, 211, 212, 213, 214, 216, 219, 220, 221, 221, 222, 222, 224, 225, 225, 226, 227, 228, 229, 230, 231, 233, 236, 236, 237, 241, 243, 244, 245, 247, 249, 254, 254, 258, 259, 259, 261, 261, 265, 267, 268, 269, 276, 276, 290, 295, 301, 306, 312, 396]\n",
            "33\n",
            "396\n"
          ]
        }
      ]
    },
    {
      "cell_type": "code",
      "source": [
        "# type conversion\n",
        "list(marks_df)"
      ],
      "metadata": {
        "colab": {
          "base_uri": "https://localhost:8080/"
        },
        "id": "PIExuzSIEw8W",
        "outputId": "f3e5ad08-12ef-4742-a00b-8c5f6c37cec8"
      },
      "execution_count": 173,
      "outputs": [
        {
          "output_type": "execute_result",
          "data": {
            "text/plain": [
              "[97, 100, 79, 78, 67, 90]"
            ]
          },
          "metadata": {},
          "execution_count": 173
        }
      ]
    },
    {
      "cell_type": "code",
      "source": [
        "marks_df\n"
      ],
      "metadata": {
        "colab": {
          "base_uri": "https://localhost:8080/"
        },
        "id": "ICdKAFPEPfc5",
        "outputId": "7db658db-e88d-402a-b9b6-b6bc93df6d88"
      },
      "execution_count": 174,
      "outputs": [
        {
          "output_type": "execute_result",
          "data": {
            "text/plain": [
              "History     97\n",
              "Maths      100\n",
              "Science     79\n",
              "Marathi     78\n",
              "Hindi       67\n",
              "evs         90\n",
              "Name: Biru ke marks, dtype: int64"
            ]
          },
          "metadata": {},
          "execution_count": 174
        }
      ]
    },
    {
      "cell_type": "code",
      "source": [
        "# membership operator\n",
        "'Battalion 609' in movies"
      ],
      "metadata": {
        "colab": {
          "base_uri": "https://localhost:8080/"
        },
        "id": "OsO_eNFmPht4",
        "outputId": "1b5399b9-6c79-4df5-8958-6b883bba3e48"
      },
      "execution_count": 176,
      "outputs": [
        {
          "output_type": "execute_result",
          "data": {
            "text/plain": [
              "True"
            ]
          },
          "metadata": {},
          "execution_count": 176
        }
      ]
    },
    {
      "cell_type": "code",
      "source": [
        "150 not in vk"
      ],
      "metadata": {
        "colab": {
          "base_uri": "https://localhost:8080/"
        },
        "id": "k1bo9wKQPwZR",
        "outputId": "544407bc-9651-473c-87ca-a3f7bbefc9df"
      },
      "execution_count": 177,
      "outputs": [
        {
          "output_type": "execute_result",
          "data": {
            "text/plain": [
              "False"
            ]
          },
          "metadata": {},
          "execution_count": 177
        }
      ]
    },
    {
      "cell_type": "code",
      "source": [
        "150 in vk"
      ],
      "metadata": {
        "colab": {
          "base_uri": "https://localhost:8080/"
        },
        "id": "eJx3Q7AbP7Hw",
        "outputId": "e609ffc4-8c3f-4878-b508-27ac8ed105e3"
      },
      "execution_count": 178,
      "outputs": [
        {
          "output_type": "execute_result",
          "data": {
            "text/plain": [
              "True"
            ]
          },
          "metadata": {},
          "execution_count": 178
        }
      ]
    },
    {
      "cell_type": "code",
      "source": [
        "2000 not in vk"
      ],
      "metadata": {
        "colab": {
          "base_uri": "https://localhost:8080/"
        },
        "id": "WxRmvhW4P91o",
        "outputId": "3404f483-d72b-4658-8eaf-c9b9808fb651"
      },
      "execution_count": 179,
      "outputs": [
        {
          "output_type": "execute_result",
          "data": {
            "text/plain": [
              "True"
            ]
          },
          "metadata": {},
          "execution_count": 179
        }
      ]
    },
    {
      "cell_type": "code",
      "source": [
        "# getting values\n",
        "'Ranveer Singh' in movies.values"
      ],
      "metadata": {
        "colab": {
          "base_uri": "https://localhost:8080/"
        },
        "id": "OyKRcwjkP_7J",
        "outputId": "0ce81992-d3ae-4815-c87c-6afb55eb5c16"
      },
      "execution_count": 181,
      "outputs": [
        {
          "output_type": "execute_result",
          "data": {
            "text/plain": [
              "True"
            ]
          },
          "metadata": {},
          "execution_count": 181
        }
      ]
    },
    {
      "cell_type": "code",
      "source": [
        "# lets whether vk has made 150runs or not\n",
        "150 in vk.values"
      ],
      "metadata": {
        "colab": {
          "base_uri": "https://localhost:8080/"
        },
        "id": "iaJ23F2_QIBm",
        "outputId": "3c135119-1737-4694-d848-833927630fcd"
      },
      "execution_count": 182,
      "outputs": [
        {
          "output_type": "execute_result",
          "data": {
            "text/plain": [
              "False"
            ]
          },
          "metadata": {},
          "execution_count": 182
        }
      ]
    },
    {
      "cell_type": "code",
      "source": [
        "# looping over series\n",
        "# by default it prints values\n",
        "\n",
        "for i in movies:\n",
        "  print(i)"
      ],
      "metadata": {
        "colab": {
          "base_uri": "https://localhost:8080/"
        },
        "id": "0SrPaSkhQSob",
        "outputId": "51805c07-7fdc-4dae-e0d1-3e5737c09db5"
      },
      "execution_count": 183,
      "outputs": [
        {
          "output_type": "stream",
          "name": "stdout",
          "text": [
            "Vicky Kaushal\n",
            "Vicky Ahuja\n",
            "Anupam Kher\n",
            "Emraan Hashmi\n",
            "Mona Ambegaonkar\n",
            "Geetika Vidya Ohlyan\n",
            "Arshad Warsi\n",
            "Radhika Apte\n",
            "Kangana Ranaut\n",
            "Nawazuddin Siddiqui\n",
            "Ali Asgar\n",
            "Ranveer Singh\n",
            "Prit Kamani\n",
            "Ajay Devgn\n",
            "Sushant Singh Rajput\n",
            "Amitabh Bachchan\n",
            "Abhimanyu Dasani\n",
            "Talha Arshad Reshi\n",
            "Nawazuddin Siddiqui\n",
            "Garima Agarwal\n",
            "Rasika Agashe\n",
            "Barun Sobti\n",
            "Akshay Kumar\n",
            "Zaheer Iqbal\n",
            "Vidyut Jammwal\n",
            "Deepika Amin\n",
            "Manav Kaul\n",
            "Naseeruddin Shah\n",
            "Varun Dhawan\n",
            "Shreyas Talpade\n",
            "Tiger Shroff\n",
            "Boman Irani\n",
            "Ajay Devgn\n",
            "Arjun Kapoor\n",
            "Gavie Chahal\n",
            "Prabhu Deva\n",
            "Shahid Kapoor\n",
            "Ayushmann Khurrana\n",
            "Anupam Kher\n",
            "Karanvir Bohra\n",
            "Hrithik Roshan\n",
            "Jimmy Sheirgill\n",
            "John Abraham\n",
            "Rishi Kapoor\n",
            "Kangana Ranaut\n",
            "Natalia Janoszek\n",
            "Diljit Dosanjh\n",
            "Sidharth Malhotra\n",
            "Rajeev Khandelwal\n",
            "Zaira Wasim\n",
            "Akshay Kumar\n",
            "Jacqueline Fernandez\n",
            "Ayushmann Khurrana\n",
            "Akshaye Khanna\n",
            "Sonam Kapoor\n",
            "Karan Deol\n",
            "Sanjay Dutt\n",
            "Bhavesh Kumar\n",
            "Sanaya Irani\n",
            "Ayushmann Khurrana\n",
            "Siddhanth Kapoor\n",
            "Akshay Kumar\n",
            "Taapsee Pannu\n",
            "Rajkummar Rao\n",
            "Sunny Singh Nijjar\n",
            "Neil Nitin Mukesh\n",
            "Suraj Pancholi\n",
            "Boman Irani\n",
            "Riteish Deshmukh\n",
            "Nawazuddin Siddiqui\n",
            "Shahbaaz Khan\n",
            "Kriti Kharbanda\n",
            "Naseeruddin Shah\n",
            "Vardhan Puri\n",
            "Sushant Singh Rajput\n",
            "Kartik Aaryan\n",
            "Vidyut Jammwal\n",
            "Rani Mukerji\n",
            "Salman Khan\n",
            "Akshay Kumar\n",
            "Saif Ali Khan\n",
            "Kay Kay Menon\n",
            "Nora Fatehi\n",
            "Ashmit Patel\n",
            "Viineet Kumar\n",
            "Rahul Bhat\n",
            "Vicky Kaushal\n",
            "Sidharth Malhotra\n",
            "Deepika Padukone\n",
            "Geetanjali Thapa\n",
            "Akshay Anand\n",
            "Pulkit Samrat\n",
            "Kartik Aaryan\n",
            "Lee Byford\n",
            "Taapsee Pannu\n",
            "Aisha Ahmed\n",
            "Ajay Devgn\n",
            "Rani Mukerji\n",
            "Manoj Bajpayee\n",
            "Tiger Shroff\n",
            "Varun Dhawan\n",
            "Prabhu Deva\n",
            "Ishaan Khattar\n",
            "Abhay Deol\n",
            "Yogesh Raj Mishra\n",
            "Rajkummar Rao\n",
            "Alia Bhatt\n",
            "Naseeruddin Shah\n",
            "Sumeet Vyas\n",
            "Vinay Pathak\n",
            "John Abraham\n",
            "Danny Denzongpa\n",
            "Harshvardhan Kapoor\n",
            "Jimmy Sheirgill\n",
            "Anil Kapoor\n",
            "Ishaan Khattar\n",
            "Ranbir Kapoor\n",
            "Sanjay Dutt\n",
            "Dharmesh Yelande\n",
            "Taapsee Pannu\n",
            "Arjun Mathur\n",
            "Irrfan Khan\n",
            "Akshay Kumar\n",
            "John Abraham\n",
            "Sonakshi Sinha\n",
            "Utkarsh Sharma\n",
            "Dharmendra\n",
            "Rajkummar Rao\n",
            "Jackie Shroff\n",
            "Avinash Tiwary\n",
            "Manoj Bajpayee\n",
            "Paoli Dam\n",
            "Sanya Malhotra\n",
            "Shahid Kapoor\n",
            "Abhishek Bharate\n",
            "Nawazuddin Siddiqui\n",
            "Manish Anand\n",
            "Taapsee Pannu\n",
            "Jackky Bhagnani\n",
            "Anushka Sharma\n",
            "Radhika Apte\n",
            "Rhea Chakraborty\n",
            "Govinda\n",
            "Sohum Shah\n",
            "Kajol\n",
            "Arjun Kapoor\n",
            "Ayushmann Khurrana\n",
            "Ayushmann Khurrana\n",
            "Nargis Fakhri\n",
            "Aishwarya Devan\n",
            "Neil Nitin Mukesh\n",
            "Shakti Kapoor\n",
            "Amit Sadh\n",
            "Sunny Deol\n",
            "Rahul Bagga\n",
            "Sunny Deol\n",
            "Amyra Dastur\n",
            "Shah Rukh Khan\n",
            "Ranveer Singh\n",
            "Salman Khan\n",
            "Ajay Devgn\n",
            "Varun Dhawan\n",
            "Shraddha Kapoor\n",
            "Sunil Grover\n",
            "Hrithik Roshan\n",
            "Raj Arjun\n",
            "Aamir Khan\n",
            "Gurmeet Ram Rahim Singh\n",
            "Arsh Bajwa\n",
            "Rana Daggubati\n",
            "Naseeruddin Shah\n",
            "Kangana Ranaut\n",
            "Nana Patekar\n",
            "Arbaaz Khan\n",
            "Varun Dhawan\n",
            "Rajkummar Rao\n",
            "Govinda\n",
            "Rajat Kapoor\n",
            "Anushka Sharma\n",
            "Kiara Advani\n",
            "Shaurya Singh\n",
            "Pankaj Tripathi\n",
            "Taapsee Pannu\n",
            "Adil Hussain\n",
            "Amitabh Bachchan\n",
            "Sunny Leone\n",
            "Hema Malini\n",
            "Raveena Tandon\n",
            "Amitabh Bachchan\n",
            "Amardeep Insan\n",
            "Shraddha Kapoor\n",
            "Ayushmann Khurrana\n",
            "Sachin Tendulkar\n",
            "Irrfan Khan\n",
            "Himansh Kohli\n",
            "Adil Hussain\n",
            "Jayesh Raj\n",
            "Manisha Koirala\n",
            "Deepika Padukone\n",
            "Rajkummar Rao\n",
            "Salman Khan\n",
            "Riteish Deshmukh\n",
            "Shiv Darshan\n",
            "Ranbir Kapoor\n",
            "Ashish Bisht\n",
            "Aahana Kumra\n",
            "Manoj Babani\n",
            "Rajveer Ankur Singh\n",
            "Kirti Kulhari\n",
            "Shah Rukh Khan\n",
            "Tiger Shroff\n",
            "Akshay Kumar\n",
            "Anil Kapoor\n",
            "Kartik Aaryan\n",
            "Ayushmann Khurrana\n",
            "Nawazuddin Siddiqui\n",
            "Prisha Aneja\n",
            "Aadar Jain\n",
            "Ayushmann Khurrana\n",
            "Kunal Kapoor\n",
            "Arjun Rampal\n",
            "Kangana Ranaut\n",
            "Farhan Akhtar\n",
            "Sidharth Malhotra\n",
            "Hugh Bonneville\n",
            "Rishi Kapoor\n",
            "Rajkummar Rao\n",
            "Kunaal Roy Kapur\n",
            "Sunny Leone\n",
            "Shraddha Kapoor\n",
            "Rina Charaniya\n",
            "Nawazuddin Siddiqui\n",
            "Sunny Deol\n",
            "Sridevi\n",
            "Saif Ali Khan\n",
            "Soundarya Sharma\n",
            "Sudha Chandran\n",
            "Manoj Bajpayee\n",
            "Zaira Wasim\n",
            "Prakash Belawadi\n",
            "Kalki Koechlin\n",
            "Rajkummar Rao\n",
            "Richa Chadha\n",
            "Irrfan Khan\n",
            "Zareen Khan\n",
            "Nayna Bandhopadhyay\n",
            "Vidya Balan\n",
            "Nishikant Kamat\n",
            "Sanjay Mishra\n",
            "Kapil Sharma\n",
            "Pulkit Samrat\n",
            "Vijay Varma\n",
            "Sushama Deshpande\n",
            "Richa Chadha\n",
            "Prince Shah\n",
            "Tanima Bhattacharya\n",
            "Akshay Kumar\n",
            "Zeenat Aman\n",
            "Madhavan\n",
            "Tusshar Kapoor\n",
            "Tusshar Kapoor\n",
            "Himansh Kohli\n",
            "Sadhana Singh\n",
            "Sunny Deol\n",
            "Aditya Roy Kapoor\n",
            "Rishi Kapoor\n",
            "Rajniesh Duggall\n",
            "Krishna Chaturvedi\n",
            "Girish Taurani\n",
            "Sonam Kapoor\n",
            "Sukhesh Arora\n",
            "Raima Sen\n",
            "Anuj Sachdeva\n",
            "Parthaa Akerkar\n",
            "Priyanka Chopra\n",
            "Sidharth Malhotra\n",
            "John Abraham\n",
            "Patralekhaa Paul\n",
            "Shah Rukh Khan\n",
            "Swara Bhaskar\n",
            "Randeep Hooda\n",
            "Shraddha Kapoor\n",
            "Pankaj Tripathi\n",
            "Jimmy Sheirgill\n",
            "Kartik Elangovan\n",
            "Boman Irani\n",
            "Manoj Bajpayee\n",
            "Sharman Joshi\n",
            "Emraan Hashmi\n",
            "Aanchal Dwivedi\n",
            "Sanjay Singh\n",
            "Arvind Swamy\n",
            "Radhika Apte\n",
            "Randeep Hooda\n",
            "Sachiin Joshi\n",
            "Kajal Aggarwal\n",
            "Amitabh Bachchan\n",
            "Shahid Kapoor\n",
            "Hazel Croney\n",
            "V. Ravichandran\n",
            "Vipin Sharma\n",
            "Nawazuddin Siddiqui\n",
            "Pulkit Samrat\n",
            "Tannishtha Chatterjee\n",
            "Krrish Chhabria\n",
            "Avinash Dhyani\n",
            "Zeenat Aman\n",
            "Salman Khan\n",
            "Shashank Arora\n",
            "Urvashi Rautela\n",
            "Naseeruddin Shah\n",
            "Sara Loren\n",
            "Tom Alter\n",
            "Irrfan Khan\n",
            "John Abraham\n",
            "Rajeev Khandelwal\n",
            "Ileana D'Cruz\n",
            "Sahil Anand\n",
            "Hrithik Roshan\n",
            "Diana Penty\n",
            "Niharica Raizada\n",
            "Tiger Shroff\n",
            "Sidharth Malhotra\n",
            "Nawazuddin Siddiqui\n",
            "Emraan Hashmi\n",
            "Taapsee Pannu\n",
            "Tannishtha Chatterjee\n",
            "Riteish Deshmukh\n",
            "Yash Soni\n",
            "Shreyas Talpade\n",
            "Vinay Pathak\n",
            "Jimmy Sharma\n",
            "Sushant Singh Rajput\n",
            "Ashok Insan\n",
            "RJ Balaji\n",
            "Saurav Chakraborty\n",
            "Shashank Udapurkar\n",
            "Shubham\n",
            "Manoj Bajpayee\n",
            "Sunny Leone\n",
            "Aashish Bhatt\n",
            "Ajay Devgn\n",
            "Ronit Roy\n",
            "Ranbir Kapoor\n",
            "Neha Sharma\n",
            "Farhan Akhtar\n",
            "John Abraham\n",
            "Alia Bhatt\n",
            "Vaani Kapoor\n",
            "Neha Dhupia\n",
            "Jimmy Sheirgill\n",
            "Sonarika Bhadoria\n",
            "Amitabh Bachchan\n",
            "Sharman Joshi\n",
            "Aamir Khan\n",
            "Harshvardhan Kapoor\n",
            "Salman Khan\n",
            "Kangana Ranaut\n",
            "Kangana Ranaut\n",
            "Soha Ali Khan\n",
            "Prabhu Deva\n",
            "Shah Rukh Khan\n",
            "Salman Khan\n",
            "Ranveer Singh\n",
            "Anil Kapoor\n",
            "Akshay Kumar\n",
            "Akshay Kumar\n",
            "Akshay Kumar\n",
            "Akshay Kumar\n",
            "Shakti Kapoor\n",
            "Bipasha Basu\n",
            "Arjun Kapoor\n",
            "Zayed Khan\n",
            "Malaika Arora\n",
            "Naman Jain\n",
            "Gurmeet Choudhary\n",
            "Kay Kay Menon\n",
            "Rati Agnihotri\n",
            "Amitabh Bachchan\n",
            "Arjun Rampal\n",
            "Varun Dhawan\n",
            "Swanand Kirkire\n",
            "Sulabha Arya\n",
            "Irrfan Khan\n",
            "Nana Patekar\n",
            "Ayushmann Khurrana\n",
            "Anupam Kher\n",
            "Gurmeet Ram Rahim Singh\n",
            "Sidhant Gupta\n",
            "Arjun Mathur\n",
            "Ganesh Acharya\n",
            "Anushka Sharma\n",
            "Gulshan Devaiah\n",
            "Sushant Singh Rajput\n",
            "Adhyayan Suman\n",
            "Vira Sathidar\n",
            "Kalki Koechlin\n",
            "Sunny Leone\n",
            "Sara Loren\n",
            "Emraan Hashmi\n",
            "Auroshika Dey\n",
            "Ira Dubey\n",
            "Naseeruddin Shah\n",
            "Vinay Pathak\n",
            "Ram Kapoor\n",
            "Deepika Padukone\n",
            "Ranbir Kapoor\n",
            "Shakti Anand\n",
            "Anil Kapoor\n",
            "Arshad Warsi\n",
            "Meenakshi Dixit\n",
            "Yash Acharya\n",
            "Rajkummar Rao\n",
            "Rahul Bagga\n",
            "Mohit Baghel\n",
            "Rishi Verma\n",
            "Mimoh Chakraborty\n",
            "Swara Bhaskar\n",
            "Richa Chadha\n",
            "Arshad Warsi\n",
            "Mugdha Godse\n",
            "Yashpal Sharma\n",
            "Dharmendra\n",
            "Sunny Deol\n",
            "Smitha Gondkar\n",
            "Kunal Kapoor\n",
            "Ajay Devgn\n",
            "Jacqueline Fernandez\n",
            "Rishi Kapoor\n",
            "Akshay Kumar\n",
            "Vinay Pathak\n",
            "Nawazuddin Siddiqui\n",
            "Bhavita Anand\n",
            "Saif Ali Khan\n",
            "Suraj Pancholi\n",
            "Shamim Khan\n",
            "Irrfan Khan\n",
            "Suhaas Ahuja\n",
            "Jaideep Ahlawat\n",
            "Charanpreet Insan\n",
            "Akanksha Puri\n",
            "Kunal Khemu\n",
            "Aishwarya Rai Bachchan\n",
            "Seema Azmi\n",
            "Parveen Kaur\n",
            "Kapil Sharma\n",
            "Kartik Aaryan\n",
            "Diganth\n",
            "Shahid Kapoor\n",
            "Nawazuddin Siddiqui\n",
            "Kunal Khemu\n",
            "Mann Bagga\n",
            "Manish Paul\n",
            "Sanjeev Kumar\n",
            "Madhuri Dixit\n",
            "Shiv Darshan\n",
            "Gopi Desai\n",
            "Mohinder Gujral\n",
            "Zeenat Aman\n",
            "Ranveer Singh\n",
            "Salman Khan\n",
            "Sidharth Malhotra\n",
            "Adhyayan Suman\n",
            "Indrapal Ahuja\n",
            "Jimmy Sheirgill\n",
            "Abhay Deol\n",
            "Sahil Anand\n",
            "Alia Bhatt\n",
            "Sampat Pal Devi\n",
            "Farhan Akhtar\n",
            "Madhuri Dixit\n",
            "Kangana Ranaut\n",
            "Ayushmann Khurrana\n",
            "Ali Zafar\n",
            "Mahek Chahal\n",
            "Monali Thakur\n",
            "Sunny Leone\n",
            "Harman Baweja\n",
            "Sanjay Mishra\n",
            "Sharman Joshi\n",
            "Sachin Khedekar\n",
            "Leeza Mangaldas\n",
            "Pulkit Samrat\n",
            "Zara Sheikh\n",
            "Arjun Kapoor\n",
            "Purab Kohli\n",
            "Amitabh Bachchan\n",
            "Varun Dhawan\n",
            "Arvinder Bhatti\n",
            "Kanika Batra\n",
            "Jackky Bhagnani\n",
            "Rajeev Khandelwal\n",
            "Tanuj Virwani\n",
            "Vijay Raaz\n",
            "Kannan Arunachalam\n",
            "Anjori Alagh\n",
            "Satish Kaushik\n",
            "Rahul Bagga\n",
            "Himesh Reshammiya\n",
            "Farooq Shaikh\n",
            "Makrand Deshpande\n",
            "Eesha Agarwal\n",
            "Siddharth Gupta\n",
            "Tiger Shroff\n",
            "Rajkummar Rao\n",
            "Sharib Hashmi\n",
            "Kangana Ranaut\n",
            "Kartik Aaryan\n",
            "Swara Bhaskar\n",
            "Simer Motiani\n",
            "Anshuman Jha\n",
            "Sidharth Malhotra\n",
            "Vidya Balan\n",
            "Saif Ali Khan\n",
            "Varun Dhawan\n",
            "Jay Bhanushali\n",
            "Armaan Jain\n",
            "Rajesh Khanna\n",
            "Vir Das\n",
            "Akshay Kumar\n",
            "Jimmy Sheirgill\n",
            "Reshmi Ghosh\n",
            "Akshay Oberoi\n",
            "Akshay Kumar\n",
            "Anupam Kher\n",
            "Rani Mukerji\n",
            "Emraan Hashmi\n",
            "Priyanka Chopra\n",
            "Bipasha Basu\n",
            "Deepika Padukone\n",
            "Sonam Kapoor\n",
            "Salil Acharya\n",
            "Salman Khan\n",
            "Saahil Prem\n",
            "Alieesa P Badresia\n",
            "Manoj Amarnani\n",
            "Sasha Aagha\n",
            "Tabu\n",
            "Hrithik Roshan\n",
            "Rati Agnihotri\n",
            "Aditya Roy Kapoor\n",
            "Asrani\n",
            "Harshvardhan Deo\n",
            "Nikhil Dwivedi\n",
            "Karanvir Bohra\n",
            "Puru Chibber\n",
            "Soha Ali Khan\n",
            "Rhea Chakraborty\n",
            "Shah Rukh Khan\n",
            "Rekha\n",
            "Anupam Kher\n",
            "Randeep Hooda\n",
            "Akshay Kumar\n",
            "Aadil Chahal\n",
            "Shabana Azmi\n",
            "Dimple Kapadia\n",
            "Nishant Dahiya\n",
            "Ranveer Singh\n",
            "Emraan Hashmi\n",
            "Saif Ali Khan\n",
            "Vinod Acharya\n",
            "Mannara Chopra\n",
            "Prabhas\n",
            "Mischa Barton\n",
            "Shiv Panditt\n",
            "Annu Kapoor\n",
            "Barun Sobti\n",
            "Rahul Bhat\n",
            "Aamir Khan\n",
            "Adhyayan Suman\n",
            "Imran Khan\n",
            "Naveen Kasturia\n",
            "Arjun Rampal\n",
            "Sarita Joshi\n",
            "Kartik Aaryan\n",
            "Juhi Chawla\n",
            "Saif Ali Khan\n",
            "Manisha Kelkar\n",
            "Farooq Shaikh\n",
            "Akshay Kumar\n",
            "Randeep Hooda\n",
            "Vivek Oberoi\n",
            "Rajkummar Rao\n",
            "Akash\n",
            "Vishwa Mohan Badola\n",
            "Neil Nitin Mukesh\n",
            "Saqib Saleem\n",
            "Arshad Warsi\n",
            "Jimmy Sheirgill\n",
            "Asha Bhosle\n",
            "Kamal Haasan\n",
            "Jackky Bhagnani\n",
            "Aditya Roy Kapoor\n",
            "Emraan Hashmi\n",
            "Ajay Devgn\n",
            "Ayushmann Khurrana\n",
            "Vivek Oberoi\n",
            "Vidyut Jammwal\n",
            "Rani Mukerji\n",
            "Saif Ali Khan\n",
            "Riya Vij\n",
            "Arjun Kapoor\n",
            "Preity Zinta\n",
            "Veena Malik\n",
            "Ranbir Kapoor\n",
            "Pulkit Samrat\n",
            "Rupa Bhimani\n",
            "Dhanush\n",
            "Kay Kay Menon\n",
            "Neil Nitin Mukesh\n",
            "Vidya Balan\n",
            "Anupam Kher\n",
            "Sanjay Dutt\n",
            "Farhan Akhtar\n",
            "Wamiqa Gabbi\n",
            "Shadab Kamal\n",
            "Sunil Shetty\n",
            "Prateik\n",
            "Tusshar Kapoor\n",
            "Tanuj Virwani\n",
            "Poonam Pandey\n",
            "Deepak Dobriyal\n",
            "Hemant Gopal\n",
            "Joy Mukherjee\n",
            "Rishi Kapoor\n",
            "Rajesh Tailang\n",
            "Akshay Kumar\n",
            "John Abraham\n",
            "Amitabh Bachchan\n",
            "Sushant Singh Rajput\n",
            "Shruti Haasan\n",
            "Deepika Padukone\n",
            "Vivek Oberoi\n",
            "Naseeruddin Shah\n",
            "Karan Kundrra\n",
            "Shahid Kapoor\n",
            "Aida Elkashef\n",
            "Irrfan Khan\n",
            "Anisa Butt\n",
            "Akshay Kumar\n",
            "Rajkummar Rao\n",
            "Manish Paul\n",
            "Puneet Singh Ratn\n",
            "Kangana Ranaut\n",
            "Sumit Nijhawan\n",
            "Tinnu Anand\n",
            "Chandan Roy Sanyal\n",
            "Elisha Kriis\n",
            "Ashmit Patel\n",
            "Imran Khan\n",
            "Manu Rishi Chadha\n",
            "Naseeruddin Shah\n",
            "Paresh Rawal\n",
            "Saif Ali Khan\n",
            "Aamir Khan\n",
            "Ali Zafar\n",
            "Ranveer Singh\n",
            "Sharman Joshi\n",
            "Naseeruddin Shah\n",
            "Shiney Ahuja\n",
            "Karan Sharma\n",
            "Sunny Deol\n",
            "Ranveer Singh\n",
            "Hrithik Roshan\n",
            "Kareena Kapoor\n",
            "Prateik\n",
            "Kiran Bhatia\n",
            "Bipasha Basu\n",
            "Riteish Deshmukh\n",
            "Jahangir Khan\n",
            "Irrfan Khan\n",
            "Vidya Balan\n",
            "Mithun Chakraborty\n",
            "Kareena Kapoor\n",
            "Manish Chaudhary\n",
            "Kavin Dave\n",
            "Shikhi Gupta\n",
            "Archana Joglekar\n",
            "Tusshar Kapoor\n",
            "Pulkit Samrat\n",
            "Ayushmann Khurrana\n",
            "Nikhil Dwivedi\n",
            "Anil Kapoor\n",
            "Karisma Kapoor\n",
            "Arjun Kapoor\n",
            "Sanjay Dutt\n",
            "Gul Panag\n",
            "Yudhveer Bakoliya\n",
            "Kay Kay Menon\n",
            "Emraan Hashmi\n",
            "Sharman Joshi\n",
            "Shahid Kapoor\n",
            "Anupam Kher\n",
            "Anya Anand\n",
            "Julia Datt\n",
            "Manoj Bajpayee\n",
            "Manoj Bajpayee\n",
            "Saif Ali Khan\n",
            "Naresh Sharma\n",
            "Riteish Deshmukh\n",
            "Sonu Sood\n",
            "Nassar Abdulla\n",
            "Salman Khan\n",
            "Vickrant Mahajan\n",
            "Freny Bhagat\n",
            "Akshay Kumar\n",
            "Omkar Das Manikpuri\n",
            "Sunil Shetty\n",
            "Manoj Bajpayee\n",
            "Bidita Bag\n",
            "Harish Chabbra\n",
            "Ranbir Kapoor\n",
            "Kareena Kapoor\n",
            "Sagar Bhangade\n",
            "Vivek Oberoi\n",
            "Ravi Kishan\n",
            "Paresh Rawal\n",
            "Rani Mukerji\n",
            "Manoj Bajpayee\n",
            "J.D. Chakravarthi\n",
            "Cary Elwes\n",
            "Arjun Rampal\n",
            "Alia Bhatt\n",
            "Jackky Bhagnani\n",
            "Emraan Hashmi\n",
            "Vicky Ahuja\n",
            "Sunidhi Chauhan\n",
            "Asrani\n",
            "Shah Rukh Khan\n",
            "Aamir Khan\n",
            "Himanshu Bhatt\n",
            "Ajay Devgn\n",
            "Ashok Banthia\n",
            "Salman Khan\n",
            "Vinod Khanna\n",
            "Akshay Kumar\n",
            "Amitabh Bachchan\n",
            "Sridevi\n",
            "Vivek Sudershan\n",
            "Nafisa Ali\n",
            "Mohsin\n",
            "Prateik\n",
            "Gul Panag\n",
            "Vatsal Sheth\n",
            "Ajay Devgn\n",
            "Russell Geoffrey Banks\n",
            "Vinay Pathak\n",
            "Rishi Kapoor\n",
            "Priyanka Chopra\n",
            "Madhavan\n",
            "Arshad Warsi\n",
            "Deepti Naval\n",
            "Akshay Kumar\n",
            "Sumit Arora\n",
            "Anay\n",
            "Om Puri\n",
            "Abhishek Bachchan\n",
            "Sendhil Ramamurthy\n",
            "Darsheel Safary\n",
            "Vinay Pathak\n",
            "Ishaan Manhaas\n",
            "Sanjay Mishra\n",
            "Ashutosh Rana\n",
            "Juhi Chawla\n",
            "Govinda\n",
            "Mimoh Chakraborty\n",
            "Tusshar Kapoor\n",
            "Kainaz Motivala\n",
            "Partho A. Gupte\n",
            "Nana Patekar\n",
            "Sara Arjun\n",
            "Kalki Koechlin\n",
            "Kartik Aaryan\n",
            "Vinay Pathak\n",
            "Lillete Dubey\n",
            "Sanjay Dutt\n",
            "Amitabh Bachchan\n",
            "Imran Khan\n",
            "Emraan Hashmi\n",
            "Aarav Khanna\n",
            "Hrithik Roshan\n",
            "Raghuvir Yadav\n",
            "Gulshan Grover\n",
            "Naushaad Abbas\n",
            "Shefali Shah\n",
            "Ajay Devgn\n",
            "Rahul Jaiswal\n",
            "Apoorva Arora\n",
            "Isha Koppikar\n",
            "Rajniesh Duggall\n",
            "Amitabh Bachchan\n",
            "Sanjay Dutt\n",
            "Anupam Kher\n",
            "Salman Khan\n",
            "Deepshika Nagpal\n",
            "Deepak Dobriyal\n",
            "Tusshar Kapoor\n",
            "Kiron Kher\n",
            "Imran Khan\n",
            "Shahid Kapoor\n",
            "Mikaal\n",
            "John Abraham\n",
            "Jimmy Sheirgill\n",
            "Vinay Pathak\n",
            "Vinay Virmani\n",
            "Dev Anand\n",
            "Zayed Khan\n",
            "Saqib Saleem\n",
            "Sachiin Joshi\n",
            "Shah Rukh Khan\n",
            "Ranbir Kapoor\n",
            "Chirag Paswan\n",
            "Dharmendra\n",
            "Himesh Reshammiya\n",
            "Ranveer Singh\n",
            "Akshay Kumar\n",
            "Abhishek Bachchan\n",
            "Rani Mukerji\n",
            "Ajay Devgn\n",
            "Vidya Balan\n",
            "Priyanka Chopra\n",
            "Shahid Kapoor\n",
            "Prateik\n",
            "Salman Khan\n",
            "Siddharth\n",
            "Amitabh Bachchan\n",
            "Vidya Balan\n",
            "Paresh Rawal\n",
            "Sunny Gill\n",
            "Shreyas Talpade\n",
            "Tabu\n",
            "Shah Rukh Khan\n",
            "Amitabh Bachchan\n",
            "Siddhartha Gupta\n",
            "Shah Rukh Khan\n",
            "Tanushree Dutta\n",
            "Paul Sidhu\n",
            "Sunny Deol\n",
            "Gurdas Maan\n",
            "Master Shams\n",
            "Om Puri\n",
            "Vikrum Kumar\n",
            "Aditya Narayan\n",
            "Arshad Warsi\n",
            "Boman Irani\n",
            "Nana Patekar\n",
            "Priyanka Chopra\n",
            "Arbaaz Khan\n",
            "Rekha\n",
            "Rahul Bose\n",
            "Nana Patekar\n",
            "Sudeep\n",
            "Farooq Shaikh\n",
            "Rohit Roy\n",
            "Sachin Khedekar\n",
            "Anuj Saxena\n",
            "Akshay Kumar\n",
            "Hazel Croney\n",
            "Sanjeev Bhaskar\n",
            "Vivek Oberoi\n",
            "Abhishek Bachchan\n",
            "Atul Kulkarni\n",
            "Rajpal Yadav\n",
            "Hrithik Roshan\n",
            "Nushrat Bharucha\n",
            "Kareena Kapoor\n",
            "Bhushan Agarwal\n",
            "Prashant Narayanan\n",
            "Sanjay Dutt\n",
            "Akshay Kumar\n",
            "Ali Zafar\n",
            "Rajat Barmecha\n",
            "Ajay Devgn\n",
            "Bobby Deol\n",
            "Omkar Das Manikpuri\n",
            "Neil Nitin Mukesh\n",
            "Gul Panag\n",
            "Raj Singh Chaudhary\n",
            "John Abraham\n",
            "Barkha Madan\n",
            "Salman Khan\n",
            "Supriya Pathak\n",
            "Sunil Shetty\n",
            "Rituparna Sengupta\n",
            "Ranvir Shorey\n",
            "Mallika Sherawat\n",
            "Emraan Hashmi\n",
            "Rishi Kapoor\n",
            "Ajay Devgn\n",
            "Manoj Bajpayee\n",
            "Sanjay Dutt\n",
            "John Abraham\n",
            "Hrithik Roshan\n",
            "Varun Bhagwat\n",
            "Deepika Padukone\n",
            "Sunny Deol\n",
            "Rajat Kapoor\n",
            "Akanksha\n",
            "Jimmy Sheirgill\n",
            "Sanjay Dutt\n",
            "Ranveer Singh\n",
            "Aditya Srivastava\n",
            "Arunoday Singh\n",
            "Akshay Kumar\n",
            "Akshay Oberoi\n",
            "Ajay Devgn\n",
            "Neil Nitin Mukesh\n",
            "Sahil Khan\n",
            "Imran Khan\n",
            "Sushmita Sen\n",
            "Priyanka Chopra\n",
            "Zeenat Aman\n",
            "Bipasha Basu\n",
            "Akshay Kumar\n",
            "Aamir Khan\n",
            "Farhan Akhtar\n",
            "Saif Ali Khan\n",
            "Salman Khan\n",
            "Waheeda Rehman\n",
            "Kangana Ranaut\n",
            "Hrishitaa Bhatt\n",
            "Ranbir Kapoor\n",
            "Asrani\n",
            "Irrfan Khan\n",
            "Kay Kay Menon\n",
            "Arshad Warsi\n",
            "Paresh Rawal\n",
            "Rati Agnihotri\n",
            "Harman Baweja\n",
            "Shahid Kapoor\n",
            "Fardeen Khan\n",
            "John Abraham\n",
            "Kay Kay Menon\n",
            "Aftab Shivdasani\n",
            "Naseeruddin Shah\n",
            "Inaamulhaq\n",
            "Neil Nitin Mukesh\n",
            "Kunal Khemu\n",
            "Bobby Deol\n",
            "Anita\n",
            "Parzaan Dastur\n",
            "Meghan Jadhav\n",
            "Shreyas Talpade\n",
            "John Abraham\n",
            "Kay Kay Menon\n",
            "Sanjay Dutt\n",
            "Mithun Chakraborty\n",
            "Govinda\n",
            "Sunil Shetty\n",
            "Jackie Shroff\n",
            "Anupam Kher\n",
            "Shreyas Talpade\n",
            "Rishi Kapoor\n",
            "Rajendra Prasad\n",
            "Arjun Rampal\n",
            "Mithun Chakraborty\n",
            "Mithun Chakraborty\n",
            "Bobby Deol\n",
            "Shahid Kapoor\n",
            "Harman Baweja\n",
            "Fardeen Khan\n",
            "Sanjay Dutt\n",
            "Ranbir Kapoor\n",
            "Salman Khan\n",
            "Akshay Kumar\n",
            "Atmaram Bhende\n",
            "Amitabh Bachchan\n",
            "Salman Khan\n",
            "Manoj Bajpayee\n",
            "Emraan Hashmi\n",
            "Lewis Tan\n",
            "Akshay Kumar\n",
            "Amitabh Bachchan\n",
            "Ranbir Kapoor\n",
            "Aamir Bashir\n",
            "Farooq Shaikh\n",
            "Mithun Chakraborty\n",
            "Abhishek Bachchan\n",
            "Saif Ali Khan\n",
            "Shah Rukh Khan\n",
            "Aamir Khan\n",
            "Akshay Kumar\n",
            "Ajay Devgn\n",
            "Hrithik Roshan\n",
            "Ranbir Kapoor\n",
            "Amitabh Bachchan\n",
            "Amitabh Bachchan\n",
            "Ajay Devgn\n",
            "Omkar Bhatkar\n",
            "Shreyas Talpade\n",
            "Manisha Koirala\n",
            "Ajay Devgn\n",
            "Tusshar Kapoor\n",
            "Juhi Chawla\n",
            "Ajay Devgn\n",
            "Kay Kay Menon\n",
            "Akshay Kumar\n",
            "Dino Morea\n",
            "Mimoh Chakraborty\n",
            "Emraan Hashmi\n",
            "Mithun Chakraborty\n",
            "Sikander Kher\n",
            "Paresh Rawal\n",
            "Ahraz Ahmed\n",
            "Aftab Shivdasani\n",
            "Amita Pathak\n",
            "Saahil Chadha\n",
            "Saif Ali Khan\n",
            "Kay Kay Menon\n",
            "Shahid Kapoor\n",
            "Harman Baweja\n",
            "Adhvik Mahajan\n",
            "Vivek Oberoi\n",
            "Govinda\n",
            "Amitabh Bachchan\n",
            "Paresh Rawal\n",
            "Mallika Sherawat\n",
            "Arjun Rampal\n",
            "Tusshar Kapoor\n",
            "Bobby Deol\n",
            "Sammir Dattani\n",
            "Victor Banerjee\n",
            "Rajniesh Duggall\n",
            "Amitabh Bachchan\n",
            "Shreyas Talpade\n",
            "Kiron Kher\n",
            "Jackie Shroff\n",
            "Jayshree Arora\n",
            "Sharman Joshi\n",
            "Himesh Reshammiya\n",
            "Sohail Khan\n",
            "Saif Ali Khan\n",
            "Isha Koppikar\n",
            "Kamal Rashid Khan\n",
            "Priyanka Chopra\n",
            "Vinay Pathak\n",
            "Salman Khan\n",
            "Abhay Deol\n",
            "Vinay Pathak\n",
            "Shabana Azmi\n",
            "Manoj Bajpayee\n",
            "Anupam Kher\n",
            "Rajesh Khanna\n",
            "Dino Morea\n",
            "Irrfan Khan\n",
            "Amitabh Bachchan\n",
            "Himesh Reshammiya\n",
            "Tusshar Kapoor\n",
            "Nauheed Cyrusi\n",
            "Madhuri Dixit\n",
            "Dharmendra\n",
            "Emraan Hashmi\n",
            "Vinay Pathak\n",
            "Akshay Kumar\n",
            "Dino Morea\n",
            "Sunny Deol\n",
            "Mouli Ganguly\n",
            "Krishna Abhishek\n",
            "Irrfan Khan\n",
            "Kay Kay Menon\n",
            "Pankaj Kapur\n",
            "Jazzy Doe\n",
            "Mona Ambegaonkar\n",
            "Ajay Devgn\n",
            "Amitabh Bachchan\n",
            "Jimmy Sheirgill\n",
            "Fardeen Khan\n",
            "Shah Rukh Khan\n",
            "Sanjay Dutt\n",
            "John Abraham\n",
            "Pankaj Kapur\n",
            "Sunil Pal\n",
            "Muzamil Ibrahim\n",
            "Imaaduddin Shah\n",
            "Sharman Joshi\n",
            "Abhay Deol\n",
            "Arjun Rampal\n",
            "Akshaye Khanna\n",
            "Rishi Kapoor\n",
            "Arbaaz Khan\n",
            "Amitabh Bachchan\n",
            "Gautam Gupta\n",
            "Mohan Azaad\n",
            "Juanna Sanghvi\n",
            "Mithun Chakraborty\n",
            "Ranvir Shorey\n",
            "Govinda\n",
            "Abhishek Bachchan\n",
            "Shahid Kapoor\n",
            "Tusshar Kapoor\n",
            "Shahid Kapoor\n",
            "Shiney Ahuja\n",
            "Dharmendra\n",
            "Fardeen Khan\n",
            "Tusshar Kapoor\n",
            "Rekha\n",
            "Jimmy Sheirgill\n",
            "Rani Mukerji\n",
            "Dharmendra\n",
            "Shabana Azmi\n",
            "Abhay Deol\n",
            "Salman Khan\n",
            "Menekka Arora\n",
            "Nana Patekar\n",
            "Bobby Deol\n",
            "Linda Arsenio\n",
            "Kal Penn\n",
            "Akshay Kumar\n",
            "Jason Lewis\n",
            "Sanjay Dutt\n",
            "Amitabh Bachchan\n",
            "John Abraham\n",
            "Shah Rukh Khan\n",
            "Salman Khan\n",
            "Rahul Khanna\n",
            "Dwij Yadav\n",
            "Aftab Shivdasani\n",
            "Vinod Khanna\n",
            "Bobby Deol\n",
            "Sherlyn Chopra\n",
            "Salman Khan\n",
            "Rani Mukerji\n",
            "Mahima Chaudhry\n",
            "Mandar Jadhav\n",
            "Aftab Shivdasani\n",
            "Amitabh Bachchan\n",
            "Jimmy Sheirgill\n",
            "Manoj Bajpayee\n",
            "Darsheel Safary\n",
            "Saif Ali Khan\n",
            "Urmila Matondkar\n",
            "Kunal Khemu\n",
            "Emraan Hashmi\n",
            "Tushar Jalota\n",
            "Jaya Bachchan\n",
            "Akshay Kumar\n",
            "Akshaye Khanna\n",
            "Jeetendra\n",
            "Akshaye Khanna\n",
            "Abhay Deol\n",
            "Emraan Hashmi\n",
            "Akshay Kapoor\n",
            "Sanjay Dutt\n",
            "Bobby Darling\n",
            "Aftab Shivdasani\n",
            "Rekha\n",
            "Amitabh Bachchan\n",
            "Rati Agnihotri\n",
            "Rahul Dev\n",
            "Naseeruddin Shah\n",
            "Urmila Matondkar\n",
            "Juhi Chawla\n",
            "Akshay Kumar\n",
            "Sushmita Sen\n",
            "Jackie Shroff\n",
            "Somesh Agarwal\n",
            "Sohail Khan\n",
            "Kareena Kapoor\n",
            "Bipasha Basu\n",
            "Amitabh Bachchan\n",
            "Rajit Kapoor\n",
            "Emraan Hashmi\n",
            "Ishrat Ali\n",
            "Raj Tara\n",
            "Hrithik Roshan\n",
            "Ayesha Takia\n",
            "Shah Rukh Khan\n",
            "Amitabh Bachchan\n",
            "Aamir Khan\n",
            "Kangana Ranaut\n",
            "Ajay Devgn\n",
            "Ram Kapoor\n",
            "Sunil Shetty\n",
            "Ajay Devgn\n",
            "Akshay Kumar\n",
            "Arjun Rampal\n",
            "Arjun Rampal\n",
            "Aftab Shivdasani\n",
            "Salman Khan\n",
            "Emraan Hashmi\n",
            "Onjolee Nair\n",
            "Amarjeet\n",
            "Anupam Kher\n",
            "Amitabh Bachchan\n",
            "Rishi Kapoor\n",
            "Sanjay Dutt\n",
            "John Abraham\n",
            "Nassar Abdulla\n",
            "Rekha\n",
            "Paresh Rawal\n",
            "Ajay Devgn\n",
            "Rahul Bose\n",
            "Sunny Deol\n",
            "Akshay Kumar\n",
            "Fardeen Khan\n",
            "Akshay Kumar\n",
            "Jeetendra\n",
            "Sarika\n",
            "Aamir Khan\n",
            "Salman Khan\n",
            "Govinda\n",
            "Akshaye Khanna\n",
            "Salman Khan\n",
            "Mohit Ahlawat\n",
            "Mahima Chaudhry\n",
            "Ajay Devgn\n",
            "Mohammad Amir Naji\n",
            "Sanjay Dutt\n",
            "Irrfan Khan\n",
            "Aishwarya Rai Bachchan\n",
            "Nana Patekar\n",
            "Sunny Deol\n",
            "Shahid Kapoor\n",
            "Priyanshu Chatterjee\n",
            "Gurdas Maan\n",
            "Kangana Ranaut\n",
            "Paresh Rawal\n",
            "Jimmy Sheirgill\n",
            "Sushmita Sen\n",
            "Rakesh Bedi\n",
            "Emraan Hashmi\n",
            "Manisha Koirala\n",
            "Ajay Devgn\n",
            "Rekha\n",
            "Juhi Chawla\n",
            "Bobby Deol\n",
            "Anil Kapoor\n",
            "Amitabh Bachchan\n",
            "Sanjay Dutt\n",
            "Abhishek Bachchan\n",
            "Shawar Ali\n",
            "Ali Asgar\n",
            "Tabu\n",
            "Ajay Devgn\n",
            "Abhishek Bachchan\n",
            "Aryan Vaid\n",
            "Jatin Grewal\n",
            "Samir Aftab\n",
            "Anil Kapoor\n",
            "Randeep Hooda\n",
            "Akshay Kumar\n",
            "Saayli Buva\n",
            "Bipasha Basu\n",
            "Amitabh Bachchan\n",
            "Akshay Kumar\n",
            "Mithun Chakraborty\n",
            "Sanjay Dutt\n",
            "Arjun Rampal\n",
            "Shilpa Shetty Kundra\n",
            "Amitabh Bachchan\n",
            "Siddharth Koirala\n",
            "Fardeen Khan\n",
            "Ayesha Jhulka\n",
            "Aseel Adel\n",
            "Vivek Oberoi\n",
            "Akshay Kumar\n",
            "Shreyas Talpade\n",
            "Chiranjeevi\n",
            "Kay Kay Menon\n",
            "Akshay Kumar\n",
            "Sunny Deol\n",
            "John Abraham\n",
            "Ajay Devgn\n",
            "Kunal Khemu\n",
            "Lucky Ali\n",
            "Mukesh Khanna\n",
            "Mohit Ahlawat\n",
            "Vivek Oberoi\n",
            "Aftab Shivdasani\n",
            "Shilpa Shetty Kundra\n",
            "Kamal Adib\n",
            "Arshad Warsi\n",
            "Tusshar Kapoor\n",
            "Salman Khan\n",
            "Ajay Devgn\n",
            "Salman Khan\n",
            "Rajpal Yadav\n",
            "Anupam Kher\n",
            "Salman Khan\n",
            "Aamir Khan\n",
            "Dia Mirza\n",
            "Dev Anand\n",
            "Sanjay Suri\n",
            "Anil Kapoor\n",
            "Urmila Matondkar\n",
            "Uday Chopra\n",
            "Anil Kapoor\n",
            "Sunil Shetty\n",
            "Konkona Sen Sharma\n",
            "Shabana Azmi\n",
            "Saif Ali Khan\n",
            "Vinod Khanna\n",
            "Shah Rukh Khan\n",
            "Irrfan Khan\n",
            "Rishi Kapoor\n",
            "Saif Ali Khan\n",
            "Kashmira Shah\n",
            "Amitabh Bachchan\n",
            "Arshad Warsi\n",
            "Sanjay Dutt\n",
            "Ashutosh Rana\n",
            "Neha Dhupia\n",
            "Madhavan\n",
            "Tabu\n",
            "Abhay Deol\n",
            "Zulfi Sayed\n",
            "Ajay Devgn\n",
            "Nassar Abdulla\n",
            "Arjun Rampal\n",
            "Shahid Kapoor\n",
            "Aarti Chhabria\n",
            "Fardeen Khan\n",
            "Amitabh Bachchan\n",
            "Amitabh Bachchan\n",
            "Vikram Aditya\n",
            "Arjun Rampal\n",
            "Emraan Hashmi\n",
            "Shah Rukh Khan\n",
            "Shah Rukh Khan\n",
            "Ajay Devgn\n",
            "Salman Khan\n",
            "Abhishek Bachchan\n",
            "Amitabh Bachchan\n",
            "Saif Ali Khan\n",
            "Akshaye Khanna\n",
            "Mallika Sherawat\n",
            "Ajay Devgn\n",
            "Akshay Kumar\n",
            "Amitabh Bachchan\n",
            "Amitabh Bachchan\n",
            "Shatrughan Sinha\n",
            "Bobby Deol\n",
            "Kareena Kapoor\n",
            "Jimmy Sheirgill\n",
            "Arjun Rampal\n",
            "Jimmy Sheirgill\n",
            "Amitabh Bachchan\n",
            "Amitabh Bachchan\n",
            "Shahid Kapoor\n",
            "Salman Khan\n",
            "Jackie Shroff\n",
            "Naveen Bawa\n",
            "Vikaas Kalantari\n",
            "Tusshar Kapoor\n",
            "Kareena Kapoor\n",
            "Salman Khan\n",
            "Sunil Shetty\n",
            "Saif Ali Khan\n",
            "Isha Koppikar\n",
            "Akshay Kumar\n",
            "Aniket Vishwasrao\n",
            "Shawar Ali\n",
            "Tisca Chopra\n",
            "Neha Dhupia\n",
            "Raqesh Bapat\n",
            "Manoj Bajpayee\n",
            "Mallika Sherawat\n",
            "Dino Morea\n",
            "Sohail Khan\n",
            "Kiron Kher\n",
            "Bobby Deol\n",
            "Sunny Deol\n",
            "Sohail Khan\n",
            "Amitabh Bachchan\n",
            "Bipasha Basu\n",
            "Hrithik Roshan\n",
            "Dino Morea\n",
            "Irrfan Khan\n",
            "Aftab Shivdasani\n",
            "Tabu\n",
            "Anil Kapoor\n",
            "Prithviraj Kapoor\n",
            "Aftab Shivdasani\n",
            "Akshay Kumar\n",
            "Antara Mali\n",
            "Vinay Anand\n",
            "John Abraham\n",
            "Salman Khan\n",
            "Sanjay Dutt\n",
            "Akshay Kumar\n",
            "Manisha Koirala\n",
            "Akshay Kapoor\n",
            "Sanjay Dutt\n",
            "Ajay Devgn\n",
            "Sanjay Dutt\n",
            "Sanjay Suri\n",
            "Abhishek Bachchan\n",
            "Sunny Deol\n",
            "Aftab Shivdasani\n",
            "Shah Rukh Khan\n",
            "Vatsal Sheth\n",
            "Madhavan\n",
            "Tusshar Kapoor\n",
            "Emraan Hashmi\n",
            "Vicky Ahuja\n",
            "Shah Rukh Khan\n",
            "Tarun Arora\n",
            "Diwakar Pathak\n",
            "Arya Babbar\n",
            "Rekha\n",
            "Shah Rukh Khan\n",
            "Anupam Kher\n",
            "Shah Rukh Khan\n",
            "Sunny Deol\n",
            "Amitabh Bachchan\n",
            "Hrithik Roshan\n",
            "Sanjay Dutt\n",
            "Sanjay Dutt\n",
            "Sanjay Dutt\n",
            "Ajay Devgn\n",
            "Atul Kulkarni\n",
            "Naseeruddin Shah\n",
            "Arun Bakshi\n",
            "Priyanshu Chatterjee\n",
            "Ajay Devgn\n",
            "Amitabh Bachchan\n",
            "Sudesh Berry\n",
            "Akshay Kumar\n",
            "Akshay Kumar\n",
            "Amitabh Bachchan\n",
            "Ajay Devgn\n",
            "Anil Kapoor\n",
            "Jackie Shroff\n",
            "Sadashiv Amrapurkar\n",
            "Sooraj Balaji\n",
            "Arjun Rampal\n",
            "Sameera Reddy\n",
            "Om Puri\n",
            "Amar Upadhyaya\n",
            "Zayed Khan\n",
            "Nawazuddin Siddiqui\n",
            "Vivek Oberoi\n",
            "Kapil Jhaveri\n",
            "Nandita Das\n",
            "Aftab Shivdasani\n",
            "Manisha Koirala\n",
            "Rahul Bose\n",
            "Ajay Devgn\n",
            "Tabu\n",
            "Jimmy Sheirgill\n",
            "Sanjay Dutt\n",
            "Akshaye Khanna\n",
            "Vikram Dasu\n",
            "Reef Karim\n",
            "Jaz Pandher\n",
            "Rushali Arora\n",
            "Ashmit Patel\n",
            "Sunny Deol\n",
            "Shahid Kapoor\n",
            "Babbu Mann\n",
            "Javed Jaffrey\n",
            "Bipasha Basu\n",
            "Sanjay Suri\n",
            "Om Puri\n",
            "Juhi Babbar\n",
            "Sunny Deol\n",
            "Feroz Khan\n",
            "Amit Hingorani\n",
            "Fardeen Khan\n",
            "Himanshu Malik\n",
            "Tusshar Kapoor\n",
            "Aishwarya Rai Bachchan\n",
            "Antara Mali\n",
            "Victor Banerjee\n",
            "Manisha Koirala\n",
            "Attin Bhalla\n",
            "Riteish Deshmukh\n",
            "Rahul Bose\n",
            "Tulip Joshi\n",
            "Ajay Devgn\n",
            "Urmila Matondkar\n",
            "Abhishek Bachchan\n",
            "John Abraham\n",
            "Sushmita Sen\n",
            "Vikas Kalantri\n",
            "Raveena Tandon\n",
            "Tanishaa Mukerji\n",
            "Raveena Tandon\n",
            "Vijay Raaz\n",
            "Raveena Tandon\n",
            "Tanuja\n",
            "Ankit\n",
            "Sadashiv Amrapurkar\n",
            "Salman Khan\n",
            "Riteish Deshmukh\n",
            "Rakhee Gulzar\n",
            "Shabana Azmi\n",
            "Edwin Fernandes\n",
            "Tusshar Kapoor\n",
            "Sharman Joshi\n",
            "Dino Morea\n",
            "Ajay Devgn\n",
            "Arshad Warsi\n",
            "Shah Rukh Khan\n",
            "Amitabh Bachchan\n",
            "Shah Rukh Khan\n",
            "Amitabh Bachchan\n",
            "Vivek Oberoi\n",
            "Ajay Devgn\n",
            "Akshay Kumar\n"
          ]
        }
      ]
    },
    {
      "cell_type": "code",
      "source": [
        "for i in movies.values:\n",
        "  print(i + 'done')"
      ],
      "metadata": {
        "colab": {
          "base_uri": "https://localhost:8080/"
        },
        "id": "5KaCykIoQYbv",
        "outputId": "4bc813b7-7344-4191-8f1c-c3254a7bff96"
      },
      "execution_count": 186,
      "outputs": [
        {
          "output_type": "stream",
          "name": "stdout",
          "text": [
            "Vicky Kaushaldone\n",
            "Vicky Ahujadone\n",
            "Anupam Kherdone\n",
            "Emraan Hashmidone\n",
            "Mona Ambegaonkardone\n",
            "Geetika Vidya Ohlyandone\n",
            "Arshad Warsidone\n",
            "Radhika Aptedone\n",
            "Kangana Ranautdone\n",
            "Nawazuddin Siddiquidone\n",
            "Ali Asgardone\n",
            "Ranveer Singhdone\n",
            "Prit Kamanidone\n",
            "Ajay Devgndone\n",
            "Sushant Singh Rajputdone\n",
            "Amitabh Bachchandone\n",
            "Abhimanyu Dasanidone\n",
            "Talha Arshad Reshidone\n",
            "Nawazuddin Siddiquidone\n",
            "Garima Agarwaldone\n",
            "Rasika Agashedone\n",
            "Barun Sobtidone\n",
            "Akshay Kumardone\n",
            "Zaheer Iqbaldone\n",
            "Vidyut Jammwaldone\n",
            "Deepika Amindone\n",
            "Manav Kauldone\n",
            "Naseeruddin Shahdone\n",
            "Varun Dhawandone\n",
            "Shreyas Talpadedone\n",
            "Tiger Shroffdone\n",
            "Boman Iranidone\n",
            "Ajay Devgndone\n",
            "Arjun Kapoordone\n",
            "Gavie Chahaldone\n",
            "Prabhu Devadone\n",
            "Shahid Kapoordone\n",
            "Ayushmann Khurranadone\n",
            "Anupam Kherdone\n",
            "Karanvir Bohradone\n",
            "Hrithik Roshandone\n",
            "Jimmy Sheirgilldone\n",
            "John Abrahamdone\n",
            "Rishi Kapoordone\n",
            "Kangana Ranautdone\n",
            "Natalia Janoszekdone\n",
            "Diljit Dosanjhdone\n",
            "Sidharth Malhotradone\n",
            "Rajeev Khandelwaldone\n",
            "Zaira Wasimdone\n",
            "Akshay Kumardone\n",
            "Jacqueline Fernandezdone\n",
            "Ayushmann Khurranadone\n",
            "Akshaye Khannadone\n",
            "Sonam Kapoordone\n",
            "Karan Deoldone\n",
            "Sanjay Duttdone\n",
            "Bhavesh Kumardone\n",
            "Sanaya Iranidone\n",
            "Ayushmann Khurranadone\n",
            "Siddhanth Kapoordone\n",
            "Akshay Kumardone\n",
            "Taapsee Pannudone\n",
            "Rajkummar Raodone\n",
            "Sunny Singh Nijjardone\n",
            "Neil Nitin Mukeshdone\n",
            "Suraj Pancholidone\n",
            "Boman Iranidone\n",
            "Riteish Deshmukhdone\n",
            "Nawazuddin Siddiquidone\n",
            "Shahbaaz Khandone\n",
            "Kriti Kharbandadone\n",
            "Naseeruddin Shahdone\n",
            "Vardhan Puridone\n",
            "Sushant Singh Rajputdone\n",
            "Kartik Aaryandone\n",
            "Vidyut Jammwaldone\n",
            "Rani Mukerjidone\n",
            "Salman Khandone\n",
            "Akshay Kumardone\n",
            "Saif Ali Khandone\n",
            "Kay Kay Menondone\n",
            "Nora Fatehidone\n",
            "Ashmit Pateldone\n",
            "Viineet Kumardone\n",
            "Rahul Bhatdone\n",
            "Vicky Kaushaldone\n",
            "Sidharth Malhotradone\n",
            "Deepika Padukonedone\n",
            "Geetanjali Thapadone\n",
            "Akshay Ananddone\n",
            "Pulkit Samratdone\n",
            "Kartik Aaryandone\n",
            "Lee Byforddone\n",
            "Taapsee Pannudone\n",
            "Aisha Ahmeddone\n",
            "Ajay Devgndone\n",
            "Rani Mukerjidone\n",
            "Manoj Bajpayeedone\n",
            "Tiger Shroffdone\n",
            "Varun Dhawandone\n",
            "Prabhu Devadone\n",
            "Ishaan Khattardone\n",
            "Abhay Deoldone\n",
            "Yogesh Raj Mishradone\n",
            "Rajkummar Raodone\n",
            "Alia Bhattdone\n",
            "Naseeruddin Shahdone\n",
            "Sumeet Vyasdone\n",
            "Vinay Pathakdone\n",
            "John Abrahamdone\n",
            "Danny Denzongpadone\n",
            "Harshvardhan Kapoordone\n",
            "Jimmy Sheirgilldone\n",
            "Anil Kapoordone\n",
            "Ishaan Khattardone\n",
            "Ranbir Kapoordone\n",
            "Sanjay Duttdone\n",
            "Dharmesh Yelandedone\n",
            "Taapsee Pannudone\n",
            "Arjun Mathurdone\n",
            "Irrfan Khandone\n",
            "Akshay Kumardone\n",
            "John Abrahamdone\n",
            "Sonakshi Sinhadone\n",
            "Utkarsh Sharmadone\n",
            "Dharmendradone\n",
            "Rajkummar Raodone\n",
            "Jackie Shroffdone\n",
            "Avinash Tiwarydone\n",
            "Manoj Bajpayeedone\n",
            "Paoli Damdone\n",
            "Sanya Malhotradone\n",
            "Shahid Kapoordone\n",
            "Abhishek Bharatedone\n",
            "Nawazuddin Siddiquidone\n",
            "Manish Ananddone\n",
            "Taapsee Pannudone\n",
            "Jackky Bhagnanidone\n",
            "Anushka Sharmadone\n",
            "Radhika Aptedone\n",
            "Rhea Chakrabortydone\n",
            "Govindadone\n",
            "Sohum Shahdone\n",
            "Kajoldone\n",
            "Arjun Kapoordone\n",
            "Ayushmann Khurranadone\n",
            "Ayushmann Khurranadone\n",
            "Nargis Fakhridone\n",
            "Aishwarya Devandone\n",
            "Neil Nitin Mukeshdone\n",
            "Shakti Kapoordone\n",
            "Amit Sadhdone\n",
            "Sunny Deoldone\n",
            "Rahul Baggadone\n",
            "Sunny Deoldone\n",
            "Amyra Dasturdone\n",
            "Shah Rukh Khandone\n",
            "Ranveer Singhdone\n",
            "Salman Khandone\n",
            "Ajay Devgndone\n",
            "Varun Dhawandone\n",
            "Shraddha Kapoordone\n",
            "Sunil Groverdone\n",
            "Hrithik Roshandone\n",
            "Raj Arjundone\n",
            "Aamir Khandone\n",
            "Gurmeet Ram Rahim Singhdone\n",
            "Arsh Bajwadone\n",
            "Rana Daggubatidone\n",
            "Naseeruddin Shahdone\n",
            "Kangana Ranautdone\n",
            "Nana Patekardone\n",
            "Arbaaz Khandone\n",
            "Varun Dhawandone\n",
            "Rajkummar Raodone\n",
            "Govindadone\n",
            "Rajat Kapoordone\n",
            "Anushka Sharmadone\n",
            "Kiara Advanidone\n",
            "Shaurya Singhdone\n",
            "Pankaj Tripathidone\n",
            "Taapsee Pannudone\n",
            "Adil Hussaindone\n",
            "Amitabh Bachchandone\n",
            "Sunny Leonedone\n",
            "Hema Malinidone\n",
            "Raveena Tandondone\n",
            "Amitabh Bachchandone\n",
            "Amardeep Insandone\n",
            "Shraddha Kapoordone\n",
            "Ayushmann Khurranadone\n",
            "Sachin Tendulkardone\n",
            "Irrfan Khandone\n",
            "Himansh Kohlidone\n",
            "Adil Hussaindone\n",
            "Jayesh Rajdone\n",
            "Manisha Koiraladone\n",
            "Deepika Padukonedone\n",
            "Rajkummar Raodone\n",
            "Salman Khandone\n",
            "Riteish Deshmukhdone\n",
            "Shiv Darshandone\n",
            "Ranbir Kapoordone\n",
            "Ashish Bishtdone\n",
            "Aahana Kumradone\n",
            "Manoj Babanidone\n",
            "Rajveer Ankur Singhdone\n",
            "Kirti Kulharidone\n",
            "Shah Rukh Khandone\n",
            "Tiger Shroffdone\n",
            "Akshay Kumardone\n",
            "Anil Kapoordone\n",
            "Kartik Aaryandone\n",
            "Ayushmann Khurranadone\n",
            "Nawazuddin Siddiquidone\n",
            "Prisha Anejadone\n",
            "Aadar Jaindone\n",
            "Ayushmann Khurranadone\n",
            "Kunal Kapoordone\n",
            "Arjun Rampaldone\n",
            "Kangana Ranautdone\n",
            "Farhan Akhtardone\n",
            "Sidharth Malhotradone\n",
            "Hugh Bonnevilledone\n",
            "Rishi Kapoordone\n",
            "Rajkummar Raodone\n",
            "Kunaal Roy Kapurdone\n",
            "Sunny Leonedone\n",
            "Shraddha Kapoordone\n",
            "Rina Charaniyadone\n",
            "Nawazuddin Siddiquidone\n",
            "Sunny Deoldone\n",
            "Sridevidone\n",
            "Saif Ali Khandone\n",
            "Soundarya Sharmadone\n",
            "Sudha Chandrandone\n",
            "Manoj Bajpayeedone\n",
            "Zaira Wasimdone\n",
            "Prakash Belawadidone\n",
            "Kalki Koechlindone\n",
            "Rajkummar Raodone\n",
            "Richa Chadhadone\n",
            "Irrfan Khandone\n",
            "Zareen Khandone\n",
            "Nayna Bandhopadhyaydone\n",
            "Vidya Balandone\n",
            "Nishikant Kamatdone\n",
            "Sanjay Mishradone\n",
            "Kapil Sharmadone\n",
            "Pulkit Samratdone\n",
            "Vijay Varmadone\n",
            "Sushama Deshpandedone\n",
            "Richa Chadhadone\n",
            "Prince Shahdone\n",
            "Tanima Bhattacharyadone\n",
            "Akshay Kumardone\n",
            "Zeenat Amandone\n",
            "Madhavandone\n",
            "Tusshar Kapoordone\n",
            "Tusshar Kapoordone\n",
            "Himansh Kohlidone\n",
            "Sadhana Singhdone\n",
            "Sunny Deoldone\n",
            "Aditya Roy Kapoordone\n",
            "Rishi Kapoordone\n",
            "Rajniesh Duggalldone\n",
            "Krishna Chaturvedidone\n",
            "Girish Tauranidone\n",
            "Sonam Kapoordone\n",
            "Sukhesh Aroradone\n",
            "Raima Sendone\n",
            "Anuj Sachdevadone\n",
            "Parthaa Akerkardone\n",
            "Priyanka Chopradone\n",
            "Sidharth Malhotradone\n",
            "John Abrahamdone\n",
            "Patralekhaa Pauldone\n",
            "Shah Rukh Khandone\n",
            "Swara Bhaskardone\n",
            "Randeep Hoodadone\n",
            "Shraddha Kapoordone\n",
            "Pankaj Tripathidone\n",
            "Jimmy Sheirgilldone\n",
            "Kartik Elangovandone\n",
            "Boman Iranidone\n",
            "Manoj Bajpayeedone\n",
            "Sharman Joshidone\n",
            "Emraan Hashmidone\n",
            "Aanchal Dwivedidone\n",
            "Sanjay Singhdone\n",
            "Arvind Swamydone\n",
            "Radhika Aptedone\n",
            "Randeep Hoodadone\n",
            "Sachiin Joshidone\n",
            "Kajal Aggarwaldone\n",
            "Amitabh Bachchandone\n",
            "Shahid Kapoordone\n",
            "Hazel Croneydone\n",
            "V. Ravichandrandone\n",
            "Vipin Sharmadone\n",
            "Nawazuddin Siddiquidone\n",
            "Pulkit Samratdone\n",
            "Tannishtha Chatterjeedone\n",
            "Krrish Chhabriadone\n",
            "Avinash Dhyanidone\n",
            "Zeenat Amandone\n",
            "Salman Khandone\n",
            "Shashank Aroradone\n",
            "Urvashi Rauteladone\n",
            "Naseeruddin Shahdone\n",
            "Sara Lorendone\n",
            "Tom Alterdone\n",
            "Irrfan Khandone\n",
            "John Abrahamdone\n",
            "Rajeev Khandelwaldone\n",
            "Ileana D'Cruzdone\n",
            "Sahil Ananddone\n",
            "Hrithik Roshandone\n",
            "Diana Pentydone\n",
            "Niharica Raizadadone\n",
            "Tiger Shroffdone\n",
            "Sidharth Malhotradone\n",
            "Nawazuddin Siddiquidone\n",
            "Emraan Hashmidone\n",
            "Taapsee Pannudone\n",
            "Tannishtha Chatterjeedone\n",
            "Riteish Deshmukhdone\n",
            "Yash Sonidone\n",
            "Shreyas Talpadedone\n",
            "Vinay Pathakdone\n",
            "Jimmy Sharmadone\n",
            "Sushant Singh Rajputdone\n",
            "Ashok Insandone\n",
            "RJ Balajidone\n",
            "Saurav Chakrabortydone\n",
            "Shashank Udapurkardone\n",
            "Shubhamdone\n",
            "Manoj Bajpayeedone\n",
            "Sunny Leonedone\n",
            "Aashish Bhattdone\n",
            "Ajay Devgndone\n",
            "Ronit Roydone\n",
            "Ranbir Kapoordone\n",
            "Neha Sharmadone\n",
            "Farhan Akhtardone\n",
            "John Abrahamdone\n",
            "Alia Bhattdone\n",
            "Vaani Kapoordone\n",
            "Neha Dhupiadone\n",
            "Jimmy Sheirgilldone\n",
            "Sonarika Bhadoriadone\n",
            "Amitabh Bachchandone\n",
            "Sharman Joshidone\n",
            "Aamir Khandone\n",
            "Harshvardhan Kapoordone\n",
            "Salman Khandone\n",
            "Kangana Ranautdone\n",
            "Kangana Ranautdone\n",
            "Soha Ali Khandone\n",
            "Prabhu Devadone\n",
            "Shah Rukh Khandone\n",
            "Salman Khandone\n",
            "Ranveer Singhdone\n",
            "Anil Kapoordone\n",
            "Akshay Kumardone\n",
            "Akshay Kumardone\n",
            "Akshay Kumardone\n",
            "Akshay Kumardone\n",
            "Shakti Kapoordone\n",
            "Bipasha Basudone\n",
            "Arjun Kapoordone\n",
            "Zayed Khandone\n",
            "Malaika Aroradone\n",
            "Naman Jaindone\n",
            "Gurmeet Choudharydone\n",
            "Kay Kay Menondone\n",
            "Rati Agnihotridone\n",
            "Amitabh Bachchandone\n",
            "Arjun Rampaldone\n",
            "Varun Dhawandone\n",
            "Swanand Kirkiredone\n",
            "Sulabha Aryadone\n",
            "Irrfan Khandone\n",
            "Nana Patekardone\n",
            "Ayushmann Khurranadone\n",
            "Anupam Kherdone\n",
            "Gurmeet Ram Rahim Singhdone\n",
            "Sidhant Guptadone\n",
            "Arjun Mathurdone\n",
            "Ganesh Acharyadone\n",
            "Anushka Sharmadone\n",
            "Gulshan Devaiahdone\n",
            "Sushant Singh Rajputdone\n",
            "Adhyayan Sumandone\n",
            "Vira Sathidardone\n",
            "Kalki Koechlindone\n",
            "Sunny Leonedone\n",
            "Sara Lorendone\n",
            "Emraan Hashmidone\n",
            "Auroshika Deydone\n",
            "Ira Dubeydone\n",
            "Naseeruddin Shahdone\n",
            "Vinay Pathakdone\n",
            "Ram Kapoordone\n",
            "Deepika Padukonedone\n",
            "Ranbir Kapoordone\n",
            "Shakti Ananddone\n",
            "Anil Kapoordone\n",
            "Arshad Warsidone\n",
            "Meenakshi Dixitdone\n",
            "Yash Acharyadone\n",
            "Rajkummar Raodone\n",
            "Rahul Baggadone\n",
            "Mohit Bagheldone\n",
            "Rishi Vermadone\n",
            "Mimoh Chakrabortydone\n",
            "Swara Bhaskardone\n",
            "Richa Chadhadone\n",
            "Arshad Warsidone\n",
            "Mugdha Godsedone\n",
            "Yashpal Sharmadone\n",
            "Dharmendradone\n",
            "Sunny Deoldone\n",
            "Smitha Gondkardone\n",
            "Kunal Kapoordone\n",
            "Ajay Devgndone\n",
            "Jacqueline Fernandezdone\n",
            "Rishi Kapoordone\n",
            "Akshay Kumardone\n",
            "Vinay Pathakdone\n",
            "Nawazuddin Siddiquidone\n",
            "Bhavita Ananddone\n",
            "Saif Ali Khandone\n",
            "Suraj Pancholidone\n",
            "Shamim Khandone\n",
            "Irrfan Khandone\n",
            "Suhaas Ahujadone\n",
            "Jaideep Ahlawatdone\n",
            "Charanpreet Insandone\n",
            "Akanksha Puridone\n",
            "Kunal Khemudone\n",
            "Aishwarya Rai Bachchandone\n",
            "Seema Azmidone\n",
            "Parveen Kaurdone\n",
            "Kapil Sharmadone\n",
            "Kartik Aaryandone\n",
            "Diganthdone\n",
            "Shahid Kapoordone\n",
            "Nawazuddin Siddiquidone\n",
            "Kunal Khemudone\n",
            "Mann Baggadone\n",
            "Manish Pauldone\n",
            "Sanjeev Kumardone\n",
            "Madhuri Dixitdone\n",
            "Shiv Darshandone\n",
            "Gopi Desaidone\n",
            "Mohinder Gujraldone\n",
            "Zeenat Amandone\n",
            "Ranveer Singhdone\n",
            "Salman Khandone\n",
            "Sidharth Malhotradone\n",
            "Adhyayan Sumandone\n",
            "Indrapal Ahujadone\n",
            "Jimmy Sheirgilldone\n",
            "Abhay Deoldone\n",
            "Sahil Ananddone\n",
            "Alia Bhattdone\n",
            "Sampat Pal Devidone\n",
            "Farhan Akhtardone\n",
            "Madhuri Dixitdone\n",
            "Kangana Ranautdone\n",
            "Ayushmann Khurranadone\n",
            "Ali Zafardone\n",
            "Mahek Chahaldone\n",
            "Monali Thakurdone\n",
            "Sunny Leonedone\n",
            "Harman Bawejadone\n",
            "Sanjay Mishradone\n",
            "Sharman Joshidone\n",
            "Sachin Khedekardone\n",
            "Leeza Mangaldasdone\n",
            "Pulkit Samratdone\n",
            "Zara Sheikhdone\n",
            "Arjun Kapoordone\n",
            "Purab Kohlidone\n",
            "Amitabh Bachchandone\n",
            "Varun Dhawandone\n",
            "Arvinder Bhattidone\n",
            "Kanika Batradone\n",
            "Jackky Bhagnanidone\n",
            "Rajeev Khandelwaldone\n",
            "Tanuj Virwanidone\n",
            "Vijay Raazdone\n",
            "Kannan Arunachalamdone\n",
            "Anjori Alaghdone\n",
            "Satish Kaushikdone\n",
            "Rahul Baggadone\n",
            "Himesh Reshammiyadone\n",
            "Farooq Shaikhdone\n",
            "Makrand Deshpandedone\n",
            "Eesha Agarwaldone\n",
            "Siddharth Guptadone\n",
            "Tiger Shroffdone\n",
            "Rajkummar Raodone\n",
            "Sharib Hashmidone\n",
            "Kangana Ranautdone\n",
            "Kartik Aaryandone\n",
            "Swara Bhaskardone\n",
            "Simer Motianidone\n",
            "Anshuman Jhadone\n",
            "Sidharth Malhotradone\n",
            "Vidya Balandone\n",
            "Saif Ali Khandone\n",
            "Varun Dhawandone\n",
            "Jay Bhanushalidone\n",
            "Armaan Jaindone\n",
            "Rajesh Khannadone\n",
            "Vir Dasdone\n",
            "Akshay Kumardone\n",
            "Jimmy Sheirgilldone\n",
            "Reshmi Ghoshdone\n",
            "Akshay Oberoidone\n",
            "Akshay Kumardone\n",
            "Anupam Kherdone\n",
            "Rani Mukerjidone\n",
            "Emraan Hashmidone\n",
            "Priyanka Chopradone\n",
            "Bipasha Basudone\n",
            "Deepika Padukonedone\n",
            "Sonam Kapoordone\n",
            "Salil Acharyadone\n",
            "Salman Khandone\n",
            "Saahil Premdone\n",
            "Alieesa P Badresiadone\n",
            "Manoj Amarnanidone\n",
            "Sasha Aaghadone\n",
            "Tabudone\n",
            "Hrithik Roshandone\n",
            "Rati Agnihotridone\n",
            "Aditya Roy Kapoordone\n",
            "Asranidone\n",
            "Harshvardhan Deodone\n",
            "Nikhil Dwivedidone\n",
            "Karanvir Bohradone\n",
            "Puru Chibberdone\n",
            "Soha Ali Khandone\n",
            "Rhea Chakrabortydone\n",
            "Shah Rukh Khandone\n",
            "Rekhadone\n",
            "Anupam Kherdone\n",
            "Randeep Hoodadone\n",
            "Akshay Kumardone\n",
            "Aadil Chahaldone\n",
            "Shabana Azmidone\n",
            "Dimple Kapadiadone\n",
            "Nishant Dahiyadone\n",
            "Ranveer Singhdone\n",
            "Emraan Hashmidone\n",
            "Saif Ali Khandone\n",
            "Vinod Acharyadone\n",
            "Mannara Chopradone\n",
            "Prabhasdone\n",
            "Mischa Bartondone\n",
            "Shiv Pandittdone\n",
            "Annu Kapoordone\n",
            "Barun Sobtidone\n",
            "Rahul Bhatdone\n",
            "Aamir Khandone\n",
            "Adhyayan Sumandone\n",
            "Imran Khandone\n",
            "Naveen Kasturiadone\n",
            "Arjun Rampaldone\n",
            "Sarita Joshidone\n",
            "Kartik Aaryandone\n",
            "Juhi Chawladone\n",
            "Saif Ali Khandone\n",
            "Manisha Kelkardone\n",
            "Farooq Shaikhdone\n",
            "Akshay Kumardone\n",
            "Randeep Hoodadone\n",
            "Vivek Oberoidone\n",
            "Rajkummar Raodone\n",
            "Akashdone\n",
            "Vishwa Mohan Badoladone\n",
            "Neil Nitin Mukeshdone\n",
            "Saqib Saleemdone\n",
            "Arshad Warsidone\n",
            "Jimmy Sheirgilldone\n",
            "Asha Bhosledone\n",
            "Kamal Haasandone\n",
            "Jackky Bhagnanidone\n",
            "Aditya Roy Kapoordone\n",
            "Emraan Hashmidone\n",
            "Ajay Devgndone\n",
            "Ayushmann Khurranadone\n",
            "Vivek Oberoidone\n",
            "Vidyut Jammwaldone\n",
            "Rani Mukerjidone\n",
            "Saif Ali Khandone\n",
            "Riya Vijdone\n",
            "Arjun Kapoordone\n",
            "Preity Zintadone\n",
            "Veena Malikdone\n",
            "Ranbir Kapoordone\n",
            "Pulkit Samratdone\n",
            "Rupa Bhimanidone\n",
            "Dhanushdone\n",
            "Kay Kay Menondone\n",
            "Neil Nitin Mukeshdone\n",
            "Vidya Balandone\n",
            "Anupam Kherdone\n",
            "Sanjay Duttdone\n",
            "Farhan Akhtardone\n",
            "Wamiqa Gabbidone\n",
            "Shadab Kamaldone\n",
            "Sunil Shettydone\n",
            "Prateikdone\n",
            "Tusshar Kapoordone\n",
            "Tanuj Virwanidone\n",
            "Poonam Pandeydone\n",
            "Deepak Dobriyaldone\n",
            "Hemant Gopaldone\n",
            "Joy Mukherjeedone\n",
            "Rishi Kapoordone\n",
            "Rajesh Tailangdone\n",
            "Akshay Kumardone\n",
            "John Abrahamdone\n",
            "Amitabh Bachchandone\n",
            "Sushant Singh Rajputdone\n",
            "Shruti Haasandone\n",
            "Deepika Padukonedone\n",
            "Vivek Oberoidone\n",
            "Naseeruddin Shahdone\n",
            "Karan Kundrradone\n",
            "Shahid Kapoordone\n",
            "Aida Elkashefdone\n",
            "Irrfan Khandone\n",
            "Anisa Buttdone\n",
            "Akshay Kumardone\n",
            "Rajkummar Raodone\n",
            "Manish Pauldone\n",
            "Puneet Singh Ratndone\n",
            "Kangana Ranautdone\n",
            "Sumit Nijhawandone\n",
            "Tinnu Ananddone\n",
            "Chandan Roy Sanyaldone\n",
            "Elisha Kriisdone\n",
            "Ashmit Pateldone\n",
            "Imran Khandone\n",
            "Manu Rishi Chadhadone\n",
            "Naseeruddin Shahdone\n",
            "Paresh Rawaldone\n",
            "Saif Ali Khandone\n",
            "Aamir Khandone\n",
            "Ali Zafardone\n",
            "Ranveer Singhdone\n",
            "Sharman Joshidone\n",
            "Naseeruddin Shahdone\n",
            "Shiney Ahujadone\n",
            "Karan Sharmadone\n",
            "Sunny Deoldone\n",
            "Ranveer Singhdone\n",
            "Hrithik Roshandone\n",
            "Kareena Kapoordone\n",
            "Prateikdone\n",
            "Kiran Bhatiadone\n",
            "Bipasha Basudone\n",
            "Riteish Deshmukhdone\n",
            "Jahangir Khandone\n",
            "Irrfan Khandone\n",
            "Vidya Balandone\n",
            "Mithun Chakrabortydone\n",
            "Kareena Kapoordone\n",
            "Manish Chaudharydone\n",
            "Kavin Davedone\n",
            "Shikhi Guptadone\n",
            "Archana Joglekardone\n",
            "Tusshar Kapoordone\n",
            "Pulkit Samratdone\n",
            "Ayushmann Khurranadone\n",
            "Nikhil Dwivedidone\n",
            "Anil Kapoordone\n",
            "Karisma Kapoordone\n",
            "Arjun Kapoordone\n",
            "Sanjay Duttdone\n",
            "Gul Panagdone\n",
            "Yudhveer Bakoliyadone\n",
            "Kay Kay Menondone\n",
            "Emraan Hashmidone\n",
            "Sharman Joshidone\n",
            "Shahid Kapoordone\n",
            "Anupam Kherdone\n",
            "Anya Ananddone\n",
            "Julia Dattdone\n",
            "Manoj Bajpayeedone\n",
            "Manoj Bajpayeedone\n",
            "Saif Ali Khandone\n",
            "Naresh Sharmadone\n",
            "Riteish Deshmukhdone\n",
            "Sonu Sooddone\n",
            "Nassar Abdulladone\n",
            "Salman Khandone\n",
            "Vickrant Mahajandone\n",
            "Freny Bhagatdone\n",
            "Akshay Kumardone\n",
            "Omkar Das Manikpuridone\n",
            "Sunil Shettydone\n",
            "Manoj Bajpayeedone\n",
            "Bidita Bagdone\n",
            "Harish Chabbradone\n",
            "Ranbir Kapoordone\n",
            "Kareena Kapoordone\n",
            "Sagar Bhangadedone\n",
            "Vivek Oberoidone\n",
            "Ravi Kishandone\n",
            "Paresh Rawaldone\n",
            "Rani Mukerjidone\n",
            "Manoj Bajpayeedone\n",
            "J.D. Chakravarthidone\n",
            "Cary Elwesdone\n",
            "Arjun Rampaldone\n",
            "Alia Bhattdone\n",
            "Jackky Bhagnanidone\n",
            "Emraan Hashmidone\n",
            "Vicky Ahujadone\n",
            "Sunidhi Chauhandone\n",
            "Asranidone\n",
            "Shah Rukh Khandone\n",
            "Aamir Khandone\n",
            "Himanshu Bhattdone\n",
            "Ajay Devgndone\n",
            "Ashok Banthiadone\n",
            "Salman Khandone\n",
            "Vinod Khannadone\n",
            "Akshay Kumardone\n",
            "Amitabh Bachchandone\n",
            "Sridevidone\n",
            "Vivek Sudershandone\n",
            "Nafisa Alidone\n",
            "Mohsindone\n",
            "Prateikdone\n",
            "Gul Panagdone\n",
            "Vatsal Shethdone\n",
            "Ajay Devgndone\n",
            "Russell Geoffrey Banksdone\n",
            "Vinay Pathakdone\n",
            "Rishi Kapoordone\n",
            "Priyanka Chopradone\n",
            "Madhavandone\n",
            "Arshad Warsidone\n",
            "Deepti Navaldone\n",
            "Akshay Kumardone\n",
            "Sumit Aroradone\n",
            "Anaydone\n",
            "Om Puridone\n",
            "Abhishek Bachchandone\n",
            "Sendhil Ramamurthydone\n",
            "Darsheel Safarydone\n",
            "Vinay Pathakdone\n",
            "Ishaan Manhaasdone\n",
            "Sanjay Mishradone\n",
            "Ashutosh Ranadone\n",
            "Juhi Chawladone\n",
            "Govindadone\n",
            "Mimoh Chakrabortydone\n",
            "Tusshar Kapoordone\n",
            "Kainaz Motivaladone\n",
            "Partho A. Guptedone\n",
            "Nana Patekardone\n",
            "Sara Arjundone\n",
            "Kalki Koechlindone\n",
            "Kartik Aaryandone\n",
            "Vinay Pathakdone\n",
            "Lillete Dubeydone\n",
            "Sanjay Duttdone\n",
            "Amitabh Bachchandone\n",
            "Imran Khandone\n",
            "Emraan Hashmidone\n",
            "Aarav Khannadone\n",
            "Hrithik Roshandone\n",
            "Raghuvir Yadavdone\n",
            "Gulshan Groverdone\n",
            "Naushaad Abbasdone\n",
            "Shefali Shahdone\n",
            "Ajay Devgndone\n",
            "Rahul Jaiswaldone\n",
            "Apoorva Aroradone\n",
            "Isha Koppikardone\n",
            "Rajniesh Duggalldone\n",
            "Amitabh Bachchandone\n",
            "Sanjay Duttdone\n",
            "Anupam Kherdone\n",
            "Salman Khandone\n",
            "Deepshika Nagpaldone\n",
            "Deepak Dobriyaldone\n",
            "Tusshar Kapoordone\n",
            "Kiron Kherdone\n",
            "Imran Khandone\n",
            "Shahid Kapoordone\n",
            "Mikaaldone\n",
            "John Abrahamdone\n",
            "Jimmy Sheirgilldone\n",
            "Vinay Pathakdone\n",
            "Vinay Virmanidone\n",
            "Dev Ananddone\n",
            "Zayed Khandone\n",
            "Saqib Saleemdone\n",
            "Sachiin Joshidone\n",
            "Shah Rukh Khandone\n",
            "Ranbir Kapoordone\n",
            "Chirag Paswandone\n",
            "Dharmendradone\n",
            "Himesh Reshammiyadone\n",
            "Ranveer Singhdone\n",
            "Akshay Kumardone\n",
            "Abhishek Bachchandone\n",
            "Rani Mukerjidone\n",
            "Ajay Devgndone\n",
            "Vidya Balandone\n",
            "Priyanka Chopradone\n",
            "Shahid Kapoordone\n",
            "Prateikdone\n",
            "Salman Khandone\n",
            "Siddharthdone\n",
            "Amitabh Bachchandone\n",
            "Vidya Balandone\n",
            "Paresh Rawaldone\n",
            "Sunny Gilldone\n",
            "Shreyas Talpadedone\n",
            "Tabudone\n",
            "Shah Rukh Khandone\n",
            "Amitabh Bachchandone\n",
            "Siddhartha Guptadone\n",
            "Shah Rukh Khandone\n",
            "Tanushree Duttadone\n",
            "Paul Sidhudone\n",
            "Sunny Deoldone\n",
            "Gurdas Maandone\n",
            "Master Shamsdone\n",
            "Om Puridone\n",
            "Vikrum Kumardone\n",
            "Aditya Narayandone\n",
            "Arshad Warsidone\n",
            "Boman Iranidone\n",
            "Nana Patekardone\n",
            "Priyanka Chopradone\n",
            "Arbaaz Khandone\n",
            "Rekhadone\n",
            "Rahul Bosedone\n",
            "Nana Patekardone\n",
            "Sudeepdone\n",
            "Farooq Shaikhdone\n",
            "Rohit Roydone\n",
            "Sachin Khedekardone\n",
            "Anuj Saxenadone\n",
            "Akshay Kumardone\n",
            "Hazel Croneydone\n",
            "Sanjeev Bhaskardone\n",
            "Vivek Oberoidone\n",
            "Abhishek Bachchandone\n",
            "Atul Kulkarnidone\n",
            "Rajpal Yadavdone\n",
            "Hrithik Roshandone\n",
            "Nushrat Bharuchadone\n",
            "Kareena Kapoordone\n",
            "Bhushan Agarwaldone\n",
            "Prashant Narayanandone\n",
            "Sanjay Duttdone\n",
            "Akshay Kumardone\n",
            "Ali Zafardone\n",
            "Rajat Barmechadone\n",
            "Ajay Devgndone\n",
            "Bobby Deoldone\n",
            "Omkar Das Manikpuridone\n",
            "Neil Nitin Mukeshdone\n",
            "Gul Panagdone\n",
            "Raj Singh Chaudharydone\n",
            "John Abrahamdone\n",
            "Barkha Madandone\n",
            "Salman Khandone\n",
            "Supriya Pathakdone\n",
            "Sunil Shettydone\n",
            "Rituparna Senguptadone\n",
            "Ranvir Shoreydone\n",
            "Mallika Sherawatdone\n",
            "Emraan Hashmidone\n",
            "Rishi Kapoordone\n",
            "Ajay Devgndone\n",
            "Manoj Bajpayeedone\n",
            "Sanjay Duttdone\n",
            "John Abrahamdone\n",
            "Hrithik Roshandone\n",
            "Varun Bhagwatdone\n",
            "Deepika Padukonedone\n",
            "Sunny Deoldone\n",
            "Rajat Kapoordone\n",
            "Akankshadone\n",
            "Jimmy Sheirgilldone\n",
            "Sanjay Duttdone\n",
            "Ranveer Singhdone\n",
            "Aditya Srivastavadone\n",
            "Arunoday Singhdone\n",
            "Akshay Kumardone\n",
            "Akshay Oberoidone\n",
            "Ajay Devgndone\n",
            "Neil Nitin Mukeshdone\n",
            "Sahil Khandone\n",
            "Imran Khandone\n",
            "Sushmita Sendone\n",
            "Priyanka Chopradone\n",
            "Zeenat Amandone\n",
            "Bipasha Basudone\n",
            "Akshay Kumardone\n",
            "Aamir Khandone\n",
            "Farhan Akhtardone\n",
            "Saif Ali Khandone\n",
            "Salman Khandone\n",
            "Waheeda Rehmandone\n",
            "Kangana Ranautdone\n",
            "Hrishitaa Bhattdone\n",
            "Ranbir Kapoordone\n",
            "Asranidone\n",
            "Irrfan Khandone\n",
            "Kay Kay Menondone\n",
            "Arshad Warsidone\n",
            "Paresh Rawaldone\n",
            "Rati Agnihotridone\n",
            "Harman Bawejadone\n",
            "Shahid Kapoordone\n",
            "Fardeen Khandone\n",
            "John Abrahamdone\n",
            "Kay Kay Menondone\n",
            "Aftab Shivdasanidone\n",
            "Naseeruddin Shahdone\n",
            "Inaamulhaqdone\n",
            "Neil Nitin Mukeshdone\n",
            "Kunal Khemudone\n",
            "Bobby Deoldone\n",
            "Anitadone\n",
            "Parzaan Dasturdone\n",
            "Meghan Jadhavdone\n",
            "Shreyas Talpadedone\n",
            "John Abrahamdone\n",
            "Kay Kay Menondone\n",
            "Sanjay Duttdone\n",
            "Mithun Chakrabortydone\n",
            "Govindadone\n",
            "Sunil Shettydone\n",
            "Jackie Shroffdone\n",
            "Anupam Kherdone\n",
            "Shreyas Talpadedone\n",
            "Rishi Kapoordone\n",
            "Rajendra Prasaddone\n",
            "Arjun Rampaldone\n",
            "Mithun Chakrabortydone\n",
            "Mithun Chakrabortydone\n",
            "Bobby Deoldone\n",
            "Shahid Kapoordone\n",
            "Harman Bawejadone\n",
            "Fardeen Khandone\n",
            "Sanjay Duttdone\n",
            "Ranbir Kapoordone\n",
            "Salman Khandone\n",
            "Akshay Kumardone\n",
            "Atmaram Bhendedone\n",
            "Amitabh Bachchandone\n",
            "Salman Khandone\n",
            "Manoj Bajpayeedone\n",
            "Emraan Hashmidone\n",
            "Lewis Tandone\n",
            "Akshay Kumardone\n",
            "Amitabh Bachchandone\n",
            "Ranbir Kapoordone\n",
            "Aamir Bashirdone\n",
            "Farooq Shaikhdone\n",
            "Mithun Chakrabortydone\n",
            "Abhishek Bachchandone\n",
            "Saif Ali Khandone\n",
            "Shah Rukh Khandone\n",
            "Aamir Khandone\n",
            "Akshay Kumardone\n",
            "Ajay Devgndone\n",
            "Hrithik Roshandone\n",
            "Ranbir Kapoordone\n",
            "Amitabh Bachchandone\n",
            "Amitabh Bachchandone\n",
            "Ajay Devgndone\n",
            "Omkar Bhatkardone\n",
            "Shreyas Talpadedone\n",
            "Manisha Koiraladone\n",
            "Ajay Devgndone\n",
            "Tusshar Kapoordone\n",
            "Juhi Chawladone\n",
            "Ajay Devgndone\n",
            "Kay Kay Menondone\n",
            "Akshay Kumardone\n",
            "Dino Moreadone\n",
            "Mimoh Chakrabortydone\n",
            "Emraan Hashmidone\n",
            "Mithun Chakrabortydone\n",
            "Sikander Kherdone\n",
            "Paresh Rawaldone\n",
            "Ahraz Ahmeddone\n",
            "Aftab Shivdasanidone\n",
            "Amita Pathakdone\n",
            "Saahil Chadhadone\n",
            "Saif Ali Khandone\n",
            "Kay Kay Menondone\n",
            "Shahid Kapoordone\n",
            "Harman Bawejadone\n",
            "Adhvik Mahajandone\n",
            "Vivek Oberoidone\n",
            "Govindadone\n",
            "Amitabh Bachchandone\n",
            "Paresh Rawaldone\n",
            "Mallika Sherawatdone\n",
            "Arjun Rampaldone\n",
            "Tusshar Kapoordone\n",
            "Bobby Deoldone\n",
            "Sammir Dattanidone\n",
            "Victor Banerjeedone\n",
            "Rajniesh Duggalldone\n",
            "Amitabh Bachchandone\n",
            "Shreyas Talpadedone\n",
            "Kiron Kherdone\n",
            "Jackie Shroffdone\n",
            "Jayshree Aroradone\n",
            "Sharman Joshidone\n",
            "Himesh Reshammiyadone\n",
            "Sohail Khandone\n",
            "Saif Ali Khandone\n",
            "Isha Koppikardone\n",
            "Kamal Rashid Khandone\n",
            "Priyanka Chopradone\n",
            "Vinay Pathakdone\n",
            "Salman Khandone\n",
            "Abhay Deoldone\n",
            "Vinay Pathakdone\n",
            "Shabana Azmidone\n",
            "Manoj Bajpayeedone\n",
            "Anupam Kherdone\n",
            "Rajesh Khannadone\n",
            "Dino Moreadone\n",
            "Irrfan Khandone\n",
            "Amitabh Bachchandone\n",
            "Himesh Reshammiyadone\n",
            "Tusshar Kapoordone\n",
            "Nauheed Cyrusidone\n",
            "Madhuri Dixitdone\n",
            "Dharmendradone\n",
            "Emraan Hashmidone\n",
            "Vinay Pathakdone\n",
            "Akshay Kumardone\n",
            "Dino Moreadone\n",
            "Sunny Deoldone\n",
            "Mouli Gangulydone\n",
            "Krishna Abhishekdone\n",
            "Irrfan Khandone\n",
            "Kay Kay Menondone\n",
            "Pankaj Kapurdone\n",
            "Jazzy Doedone\n",
            "Mona Ambegaonkardone\n",
            "Ajay Devgndone\n",
            "Amitabh Bachchandone\n",
            "Jimmy Sheirgilldone\n",
            "Fardeen Khandone\n",
            "Shah Rukh Khandone\n",
            "Sanjay Duttdone\n",
            "John Abrahamdone\n",
            "Pankaj Kapurdone\n",
            "Sunil Paldone\n",
            "Muzamil Ibrahimdone\n",
            "Imaaduddin Shahdone\n",
            "Sharman Joshidone\n",
            "Abhay Deoldone\n",
            "Arjun Rampaldone\n",
            "Akshaye Khannadone\n",
            "Rishi Kapoordone\n",
            "Arbaaz Khandone\n",
            "Amitabh Bachchandone\n",
            "Gautam Guptadone\n",
            "Mohan Azaaddone\n",
            "Juanna Sanghvidone\n",
            "Mithun Chakrabortydone\n",
            "Ranvir Shoreydone\n",
            "Govindadone\n",
            "Abhishek Bachchandone\n",
            "Shahid Kapoordone\n",
            "Tusshar Kapoordone\n",
            "Shahid Kapoordone\n",
            "Shiney Ahujadone\n",
            "Dharmendradone\n",
            "Fardeen Khandone\n",
            "Tusshar Kapoordone\n",
            "Rekhadone\n",
            "Jimmy Sheirgilldone\n",
            "Rani Mukerjidone\n",
            "Dharmendradone\n",
            "Shabana Azmidone\n",
            "Abhay Deoldone\n",
            "Salman Khandone\n",
            "Menekka Aroradone\n",
            "Nana Patekardone\n",
            "Bobby Deoldone\n",
            "Linda Arseniodone\n",
            "Kal Penndone\n",
            "Akshay Kumardone\n",
            "Jason Lewisdone\n",
            "Sanjay Duttdone\n",
            "Amitabh Bachchandone\n",
            "John Abrahamdone\n",
            "Shah Rukh Khandone\n",
            "Salman Khandone\n",
            "Rahul Khannadone\n",
            "Dwij Yadavdone\n",
            "Aftab Shivdasanidone\n",
            "Vinod Khannadone\n",
            "Bobby Deoldone\n",
            "Sherlyn Chopradone\n",
            "Salman Khandone\n",
            "Rani Mukerjidone\n",
            "Mahima Chaudhrydone\n",
            "Mandar Jadhavdone\n",
            "Aftab Shivdasanidone\n",
            "Amitabh Bachchandone\n",
            "Jimmy Sheirgilldone\n",
            "Manoj Bajpayeedone\n",
            "Darsheel Safarydone\n",
            "Saif Ali Khandone\n",
            "Urmila Matondkardone\n",
            "Kunal Khemudone\n",
            "Emraan Hashmidone\n",
            "Tushar Jalotadone\n",
            "Jaya Bachchandone\n",
            "Akshay Kumardone\n",
            "Akshaye Khannadone\n",
            "Jeetendradone\n",
            "Akshaye Khannadone\n",
            "Abhay Deoldone\n",
            "Emraan Hashmidone\n",
            "Akshay Kapoordone\n",
            "Sanjay Duttdone\n",
            "Bobby Darlingdone\n",
            "Aftab Shivdasanidone\n",
            "Rekhadone\n",
            "Amitabh Bachchandone\n",
            "Rati Agnihotridone\n",
            "Rahul Devdone\n",
            "Naseeruddin Shahdone\n",
            "Urmila Matondkardone\n",
            "Juhi Chawladone\n",
            "Akshay Kumardone\n",
            "Sushmita Sendone\n",
            "Jackie Shroffdone\n",
            "Somesh Agarwaldone\n",
            "Sohail Khandone\n",
            "Kareena Kapoordone\n",
            "Bipasha Basudone\n",
            "Amitabh Bachchandone\n",
            "Rajit Kapoordone\n",
            "Emraan Hashmidone\n",
            "Ishrat Alidone\n",
            "Raj Taradone\n",
            "Hrithik Roshandone\n",
            "Ayesha Takiadone\n",
            "Shah Rukh Khandone\n",
            "Amitabh Bachchandone\n",
            "Aamir Khandone\n",
            "Kangana Ranautdone\n",
            "Ajay Devgndone\n",
            "Ram Kapoordone\n",
            "Sunil Shettydone\n",
            "Ajay Devgndone\n",
            "Akshay Kumardone\n",
            "Arjun Rampaldone\n",
            "Arjun Rampaldone\n",
            "Aftab Shivdasanidone\n",
            "Salman Khandone\n",
            "Emraan Hashmidone\n",
            "Onjolee Nairdone\n",
            "Amarjeetdone\n",
            "Anupam Kherdone\n",
            "Amitabh Bachchandone\n",
            "Rishi Kapoordone\n",
            "Sanjay Duttdone\n",
            "John Abrahamdone\n",
            "Nassar Abdulladone\n",
            "Rekhadone\n",
            "Paresh Rawaldone\n",
            "Ajay Devgndone\n",
            "Rahul Bosedone\n",
            "Sunny Deoldone\n",
            "Akshay Kumardone\n",
            "Fardeen Khandone\n",
            "Akshay Kumardone\n",
            "Jeetendradone\n",
            "Sarikadone\n",
            "Aamir Khandone\n",
            "Salman Khandone\n",
            "Govindadone\n",
            "Akshaye Khannadone\n",
            "Salman Khandone\n",
            "Mohit Ahlawatdone\n",
            "Mahima Chaudhrydone\n",
            "Ajay Devgndone\n",
            "Mohammad Amir Najidone\n",
            "Sanjay Duttdone\n",
            "Irrfan Khandone\n",
            "Aishwarya Rai Bachchandone\n",
            "Nana Patekardone\n",
            "Sunny Deoldone\n",
            "Shahid Kapoordone\n",
            "Priyanshu Chatterjeedone\n",
            "Gurdas Maandone\n",
            "Kangana Ranautdone\n",
            "Paresh Rawaldone\n",
            "Jimmy Sheirgilldone\n",
            "Sushmita Sendone\n",
            "Rakesh Bedidone\n",
            "Emraan Hashmidone\n",
            "Manisha Koiraladone\n",
            "Ajay Devgndone\n",
            "Rekhadone\n",
            "Juhi Chawladone\n",
            "Bobby Deoldone\n",
            "Anil Kapoordone\n",
            "Amitabh Bachchandone\n",
            "Sanjay Duttdone\n",
            "Abhishek Bachchandone\n",
            "Shawar Alidone\n",
            "Ali Asgardone\n",
            "Tabudone\n",
            "Ajay Devgndone\n",
            "Abhishek Bachchandone\n",
            "Aryan Vaiddone\n",
            "Jatin Grewaldone\n",
            "Samir Aftabdone\n",
            "Anil Kapoordone\n",
            "Randeep Hoodadone\n",
            "Akshay Kumardone\n",
            "Saayli Buvadone\n",
            "Bipasha Basudone\n",
            "Amitabh Bachchandone\n",
            "Akshay Kumardone\n",
            "Mithun Chakrabortydone\n",
            "Sanjay Duttdone\n",
            "Arjun Rampaldone\n",
            "Shilpa Shetty Kundradone\n",
            "Amitabh Bachchandone\n",
            "Siddharth Koiraladone\n",
            "Fardeen Khandone\n",
            "Ayesha Jhulkadone\n",
            "Aseel Adeldone\n",
            "Vivek Oberoidone\n",
            "Akshay Kumardone\n",
            "Shreyas Talpadedone\n",
            "Chiranjeevidone\n",
            "Kay Kay Menondone\n",
            "Akshay Kumardone\n",
            "Sunny Deoldone\n",
            "John Abrahamdone\n",
            "Ajay Devgndone\n",
            "Kunal Khemudone\n",
            "Lucky Alidone\n",
            "Mukesh Khannadone\n",
            "Mohit Ahlawatdone\n",
            "Vivek Oberoidone\n",
            "Aftab Shivdasanidone\n",
            "Shilpa Shetty Kundradone\n",
            "Kamal Adibdone\n",
            "Arshad Warsidone\n",
            "Tusshar Kapoordone\n",
            "Salman Khandone\n",
            "Ajay Devgndone\n",
            "Salman Khandone\n",
            "Rajpal Yadavdone\n",
            "Anupam Kherdone\n",
            "Salman Khandone\n",
            "Aamir Khandone\n",
            "Dia Mirzadone\n",
            "Dev Ananddone\n",
            "Sanjay Suridone\n",
            "Anil Kapoordone\n",
            "Urmila Matondkardone\n",
            "Uday Chopradone\n",
            "Anil Kapoordone\n",
            "Sunil Shettydone\n",
            "Konkona Sen Sharmadone\n",
            "Shabana Azmidone\n",
            "Saif Ali Khandone\n",
            "Vinod Khannadone\n",
            "Shah Rukh Khandone\n",
            "Irrfan Khandone\n",
            "Rishi Kapoordone\n",
            "Saif Ali Khandone\n",
            "Kashmira Shahdone\n",
            "Amitabh Bachchandone\n",
            "Arshad Warsidone\n",
            "Sanjay Duttdone\n",
            "Ashutosh Ranadone\n",
            "Neha Dhupiadone\n",
            "Madhavandone\n",
            "Tabudone\n",
            "Abhay Deoldone\n",
            "Zulfi Sayeddone\n",
            "Ajay Devgndone\n",
            "Nassar Abdulladone\n",
            "Arjun Rampaldone\n",
            "Shahid Kapoordone\n",
            "Aarti Chhabriadone\n",
            "Fardeen Khandone\n",
            "Amitabh Bachchandone\n",
            "Amitabh Bachchandone\n",
            "Vikram Adityadone\n",
            "Arjun Rampaldone\n",
            "Emraan Hashmidone\n",
            "Shah Rukh Khandone\n",
            "Shah Rukh Khandone\n",
            "Ajay Devgndone\n",
            "Salman Khandone\n",
            "Abhishek Bachchandone\n",
            "Amitabh Bachchandone\n",
            "Saif Ali Khandone\n",
            "Akshaye Khannadone\n",
            "Mallika Sherawatdone\n",
            "Ajay Devgndone\n",
            "Akshay Kumardone\n",
            "Amitabh Bachchandone\n",
            "Amitabh Bachchandone\n",
            "Shatrughan Sinhadone\n",
            "Bobby Deoldone\n",
            "Kareena Kapoordone\n",
            "Jimmy Sheirgilldone\n",
            "Arjun Rampaldone\n",
            "Jimmy Sheirgilldone\n",
            "Amitabh Bachchandone\n",
            "Amitabh Bachchandone\n",
            "Shahid Kapoordone\n",
            "Salman Khandone\n",
            "Jackie Shroffdone\n",
            "Naveen Bawadone\n",
            "Vikaas Kalantaridone\n",
            "Tusshar Kapoordone\n",
            "Kareena Kapoordone\n",
            "Salman Khandone\n",
            "Sunil Shettydone\n",
            "Saif Ali Khandone\n",
            "Isha Koppikardone\n",
            "Akshay Kumardone\n",
            "Aniket Vishwasraodone\n",
            "Shawar Alidone\n",
            "Tisca Chopradone\n",
            "Neha Dhupiadone\n",
            "Raqesh Bapatdone\n",
            "Manoj Bajpayeedone\n",
            "Mallika Sherawatdone\n",
            "Dino Moreadone\n",
            "Sohail Khandone\n",
            "Kiron Kherdone\n",
            "Bobby Deoldone\n",
            "Sunny Deoldone\n",
            "Sohail Khandone\n",
            "Amitabh Bachchandone\n",
            "Bipasha Basudone\n",
            "Hrithik Roshandone\n",
            "Dino Moreadone\n",
            "Irrfan Khandone\n",
            "Aftab Shivdasanidone\n",
            "Tabudone\n",
            "Anil Kapoordone\n",
            "Prithviraj Kapoordone\n",
            "Aftab Shivdasanidone\n",
            "Akshay Kumardone\n",
            "Antara Malidone\n",
            "Vinay Ananddone\n",
            "John Abrahamdone\n",
            "Salman Khandone\n",
            "Sanjay Duttdone\n",
            "Akshay Kumardone\n",
            "Manisha Koiraladone\n",
            "Akshay Kapoordone\n",
            "Sanjay Duttdone\n",
            "Ajay Devgndone\n",
            "Sanjay Duttdone\n",
            "Sanjay Suridone\n",
            "Abhishek Bachchandone\n",
            "Sunny Deoldone\n",
            "Aftab Shivdasanidone\n",
            "Shah Rukh Khandone\n",
            "Vatsal Shethdone\n",
            "Madhavandone\n",
            "Tusshar Kapoordone\n",
            "Emraan Hashmidone\n",
            "Vicky Ahujadone\n",
            "Shah Rukh Khandone\n",
            "Tarun Aroradone\n",
            "Diwakar Pathakdone\n",
            "Arya Babbardone\n",
            "Rekhadone\n",
            "Shah Rukh Khandone\n",
            "Anupam Kherdone\n",
            "Shah Rukh Khandone\n",
            "Sunny Deoldone\n",
            "Amitabh Bachchandone\n",
            "Hrithik Roshandone\n",
            "Sanjay Duttdone\n",
            "Sanjay Duttdone\n",
            "Sanjay Duttdone\n",
            "Ajay Devgndone\n",
            "Atul Kulkarnidone\n",
            "Naseeruddin Shahdone\n",
            "Arun Bakshidone\n",
            "Priyanshu Chatterjeedone\n",
            "Ajay Devgndone\n",
            "Amitabh Bachchandone\n",
            "Sudesh Berrydone\n",
            "Akshay Kumardone\n",
            "Akshay Kumardone\n",
            "Amitabh Bachchandone\n",
            "Ajay Devgndone\n",
            "Anil Kapoordone\n",
            "Jackie Shroffdone\n",
            "Sadashiv Amrapurkardone\n",
            "Sooraj Balajidone\n",
            "Arjun Rampaldone\n",
            "Sameera Reddydone\n",
            "Om Puridone\n",
            "Amar Upadhyayadone\n",
            "Zayed Khandone\n",
            "Nawazuddin Siddiquidone\n",
            "Vivek Oberoidone\n",
            "Kapil Jhaveridone\n",
            "Nandita Dasdone\n",
            "Aftab Shivdasanidone\n",
            "Manisha Koiraladone\n",
            "Rahul Bosedone\n",
            "Ajay Devgndone\n",
            "Tabudone\n",
            "Jimmy Sheirgilldone\n",
            "Sanjay Duttdone\n",
            "Akshaye Khannadone\n",
            "Vikram Dasudone\n",
            "Reef Karimdone\n",
            "Jaz Pandherdone\n",
            "Rushali Aroradone\n",
            "Ashmit Pateldone\n",
            "Sunny Deoldone\n",
            "Shahid Kapoordone\n",
            "Babbu Manndone\n",
            "Javed Jaffreydone\n",
            "Bipasha Basudone\n",
            "Sanjay Suridone\n",
            "Om Puridone\n",
            "Juhi Babbardone\n",
            "Sunny Deoldone\n",
            "Feroz Khandone\n",
            "Amit Hingoranidone\n",
            "Fardeen Khandone\n",
            "Himanshu Malikdone\n",
            "Tusshar Kapoordone\n",
            "Aishwarya Rai Bachchandone\n",
            "Antara Malidone\n",
            "Victor Banerjeedone\n",
            "Manisha Koiraladone\n",
            "Attin Bhalladone\n",
            "Riteish Deshmukhdone\n",
            "Rahul Bosedone\n",
            "Tulip Joshidone\n",
            "Ajay Devgndone\n",
            "Urmila Matondkardone\n",
            "Abhishek Bachchandone\n",
            "John Abrahamdone\n",
            "Sushmita Sendone\n",
            "Vikas Kalantridone\n",
            "Raveena Tandondone\n",
            "Tanishaa Mukerjidone\n",
            "Raveena Tandondone\n",
            "Vijay Raazdone\n",
            "Raveena Tandondone\n",
            "Tanujadone\n",
            "Ankitdone\n",
            "Sadashiv Amrapurkardone\n",
            "Salman Khandone\n",
            "Riteish Deshmukhdone\n",
            "Rakhee Gulzardone\n",
            "Shabana Azmidone\n",
            "Edwin Fernandesdone\n",
            "Tusshar Kapoordone\n",
            "Sharman Joshidone\n",
            "Dino Moreadone\n",
            "Ajay Devgndone\n",
            "Arshad Warsidone\n",
            "Shah Rukh Khandone\n",
            "Amitabh Bachchandone\n",
            "Shah Rukh Khandone\n",
            "Amitabh Bachchandone\n",
            "Vivek Oberoidone\n",
            "Ajay Devgndone\n",
            "Akshay Kumardone\n"
          ]
        }
      ]
    },
    {
      "cell_type": "code",
      "source": [
        "# arithmetic operations\n",
        "marks_df + 100"
      ],
      "metadata": {
        "colab": {
          "base_uri": "https://localhost:8080/"
        },
        "id": "mKQkqhjXQoH8",
        "outputId": "07d478ec-2d1b-4b21-8d2a-61526635044d"
      },
      "execution_count": 188,
      "outputs": [
        {
          "output_type": "execute_result",
          "data": {
            "text/plain": [
              "History    197\n",
              "Maths      200\n",
              "Science    179\n",
              "Marathi    178\n",
              "Hindi      167\n",
              "evs        190\n",
              "Name: Biru ke marks, dtype: int64"
            ]
          },
          "metadata": {},
          "execution_count": 188
        }
      ]
    },
    {
      "cell_type": "code",
      "source": [
        "marks_df - 100"
      ],
      "metadata": {
        "colab": {
          "base_uri": "https://localhost:8080/"
        },
        "id": "lSBezgWgRhhC",
        "outputId": "1ce1f308-3af7-413c-89d9-9b6d7c46fad0"
      },
      "execution_count": 190,
      "outputs": [
        {
          "output_type": "execute_result",
          "data": {
            "text/plain": [
              "History    -3\n",
              "Maths       0\n",
              "Science   -21\n",
              "Marathi   -22\n",
              "Hindi     -33\n",
              "evs       -10\n",
              "Name: Biru ke marks, dtype: int64"
            ]
          },
          "metadata": {},
          "execution_count": 190
        }
      ]
    },
    {
      "cell_type": "code",
      "source": [
        "marks_df*10"
      ],
      "metadata": {
        "colab": {
          "base_uri": "https://localhost:8080/"
        },
        "id": "7UsoNd6PSyMo",
        "outputId": "e9be8bad-082c-49fe-851e-90203272a894"
      },
      "execution_count": 192,
      "outputs": [
        {
          "output_type": "execute_result",
          "data": {
            "text/plain": [
              "History     970\n",
              "Maths      1000\n",
              "Science     790\n",
              "Marathi     780\n",
              "Hindi       670\n",
              "evs         900\n",
              "Name: Biru ke marks, dtype: int64"
            ]
          },
          "metadata": {},
          "execution_count": 192
        }
      ]
    },
    {
      "cell_type": "code",
      "source": [
        "marks_df/10"
      ],
      "metadata": {
        "colab": {
          "base_uri": "https://localhost:8080/"
        },
        "id": "ioMQ6oy5S-sI",
        "outputId": "4350a617-f20f-4afb-95f0-3a39cc3cf500"
      },
      "execution_count": 193,
      "outputs": [
        {
          "output_type": "execute_result",
          "data": {
            "text/plain": [
              "History     9.7\n",
              "Maths      10.0\n",
              "Science     7.9\n",
              "Marathi     7.8\n",
              "Hindi       6.7\n",
              "evs         9.0\n",
              "Name: Biru ke marks, dtype: float64"
            ]
          },
          "metadata": {},
          "execution_count": 193
        }
      ]
    },
    {
      "cell_type": "code",
      "source": [
        "bmovies = pd.read_csv(\"/content/movies.csv\")"
      ],
      "metadata": {
        "id": "p63snuWGTDGC"
      },
      "execution_count": 196,
      "outputs": []
    },
    {
      "cell_type": "code",
      "source": [
        "bmovies"
      ],
      "metadata": {
        "colab": {
          "base_uri": "https://localhost:8080/",
          "height": 1000
        },
        "id": "OigMwo_5TGYK",
        "outputId": "2f906270-0203-4655-9922-7368c8b62373"
      },
      "execution_count": 197,
      "outputs": [
        {
          "output_type": "execute_result",
          "data": {
            "text/plain": [
              "                                   title_x     imdb_id  \\\n",
              "0                 Uri: The Surgical Strike   tt8291224   \n",
              "1                            Battalion 609   tt9472208   \n",
              "2     The Accidental Prime Minister (film)   tt6986710   \n",
              "3                          Why Cheat India   tt8108208   \n",
              "4                          Evening Shadows   tt6028796   \n",
              "...                                    ...         ...   \n",
              "1624                 Tera Mera Saath Rahen   tt0301250   \n",
              "1625                  Yeh Zindagi Ka Safar   tt0298607   \n",
              "1626                       Sabse Bada Sukh   tt0069204   \n",
              "1627                                 Daaka  tt10833860   \n",
              "1628                              Humsafar   tt2403201   \n",
              "\n",
              "                                            poster_path  \\\n",
              "0     https://upload.wikimedia.org/wikipedia/en/thum...   \n",
              "1                                                   NaN   \n",
              "2     https://upload.wikimedia.org/wikipedia/en/thum...   \n",
              "3     https://upload.wikimedia.org/wikipedia/en/thum...   \n",
              "4                                                   NaN   \n",
              "...                                                 ...   \n",
              "1624  https://upload.wikimedia.org/wikipedia/en/2/2b...   \n",
              "1625  https://upload.wikimedia.org/wikipedia/en/thum...   \n",
              "1626                                                NaN   \n",
              "1627  https://upload.wikimedia.org/wikipedia/en/thum...   \n",
              "1628  https://upload.wikimedia.org/wikipedia/en/thum...   \n",
              "\n",
              "                                              wiki_link  \\\n",
              "0     https://en.wikipedia.org/wiki/Uri:_The_Surgica...   \n",
              "1           https://en.wikipedia.org/wiki/Battalion_609   \n",
              "2     https://en.wikipedia.org/wiki/The_Accidental_P...   \n",
              "3         https://en.wikipedia.org/wiki/Why_Cheat_India   \n",
              "4         https://en.wikipedia.org/wiki/Evening_Shadows   \n",
              "...                                                 ...   \n",
              "1624  https://en.wikipedia.org/wiki/Tera_Mera_Saath_...   \n",
              "1625  https://en.wikipedia.org/wiki/Yeh_Zindagi_Ka_S...   \n",
              "1626      https://en.wikipedia.org/wiki/Sabse_Bada_Sukh   \n",
              "1627                https://en.wikipedia.org/wiki/Daaka   \n",
              "1628             https://en.wikipedia.org/wiki/Humsafar   \n",
              "\n",
              "                            title_y                 original_title  is_adult  \\\n",
              "0          Uri: The Surgical Strike       Uri: The Surgical Strike         0   \n",
              "1                     Battalion 609                  Battalion 609         0   \n",
              "2     The Accidental Prime Minister  The Accidental Prime Minister         0   \n",
              "3                   Why Cheat India                Why Cheat India         0   \n",
              "4                   Evening Shadows                Evening Shadows         0   \n",
              "...                             ...                            ...       ...   \n",
              "1624          Tera Mera Saath Rahen          Tera Mera Saath Rahen         0   \n",
              "1625           Yeh Zindagi Ka Safar           Yeh Zindagi Ka Safar         0   \n",
              "1626                Sabse Bada Sukh                Sabse Bada Sukh         0   \n",
              "1627                          Daaka                          Daaka         0   \n",
              "1628                       Humsafar                       Humsafar         0   \n",
              "\n",
              "      year_of_release runtime            genres  imdb_rating  imdb_votes  \\\n",
              "0                2019     138  Action|Drama|War          8.4       35112   \n",
              "1                2019     131               War          4.1          73   \n",
              "2                2019     112   Biography|Drama          6.1        5549   \n",
              "3                2019     121       Crime|Drama          6.0        1891   \n",
              "4                2018     102             Drama          7.3         280   \n",
              "...               ...     ...               ...          ...         ...   \n",
              "1624             2001     148             Drama          4.9         278   \n",
              "1625             2001     146             Drama          3.0         133   \n",
              "1626             2018      \\N      Comedy|Drama          6.1          13   \n",
              "1627             2019     136            Action          7.4          38   \n",
              "1628             2011      35     Drama|Romance          9.0        2968   \n",
              "\n",
              "                                                  story  \\\n",
              "0     Divided over five chapters  the film chronicle...   \n",
              "1     The story revolves around a cricket match betw...   \n",
              "2     Based on the memoir by Indian policy analyst S...   \n",
              "3     The movie focuses on existing malpractices in ...   \n",
              "4     While gay rights and marriage equality has bee...   \n",
              "...                                                 ...   \n",
              "1624  Raj Dixit lives with his younger brother  Rahu...   \n",
              "1625  Hindi pop-star  Sarina Devan  lives a wealthy ...   \n",
              "1626  Village born Lalloo re-locates to Bombay  and ...   \n",
              "1627  Shinda tries robbing a bank so he can be wealt...   \n",
              "1628  Sara and Ashar are childhood friends who share...   \n",
              "\n",
              "                                                summary tagline  \\\n",
              "0     Indian army special forces execute a covert op...     NaN   \n",
              "1     The story of Battalion 609 revolves around a c...     NaN   \n",
              "2     Explores Manmohan Singh's tenure as the Prime ...     NaN   \n",
              "3     The movie focuses on existing malpractices in ...     NaN   \n",
              "4     Under the 'Evening Shadows'  truth often plays...     NaN   \n",
              "...                                                 ...     ...   \n",
              "1624  A man is torn between his handicapped brother ...     NaN   \n",
              "1625  A singer finds out she was adopted when the ed...     NaN   \n",
              "1626  Village born Lalloo re-locates to Bombay  and ...     NaN   \n",
              "1627  Shinda tries robbing a bank so he can be wealt...     NaN   \n",
              "1628  Ashar and Khirad are forced to get married due...     NaN   \n",
              "\n",
              "                                                 actors  \\\n",
              "0     Vicky Kaushal|Paresh Rawal|Mohit Raina|Yami Ga...   \n",
              "1     Vicky Ahuja|Shoaib Ibrahim|Shrikant Kamat|Elen...   \n",
              "2     Anupam Kher|Akshaye Khanna|Aahana Kumra|Atul S...   \n",
              "3     Emraan Hashmi|Shreya Dhanwanthary|Snighdadeep ...   \n",
              "4     Mona Ambegaonkar|Ananth Narayan Mahadevan|Deva...   \n",
              "...                                                 ...   \n",
              "1624  Ajay Devgn|Sonali Bendre|Namrata Shirodkar|Pre...   \n",
              "1625  Ameesha Patel|Jimmy Sheirgill|Nafisa Ali|Gulsh...   \n",
              "1626  Vijay Arora|Asrani|Rajni Bala|Kumud Damle|Utpa...   \n",
              "1627                          Gippy Grewal|Zareen Khan|   \n",
              "1628                                        Fawad Khan|   \n",
              "\n",
              "            wins_nominations              release_date  \n",
              "0                     4 wins     11 January 2019 (USA)  \n",
              "1                        NaN   11 January 2019 (India)  \n",
              "2                        NaN     11 January 2019 (USA)  \n",
              "3                        NaN     18 January 2019 (USA)  \n",
              "4     17 wins & 1 nomination   11 January 2019 (India)  \n",
              "...                      ...                       ...  \n",
              "1624                     NaN   7 November 2001 (India)  \n",
              "1625                     NaN  16 November 2001 (India)  \n",
              "1626                     NaN                       NaN  \n",
              "1627                     NaN     1 November 2019 (USA)  \n",
              "1628                     NaN     TV Series (2011–2012)  \n",
              "\n",
              "[1629 rows x 18 columns]"
            ],
            "text/html": [
              "\n",
              "\n",
              "  <div id=\"df-0eac22cd-cdc6-44f5-ab38-cc8c5c4c6a95\">\n",
              "    <div class=\"colab-df-container\">\n",
              "      <div>\n",
              "<style scoped>\n",
              "    .dataframe tbody tr th:only-of-type {\n",
              "        vertical-align: middle;\n",
              "    }\n",
              "\n",
              "    .dataframe tbody tr th {\n",
              "        vertical-align: top;\n",
              "    }\n",
              "\n",
              "    .dataframe thead th {\n",
              "        text-align: right;\n",
              "    }\n",
              "</style>\n",
              "<table border=\"1\" class=\"dataframe\">\n",
              "  <thead>\n",
              "    <tr style=\"text-align: right;\">\n",
              "      <th></th>\n",
              "      <th>title_x</th>\n",
              "      <th>imdb_id</th>\n",
              "      <th>poster_path</th>\n",
              "      <th>wiki_link</th>\n",
              "      <th>title_y</th>\n",
              "      <th>original_title</th>\n",
              "      <th>is_adult</th>\n",
              "      <th>year_of_release</th>\n",
              "      <th>runtime</th>\n",
              "      <th>genres</th>\n",
              "      <th>imdb_rating</th>\n",
              "      <th>imdb_votes</th>\n",
              "      <th>story</th>\n",
              "      <th>summary</th>\n",
              "      <th>tagline</th>\n",
              "      <th>actors</th>\n",
              "      <th>wins_nominations</th>\n",
              "      <th>release_date</th>\n",
              "    </tr>\n",
              "  </thead>\n",
              "  <tbody>\n",
              "    <tr>\n",
              "      <th>0</th>\n",
              "      <td>Uri: The Surgical Strike</td>\n",
              "      <td>tt8291224</td>\n",
              "      <td>https://upload.wikimedia.org/wikipedia/en/thum...</td>\n",
              "      <td>https://en.wikipedia.org/wiki/Uri:_The_Surgica...</td>\n",
              "      <td>Uri: The Surgical Strike</td>\n",
              "      <td>Uri: The Surgical Strike</td>\n",
              "      <td>0</td>\n",
              "      <td>2019</td>\n",
              "      <td>138</td>\n",
              "      <td>Action|Drama|War</td>\n",
              "      <td>8.4</td>\n",
              "      <td>35112</td>\n",
              "      <td>Divided over five chapters  the film chronicle...</td>\n",
              "      <td>Indian army special forces execute a covert op...</td>\n",
              "      <td>NaN</td>\n",
              "      <td>Vicky Kaushal|Paresh Rawal|Mohit Raina|Yami Ga...</td>\n",
              "      <td>4 wins</td>\n",
              "      <td>11 January 2019 (USA)</td>\n",
              "    </tr>\n",
              "    <tr>\n",
              "      <th>1</th>\n",
              "      <td>Battalion 609</td>\n",
              "      <td>tt9472208</td>\n",
              "      <td>NaN</td>\n",
              "      <td>https://en.wikipedia.org/wiki/Battalion_609</td>\n",
              "      <td>Battalion 609</td>\n",
              "      <td>Battalion 609</td>\n",
              "      <td>0</td>\n",
              "      <td>2019</td>\n",
              "      <td>131</td>\n",
              "      <td>War</td>\n",
              "      <td>4.1</td>\n",
              "      <td>73</td>\n",
              "      <td>The story revolves around a cricket match betw...</td>\n",
              "      <td>The story of Battalion 609 revolves around a c...</td>\n",
              "      <td>NaN</td>\n",
              "      <td>Vicky Ahuja|Shoaib Ibrahim|Shrikant Kamat|Elen...</td>\n",
              "      <td>NaN</td>\n",
              "      <td>11 January 2019 (India)</td>\n",
              "    </tr>\n",
              "    <tr>\n",
              "      <th>2</th>\n",
              "      <td>The Accidental Prime Minister (film)</td>\n",
              "      <td>tt6986710</td>\n",
              "      <td>https://upload.wikimedia.org/wikipedia/en/thum...</td>\n",
              "      <td>https://en.wikipedia.org/wiki/The_Accidental_P...</td>\n",
              "      <td>The Accidental Prime Minister</td>\n",
              "      <td>The Accidental Prime Minister</td>\n",
              "      <td>0</td>\n",
              "      <td>2019</td>\n",
              "      <td>112</td>\n",
              "      <td>Biography|Drama</td>\n",
              "      <td>6.1</td>\n",
              "      <td>5549</td>\n",
              "      <td>Based on the memoir by Indian policy analyst S...</td>\n",
              "      <td>Explores Manmohan Singh's tenure as the Prime ...</td>\n",
              "      <td>NaN</td>\n",
              "      <td>Anupam Kher|Akshaye Khanna|Aahana Kumra|Atul S...</td>\n",
              "      <td>NaN</td>\n",
              "      <td>11 January 2019 (USA)</td>\n",
              "    </tr>\n",
              "    <tr>\n",
              "      <th>3</th>\n",
              "      <td>Why Cheat India</td>\n",
              "      <td>tt8108208</td>\n",
              "      <td>https://upload.wikimedia.org/wikipedia/en/thum...</td>\n",
              "      <td>https://en.wikipedia.org/wiki/Why_Cheat_India</td>\n",
              "      <td>Why Cheat India</td>\n",
              "      <td>Why Cheat India</td>\n",
              "      <td>0</td>\n",
              "      <td>2019</td>\n",
              "      <td>121</td>\n",
              "      <td>Crime|Drama</td>\n",
              "      <td>6.0</td>\n",
              "      <td>1891</td>\n",
              "      <td>The movie focuses on existing malpractices in ...</td>\n",
              "      <td>The movie focuses on existing malpractices in ...</td>\n",
              "      <td>NaN</td>\n",
              "      <td>Emraan Hashmi|Shreya Dhanwanthary|Snighdadeep ...</td>\n",
              "      <td>NaN</td>\n",
              "      <td>18 January 2019 (USA)</td>\n",
              "    </tr>\n",
              "    <tr>\n",
              "      <th>4</th>\n",
              "      <td>Evening Shadows</td>\n",
              "      <td>tt6028796</td>\n",
              "      <td>NaN</td>\n",
              "      <td>https://en.wikipedia.org/wiki/Evening_Shadows</td>\n",
              "      <td>Evening Shadows</td>\n",
              "      <td>Evening Shadows</td>\n",
              "      <td>0</td>\n",
              "      <td>2018</td>\n",
              "      <td>102</td>\n",
              "      <td>Drama</td>\n",
              "      <td>7.3</td>\n",
              "      <td>280</td>\n",
              "      <td>While gay rights and marriage equality has bee...</td>\n",
              "      <td>Under the 'Evening Shadows'  truth often plays...</td>\n",
              "      <td>NaN</td>\n",
              "      <td>Mona Ambegaonkar|Ananth Narayan Mahadevan|Deva...</td>\n",
              "      <td>17 wins &amp; 1 nomination</td>\n",
              "      <td>11 January 2019 (India)</td>\n",
              "    </tr>\n",
              "    <tr>\n",
              "      <th>...</th>\n",
              "      <td>...</td>\n",
              "      <td>...</td>\n",
              "      <td>...</td>\n",
              "      <td>...</td>\n",
              "      <td>...</td>\n",
              "      <td>...</td>\n",
              "      <td>...</td>\n",
              "      <td>...</td>\n",
              "      <td>...</td>\n",
              "      <td>...</td>\n",
              "      <td>...</td>\n",
              "      <td>...</td>\n",
              "      <td>...</td>\n",
              "      <td>...</td>\n",
              "      <td>...</td>\n",
              "      <td>...</td>\n",
              "      <td>...</td>\n",
              "      <td>...</td>\n",
              "    </tr>\n",
              "    <tr>\n",
              "      <th>1624</th>\n",
              "      <td>Tera Mera Saath Rahen</td>\n",
              "      <td>tt0301250</td>\n",
              "      <td>https://upload.wikimedia.org/wikipedia/en/2/2b...</td>\n",
              "      <td>https://en.wikipedia.org/wiki/Tera_Mera_Saath_...</td>\n",
              "      <td>Tera Mera Saath Rahen</td>\n",
              "      <td>Tera Mera Saath Rahen</td>\n",
              "      <td>0</td>\n",
              "      <td>2001</td>\n",
              "      <td>148</td>\n",
              "      <td>Drama</td>\n",
              "      <td>4.9</td>\n",
              "      <td>278</td>\n",
              "      <td>Raj Dixit lives with his younger brother  Rahu...</td>\n",
              "      <td>A man is torn between his handicapped brother ...</td>\n",
              "      <td>NaN</td>\n",
              "      <td>Ajay Devgn|Sonali Bendre|Namrata Shirodkar|Pre...</td>\n",
              "      <td>NaN</td>\n",
              "      <td>7 November 2001 (India)</td>\n",
              "    </tr>\n",
              "    <tr>\n",
              "      <th>1625</th>\n",
              "      <td>Yeh Zindagi Ka Safar</td>\n",
              "      <td>tt0298607</td>\n",
              "      <td>https://upload.wikimedia.org/wikipedia/en/thum...</td>\n",
              "      <td>https://en.wikipedia.org/wiki/Yeh_Zindagi_Ka_S...</td>\n",
              "      <td>Yeh Zindagi Ka Safar</td>\n",
              "      <td>Yeh Zindagi Ka Safar</td>\n",
              "      <td>0</td>\n",
              "      <td>2001</td>\n",
              "      <td>146</td>\n",
              "      <td>Drama</td>\n",
              "      <td>3.0</td>\n",
              "      <td>133</td>\n",
              "      <td>Hindi pop-star  Sarina Devan  lives a wealthy ...</td>\n",
              "      <td>A singer finds out she was adopted when the ed...</td>\n",
              "      <td>NaN</td>\n",
              "      <td>Ameesha Patel|Jimmy Sheirgill|Nafisa Ali|Gulsh...</td>\n",
              "      <td>NaN</td>\n",
              "      <td>16 November 2001 (India)</td>\n",
              "    </tr>\n",
              "    <tr>\n",
              "      <th>1626</th>\n",
              "      <td>Sabse Bada Sukh</td>\n",
              "      <td>tt0069204</td>\n",
              "      <td>NaN</td>\n",
              "      <td>https://en.wikipedia.org/wiki/Sabse_Bada_Sukh</td>\n",
              "      <td>Sabse Bada Sukh</td>\n",
              "      <td>Sabse Bada Sukh</td>\n",
              "      <td>0</td>\n",
              "      <td>2018</td>\n",
              "      <td>\\N</td>\n",
              "      <td>Comedy|Drama</td>\n",
              "      <td>6.1</td>\n",
              "      <td>13</td>\n",
              "      <td>Village born Lalloo re-locates to Bombay  and ...</td>\n",
              "      <td>Village born Lalloo re-locates to Bombay  and ...</td>\n",
              "      <td>NaN</td>\n",
              "      <td>Vijay Arora|Asrani|Rajni Bala|Kumud Damle|Utpa...</td>\n",
              "      <td>NaN</td>\n",
              "      <td>NaN</td>\n",
              "    </tr>\n",
              "    <tr>\n",
              "      <th>1627</th>\n",
              "      <td>Daaka</td>\n",
              "      <td>tt10833860</td>\n",
              "      <td>https://upload.wikimedia.org/wikipedia/en/thum...</td>\n",
              "      <td>https://en.wikipedia.org/wiki/Daaka</td>\n",
              "      <td>Daaka</td>\n",
              "      <td>Daaka</td>\n",
              "      <td>0</td>\n",
              "      <td>2019</td>\n",
              "      <td>136</td>\n",
              "      <td>Action</td>\n",
              "      <td>7.4</td>\n",
              "      <td>38</td>\n",
              "      <td>Shinda tries robbing a bank so he can be wealt...</td>\n",
              "      <td>Shinda tries robbing a bank so he can be wealt...</td>\n",
              "      <td>NaN</td>\n",
              "      <td>Gippy Grewal|Zareen Khan|</td>\n",
              "      <td>NaN</td>\n",
              "      <td>1 November 2019 (USA)</td>\n",
              "    </tr>\n",
              "    <tr>\n",
              "      <th>1628</th>\n",
              "      <td>Humsafar</td>\n",
              "      <td>tt2403201</td>\n",
              "      <td>https://upload.wikimedia.org/wikipedia/en/thum...</td>\n",
              "      <td>https://en.wikipedia.org/wiki/Humsafar</td>\n",
              "      <td>Humsafar</td>\n",
              "      <td>Humsafar</td>\n",
              "      <td>0</td>\n",
              "      <td>2011</td>\n",
              "      <td>35</td>\n",
              "      <td>Drama|Romance</td>\n",
              "      <td>9.0</td>\n",
              "      <td>2968</td>\n",
              "      <td>Sara and Ashar are childhood friends who share...</td>\n",
              "      <td>Ashar and Khirad are forced to get married due...</td>\n",
              "      <td>NaN</td>\n",
              "      <td>Fawad Khan|</td>\n",
              "      <td>NaN</td>\n",
              "      <td>TV Series (2011–2012)</td>\n",
              "    </tr>\n",
              "  </tbody>\n",
              "</table>\n",
              "<p>1629 rows × 18 columns</p>\n",
              "</div>\n",
              "      <button class=\"colab-df-convert\" onclick=\"convertToInteractive('df-0eac22cd-cdc6-44f5-ab38-cc8c5c4c6a95')\"\n",
              "              title=\"Convert this dataframe to an interactive table.\"\n",
              "              style=\"display:none;\">\n",
              "\n",
              "  <svg xmlns=\"http://www.w3.org/2000/svg\" height=\"24px\"viewBox=\"0 0 24 24\"\n",
              "       width=\"24px\">\n",
              "    <path d=\"M0 0h24v24H0V0z\" fill=\"none\"/>\n",
              "    <path d=\"M18.56 5.44l.94 2.06.94-2.06 2.06-.94-2.06-.94-.94-2.06-.94 2.06-2.06.94zm-11 1L8.5 8.5l.94-2.06 2.06-.94-2.06-.94L8.5 2.5l-.94 2.06-2.06.94zm10 10l.94 2.06.94-2.06 2.06-.94-2.06-.94-.94-2.06-.94 2.06-2.06.94z\"/><path d=\"M17.41 7.96l-1.37-1.37c-.4-.4-.92-.59-1.43-.59-.52 0-1.04.2-1.43.59L10.3 9.45l-7.72 7.72c-.78.78-.78 2.05 0 2.83L4 21.41c.39.39.9.59 1.41.59.51 0 1.02-.2 1.41-.59l7.78-7.78 2.81-2.81c.8-.78.8-2.07 0-2.86zM5.41 20L4 18.59l7.72-7.72 1.47 1.35L5.41 20z\"/>\n",
              "  </svg>\n",
              "      </button>\n",
              "\n",
              "\n",
              "\n",
              "    <div id=\"df-ce726360-2ddf-4fb6-8daa-02383ce5d686\">\n",
              "      <button class=\"colab-df-quickchart\" onclick=\"quickchart('df-ce726360-2ddf-4fb6-8daa-02383ce5d686')\"\n",
              "              title=\"Suggest charts.\"\n",
              "              style=\"display:none;\">\n",
              "\n",
              "<svg xmlns=\"http://www.w3.org/2000/svg\" height=\"24px\"viewBox=\"0 0 24 24\"\n",
              "     width=\"24px\">\n",
              "    <g>\n",
              "        <path d=\"M19 3H5c-1.1 0-2 .9-2 2v14c0 1.1.9 2 2 2h14c1.1 0 2-.9 2-2V5c0-1.1-.9-2-2-2zM9 17H7v-7h2v7zm4 0h-2V7h2v10zm4 0h-2v-4h2v4z\"/>\n",
              "    </g>\n",
              "</svg>\n",
              "      </button>\n",
              "    </div>\n",
              "\n",
              "<style>\n",
              "  .colab-df-quickchart {\n",
              "    background-color: #E8F0FE;\n",
              "    border: none;\n",
              "    border-radius: 50%;\n",
              "    cursor: pointer;\n",
              "    display: none;\n",
              "    fill: #1967D2;\n",
              "    height: 32px;\n",
              "    padding: 0 0 0 0;\n",
              "    width: 32px;\n",
              "  }\n",
              "\n",
              "  .colab-df-quickchart:hover {\n",
              "    background-color: #E2EBFA;\n",
              "    box-shadow: 0px 1px 2px rgba(60, 64, 67, 0.3), 0px 1px 3px 1px rgba(60, 64, 67, 0.15);\n",
              "    fill: #174EA6;\n",
              "  }\n",
              "\n",
              "  [theme=dark] .colab-df-quickchart {\n",
              "    background-color: #3B4455;\n",
              "    fill: #D2E3FC;\n",
              "  }\n",
              "\n",
              "  [theme=dark] .colab-df-quickchart:hover {\n",
              "    background-color: #434B5C;\n",
              "    box-shadow: 0px 1px 3px 1px rgba(0, 0, 0, 0.15);\n",
              "    filter: drop-shadow(0px 1px 2px rgba(0, 0, 0, 0.3));\n",
              "    fill: #FFFFFF;\n",
              "  }\n",
              "</style>\n",
              "\n",
              "    <script>\n",
              "      async function quickchart(key) {\n",
              "        const containerElement = document.querySelector('#' + key);\n",
              "        const charts = await google.colab.kernel.invokeFunction(\n",
              "            'suggestCharts', [key], {});\n",
              "      }\n",
              "    </script>\n",
              "\n",
              "      <script>\n",
              "\n",
              "function displayQuickchartButton(domScope) {\n",
              "  let quickchartButtonEl =\n",
              "    domScope.querySelector('#df-ce726360-2ddf-4fb6-8daa-02383ce5d686 button.colab-df-quickchart');\n",
              "  quickchartButtonEl.style.display =\n",
              "    google.colab.kernel.accessAllowed ? 'block' : 'none';\n",
              "}\n",
              "\n",
              "        displayQuickchartButton(document);\n",
              "      </script>\n",
              "      <style>\n",
              "    .colab-df-container {\n",
              "      display:flex;\n",
              "      flex-wrap:wrap;\n",
              "      gap: 12px;\n",
              "    }\n",
              "\n",
              "    .colab-df-convert {\n",
              "      background-color: #E8F0FE;\n",
              "      border: none;\n",
              "      border-radius: 50%;\n",
              "      cursor: pointer;\n",
              "      display: none;\n",
              "      fill: #1967D2;\n",
              "      height: 32px;\n",
              "      padding: 0 0 0 0;\n",
              "      width: 32px;\n",
              "    }\n",
              "\n",
              "    .colab-df-convert:hover {\n",
              "      background-color: #E2EBFA;\n",
              "      box-shadow: 0px 1px 2px rgba(60, 64, 67, 0.3), 0px 1px 3px 1px rgba(60, 64, 67, 0.15);\n",
              "      fill: #174EA6;\n",
              "    }\n",
              "\n",
              "    [theme=dark] .colab-df-convert {\n",
              "      background-color: #3B4455;\n",
              "      fill: #D2E3FC;\n",
              "    }\n",
              "\n",
              "    [theme=dark] .colab-df-convert:hover {\n",
              "      background-color: #434B5C;\n",
              "      box-shadow: 0px 1px 3px 1px rgba(0, 0, 0, 0.15);\n",
              "      filter: drop-shadow(0px 1px 2px rgba(0, 0, 0, 0.3));\n",
              "      fill: #FFFFFF;\n",
              "    }\n",
              "  </style>\n",
              "\n",
              "      <script>\n",
              "        const buttonEl =\n",
              "          document.querySelector('#df-0eac22cd-cdc6-44f5-ab38-cc8c5c4c6a95 button.colab-df-convert');\n",
              "        buttonEl.style.display =\n",
              "          google.colab.kernel.accessAllowed ? 'block' : 'none';\n",
              "\n",
              "        async function convertToInteractive(key) {\n",
              "          const element = document.querySelector('#df-0eac22cd-cdc6-44f5-ab38-cc8c5c4c6a95');\n",
              "          const dataTable =\n",
              "            await google.colab.kernel.invokeFunction('convertToInteractive',\n",
              "                                                     [key], {});\n",
              "          if (!dataTable) return;\n",
              "\n",
              "          const docLinkHtml = 'Like what you see? Visit the ' +\n",
              "            '<a target=\"_blank\" href=https://colab.research.google.com/notebooks/data_table.ipynb>data table notebook</a>'\n",
              "            + ' to learn more about interactive tables.';\n",
              "          element.innerHTML = '';\n",
              "          dataTable['output_type'] = 'display_data';\n",
              "          await google.colab.output.renderOutput(dataTable, element);\n",
              "          const docLink = document.createElement('div');\n",
              "          docLink.innerHTML = docLinkHtml;\n",
              "          element.appendChild(docLink);\n",
              "        }\n",
              "      </script>\n",
              "    </div>\n",
              "  </div>\n"
            ]
          },
          "metadata": {},
          "execution_count": 197
        }
      ]
    },
    {
      "cell_type": "code",
      "source": [
        "'done' + bmovies['genres']"
      ],
      "metadata": {
        "colab": {
          "base_uri": "https://localhost:8080/"
        },
        "id": "-_MQBKchTZqY",
        "outputId": "9e607802-4bd2-4bf3-a3b1-aef2f9092b0f"
      },
      "execution_count": 202,
      "outputs": [
        {
          "output_type": "execute_result",
          "data": {
            "text/plain": [
              "0       doneAction|Drama|War\n",
              "1                    doneWar\n",
              "2        doneBiography|Drama\n",
              "3            doneCrime|Drama\n",
              "4                  doneDrama\n",
              "                ...         \n",
              "1624               doneDrama\n",
              "1625               doneDrama\n",
              "1626        doneComedy|Drama\n",
              "1627              doneAction\n",
              "1628       doneDrama|Romance\n",
              "Name: genres, Length: 1629, dtype: object"
            ]
          },
          "metadata": {},
          "execution_count": 202
        }
      ]
    },
    {
      "cell_type": "code",
      "source": [
        "str(100) + bmovies['genres']"
      ],
      "metadata": {
        "colab": {
          "base_uri": "https://localhost:8080/"
        },
        "id": "QR7Xq7UgTiRx",
        "outputId": "919c622e-4f0e-4f1b-96c6-c2cbb8ce91ee"
      },
      "execution_count": 204,
      "outputs": [
        {
          "output_type": "execute_result",
          "data": {
            "text/plain": [
              "0       100Action|Drama|War\n",
              "1                    100War\n",
              "2        100Biography|Drama\n",
              "3            100Crime|Drama\n",
              "4                  100Drama\n",
              "               ...         \n",
              "1624               100Drama\n",
              "1625               100Drama\n",
              "1626        100Comedy|Drama\n",
              "1627              100Action\n",
              "1628       100Drama|Romance\n",
              "Name: genres, Length: 1629, dtype: object"
            ]
          },
          "metadata": {},
          "execution_count": 204
        }
      ]
    },
    {
      "cell_type": "code",
      "source": [
        "# relational operators\n",
        "\n",
        "vk[vk >= 50]"
      ],
      "metadata": {
        "colab": {
          "base_uri": "https://localhost:8080/"
        },
        "id": "Nf3S7w_5V8IO",
        "outputId": "7c125eaf-c64c-46b7-d9fb-d279e501e157"
      },
      "execution_count": 206,
      "outputs": [
        {
          "output_type": "execute_result",
          "data": {
            "text/plain": [
              "match_no\n",
              "15      50\n",
              "34      58\n",
              "41      71\n",
              "44      56\n",
              "45      67\n",
              "52      70\n",
              "57      57\n",
              "68      73\n",
              "71      51\n",
              "73      58\n",
              "74      65\n",
              "80      57\n",
              "81      93\n",
              "82      99\n",
              "85      56\n",
              "97      67\n",
              "99      73\n",
              "103     51\n",
              "104     62\n",
              "110     82\n",
              "116     75\n",
              "117     79\n",
              "119     80\n",
              "120    100\n",
              "122     52\n",
              "123    108\n",
              "126    109\n",
              "127     75\n",
              "128    113\n",
              "129     54\n",
              "131     54\n",
              "132     62\n",
              "134     64\n",
              "137     55\n",
              "141     58\n",
              "144     57\n",
              "145     92\n",
              "148     68\n",
              "152     70\n",
              "160     84\n",
              "162     67\n",
              "164    100\n",
              "175     72\n",
              "178     90\n",
              "182     50\n",
              "188     72\n",
              "197     51\n",
              "198     53\n",
              "209     58\n",
              "213     73\n",
              "Name: runs, dtype: int64"
            ]
          },
          "metadata": {},
          "execution_count": 206
        }
      ]
    },
    {
      "cell_type": "code",
      "source": [
        "vk[vk >= 50].size"
      ],
      "metadata": {
        "colab": {
          "base_uri": "https://localhost:8080/"
        },
        "id": "nFkLeCj0WLBy",
        "outputId": "d5de06f4-baf1-4c2c-ab94-403eb05a6d95"
      },
      "execution_count": 208,
      "outputs": [
        {
          "output_type": "execute_result",
          "data": {
            "text/plain": [
              "50"
            ]
          },
          "metadata": {},
          "execution_count": 208
        }
      ]
    },
    {
      "cell_type": "code",
      "source": [
        "vk[vk == 0].size"
      ],
      "metadata": {
        "colab": {
          "base_uri": "https://localhost:8080/"
        },
        "id": "EJNDQyhmWlca",
        "outputId": "be97f412-ea67-4b71-cc38-a107e3cf10f1"
      },
      "execution_count": 211,
      "outputs": [
        {
          "output_type": "execute_result",
          "data": {
            "text/plain": [
              "9"
            ]
          },
          "metadata": {},
          "execution_count": 211
        }
      ]
    },
    {
      "cell_type": "code",
      "source": [
        "# find actors who have done more than 20 movies\n",
        "num_movies = movies.value_counts()\n",
        "num_movies[num_movies > 20]"
      ],
      "metadata": {
        "colab": {
          "base_uri": "https://localhost:8080/"
        },
        "id": "XoMzNDlzWwEI",
        "outputId": "f6730a27-cfd4-4486-f69a-26bf3580b9df"
      },
      "execution_count": 226,
      "outputs": [
        {
          "output_type": "execute_result",
          "data": {
            "text/plain": [
              "Akshay Kumar        48\n",
              "Amitabh Bachchan    45\n",
              "Ajay Devgn          38\n",
              "Salman Khan         31\n",
              "Sanjay Dutt         26\n",
              "Shah Rukh Khan      22\n",
              "Emraan Hashmi       21\n",
              "Name: lead, dtype: int64"
            ]
          },
          "metadata": {},
          "execution_count": 226
        }
      ]
    },
    {
      "cell_type": "code",
      "source": [],
      "metadata": {
        "id": "l9WxmE4aXBrR"
      },
      "execution_count": null,
      "outputs": []
    }
  ]
}